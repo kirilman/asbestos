{
 "cells": [
  {
   "cell_type": "code",
   "execution_count": 249,
   "id": "worst-genius",
   "metadata": {},
   "outputs": [
    {
     "name": "stdout",
     "output_type": "stream",
     "text": [
      "Requirement already satisfied: pyyaml==5.1 in /home/kirill/anaconda3/envs/conda_3.8/lib/python3.8/site-packages (5.1)\n"
     ]
    }
   ],
   "source": [
    "try:\n",
    "    import  pyyaml\n",
    "except:\n",
    "  !pip install pyyaml==5.1\n",
    "from pycocotools.coco import COCO\n",
    "import os\n",
    "from PIL import Image\n",
    "import skimage.io as io\n",
    "\n",
    "import os\n",
    "from pathlib import Path\n",
    "import pandas as pd\n",
    "import json\n",
    "import time\n",
    "import datetime\n",
    "\n",
    "import numpy as np\n",
    "import matplotlib.pyplot as plt\n",
    "import os, json, cv2, random\n",
    "\n",
    "# from google.colab.patches import cv2_imshow\n",
    "\n",
    "import matplotlib.patches as patches\n",
    "import matplotlib\n",
    "import matplotlib.colors as mcolors\n",
    "plt.rcParams.update({'font.size': 22})\n",
    "style_label = 'fivethirtyeight' #plt.style.available \n",
    "try:\n",
    "    import dsatools \n",
    "except:\n",
    "    !pip install dsatools\n",
    "finally:\n",
    "    import dsatools.utilits as ut\n",
    "from datetime import datetime"
   ]
  },
  {
   "cell_type": "code",
   "execution_count": 110,
   "id": "lyric-department",
   "metadata": {},
   "outputs": [],
   "source": [
    "def coco_datasets_info(list_images, list_anno):\n",
    "\n",
    "    datasets_list = list()\n",
    "\n",
    "    for i in range(len(list_anno)):\n",
    "\n",
    "        if os.path.exists(list_anno[i]) and os.path.exists(list_images[i]): \n",
    "\n",
    "\n",
    "            dict_json = load_coco_json(json_file = list_anno[i], \n",
    "                                image_root = list_images[i], \n",
    "                                dataset_name = 'None',\n",
    "                                extra_annotation_keys = None)\n",
    "            dataset_info_dict = dict()      \n",
    "            \n",
    "            # dict_json = corret_coco_json_path(dict_json, list_images[i])\n",
    "\n",
    "            name_dataset = os.path.split(os.path.split(os.path.split(list_anno[i])[0])[0])[1]\n",
    "\n",
    "            dataset_info_dict['name']   = name_dataset\n",
    "            dataset_info_dict['length'] = len(dict_json)\n",
    "\n",
    "            df = pd.DataFrame(dict_json)\n",
    "\n",
    "            dataset_info_dict['anno_path'] = list_anno[i]\n",
    "            dataset_info_dict['image_path'] = list_images[i]\n",
    "\n",
    "            dataset_info_dict['height'] = list(set(df['height']))\n",
    "            dataset_info_dict['width']  = list(set(df['width']))\n",
    "\n",
    "            coco=COCO(list_anno[i], )\n",
    "\n",
    "            dataset_info_dict['anno_number'] = len(coco.anns)\n",
    "\n",
    "            cats = coco.loadCats(coco.getCatIds())\n",
    "\n",
    "            class_id = [cat['id'] for cat in cats]\n",
    "            class_names = [cat['name'] for cat in cats]\n",
    "\n",
    "            dataset_info_dict['class_id']  = class_id\n",
    "            dataset_info_dict['class_names']  = class_names\n",
    "\n",
    "            dataset_info_dict['COCO_obj']  = coco\n",
    "\n",
    "            datasets_list +=[dataset_info_dict]\n",
    "    return datasets_list"
   ]
  },
  {
   "cell_type": "code",
   "execution_count": 111,
   "id": "compressed-bowling",
   "metadata": {},
   "outputs": [
    {
     "name": "stdout",
     "output_type": "stream",
     "text": [
      "/home/kirill/Учеба/asbestos/PitStonesData\n"
     ]
    },
    {
     "data": {
      "text/plain": [
       "['pits_stones_020221',\n",
       " 'pits_stones_300920',\n",
       " 'pits_stones_161120',\n",
       " 'pits_stones_111121',\n",
       " 'asbestos_stone_lab_common_camera',\n",
       " 'drive-download-20220131T131533Z-001.zip',\n",
       " 'pits_stones_161220',\n",
       " 'coco_eval',\n",
       " 'stones_transport']"
      ]
     },
     "execution_count": 111,
     "metadata": {},
     "output_type": "execute_result"
    }
   ],
   "source": [
    "path = os.getcwd()\n",
    "path = path[:path.find('src')]\n",
    "path_2_project = os.path.join(path,'PitStonesData')\n",
    "print(path_2_project)\n",
    "list_project_dir =os.listdir(path_2_project)\n",
    "list_project_dir"
   ]
  },
  {
   "cell_type": "code",
   "execution_count": 112,
   "id": "enormous-symbol",
   "metadata": {},
   "outputs": [
    {
     "data": {
      "text/plain": [
       "(['/home/kirill/Учеба/asbestos/PitStonesData/pits_stones_020221/images',\n",
       "  '/home/kirill/Учеба/asbestos/PitStonesData/pits_stones_300920/images',\n",
       "  '/home/kirill/Учеба/asbestos/PitStonesData/pits_stones_161120/images',\n",
       "  '/home/kirill/Учеба/asbestos/PitStonesData/pits_stones_111121/images',\n",
       "  '/home/kirill/Учеба/asbestos/PitStonesData/asbestos_stone_lab_common_camera/images',\n",
       "  '/home/kirill/Учеба/asbestos/PitStonesData/drive-download-20220131T131533Z-001.zip/images',\n",
       "  '/home/kirill/Учеба/asbestos/PitStonesData/pits_stones_161220/images',\n",
       "  '/home/kirill/Учеба/asbestos/PitStonesData/coco_eval/images',\n",
       "  '/home/kirill/Учеба/asbestos/PitStonesData/stones_transport/images'],\n",
       " ['/home/kirill/Учеба/asbestos/PitStonesData/pits_stones_020221/annotations/instances_default.json',\n",
       "  '/home/kirill/Учеба/asbestos/PitStonesData/pits_stones_300920/annotations/instances_default.json',\n",
       "  '/home/kirill/Учеба/asbestos/PitStonesData/pits_stones_161120/annotations/instances_default.json',\n",
       "  '/home/kirill/Учеба/asbestos/PitStonesData/pits_stones_111121/annotations/instances_default.json',\n",
       "  '/home/kirill/Учеба/asbestos/PitStonesData/asbestos_stone_lab_common_camera/annotations/instances_default.json',\n",
       "  '/home/kirill/Учеба/asbestos/PitStonesData/drive-download-20220131T131533Z-001.zip/annotations/instances_default.json',\n",
       "  '/home/kirill/Учеба/asbestos/PitStonesData/pits_stones_161220/annotations/instances_default.json',\n",
       "  '/home/kirill/Учеба/asbestos/PitStonesData/coco_eval/annotations/instances_default.json',\n",
       "  '/home/kirill/Учеба/asbestos/PitStonesData/stones_transport/annotations/instances_default.json'])"
      ]
     },
     "execution_count": 112,
     "metadata": {},
     "output_type": "execute_result"
    }
   ],
   "source": [
    "list_images = [os.path.join(path_2_project,data_pth,'images') for data_pth in list_project_dir]\n",
    "list_anno   = [os.path.join(path_2_project,data_pth,'annotations','instances_default.json') for data_pth in list_project_dir]\n",
    "list_images, list_anno"
   ]
  },
  {
   "cell_type": "code",
   "execution_count": 113,
   "id": "dynamic-harrison",
   "metadata": {},
   "outputs": [
    {
     "name": "stdout",
     "output_type": "stream",
     "text": [
      "torch:  1.10 ; cuda:  cu102 \n",
      " ----------\n"
     ]
    }
   ],
   "source": [
    "import torch\n",
    "\n",
    "TORCH_VERSION = \".\".join(torch.__version__.split(\".\")[:2])\n",
    "CUDA_VERSION  = torch.__version__.split(\"+\")[-1]\n",
    "print(\"torch: \", TORCH_VERSION, \"; cuda: \", CUDA_VERSION, '\\n', 10*'-')\n",
    "\n",
    "try:\n",
    "    import detectron2\n",
    "except:\n",
    "  # Install detectron2 that matches the above pytorch version\n",
    "  # See https://detectron2.readthedocs.io/tutorials/install.html for instructions\n",
    "    !pip install detectron2 -f https://dl.fbaipublicfiles.com/detectron2/wheels/$CUDA_VERSION/torch$TORCH_VERSION/index.html\n",
    "\n",
    "  # If there is not yet a detectron2 release that matches the given torch + CUDA version, you need to install a different pytorch.\n",
    "    exit(0)  # After installation, you may need to \"restart runtime\" in Colab. This line can also restart runtime\n",
    "    \n",
    "from detectron2.data.datasets    import register_coco_instances, load_coco_json"
   ]
  },
  {
   "cell_type": "code",
   "execution_count": 114,
   "id": "rotary-rehabilitation",
   "metadata": {},
   "outputs": [
    {
     "name": "stdout",
     "output_type": "stream",
     "text": [
      "loading annotations into memory...\n",
      "Done (t=0.02s)\n",
      "creating index...\n",
      "index created!\n",
      "loading annotations into memory...\n",
      "Done (t=0.02s)\n",
      "creating index...\n",
      "index created!\n",
      "loading annotations into memory...\n",
      "Done (t=0.12s)\n",
      "creating index...\n",
      "index created!\n",
      "loading annotations into memory...\n",
      "Done (t=0.03s)\n",
      "creating index...\n",
      "index created!\n",
      "loading annotations into memory...\n",
      "Done (t=0.04s)\n",
      "creating index...\n",
      "index created!\n",
      "loading annotations into memory...\n",
      "Done (t=0.13s)\n",
      "creating index...\n",
      "index created!\n",
      "loading annotations into memory...\n",
      "Done (t=0.09s)\n",
      "creating index...\n",
      "index created!\n"
     ]
    }
   ],
   "source": [
    "coco_datasets_list = coco_datasets_info(list_images, list_anno);"
   ]
  },
  {
   "cell_type": "code",
   "execution_count": 260,
   "id": "perfect-player",
   "metadata": {},
   "outputs": [
    {
     "data": {
      "text/plain": [
       "name           pits_stones_020221pits_stones_300920pits_stone...\n",
       "length                                                       311\n",
       "anno_path      /home/kirill/Учеба/asbestos/PitStonesData/pits...\n",
       "image_path     /home/kirill/Учеба/asbestos/PitStonesData/pits...\n",
       "height          [2048, 2048, 2048, 2048, 3456, 5184, 2048, 2048]\n",
       "width           [2592, 2592, 2592, 2592, 5184, 3456, 2592, 2592]\n",
       "anno_number                                                12926\n",
       "class_id              [1, 2, 1, 2, 1, 2, 1, 2, 1, 2, 1, 2, 1, 2]\n",
       "class_names    [stone, asbest, stone, asbest, stone, asbest, ...\n",
       "dtype: object"
      ]
     },
     "execution_count": 260,
     "metadata": {},
     "output_type": "execute_result"
    }
   ],
   "source": [
    "df= pd.DataFrame(coco_datasets_list)\n",
    "df.sum()"
   ]
  },
  {
   "cell_type": "code",
   "execution_count": 280,
   "id": "heavy-globe",
   "metadata": {},
   "outputs": [],
   "source": [
    "import csv \n",
    "\n",
    "def get_time_date(s):\n",
    "    l = s.split('.')\n",
    "    if len(l) == 2:\n",
    "        s=l[0]\n",
    "    elif len(l) == 3:\n",
    "        s=l[1]\n",
    "    s = s.split('/')[-1]\n",
    "    if len(s.split('-')) == 6:\n",
    "        return datetime.strptime(s.split('_')[1], '%d-%m-%Y-%H-%M-%S')\n",
    "    elif len(s.split('_')) == 4:\n",
    "        if len(s.split(':')) == 3:\n",
    "            l = s.split('_')\n",
    "            s = l[1]+'_' + l[2]\n",
    "            return datetime.strptime(s, '%H:%M:%S_%d-%m-%Y')  \n",
    "        else:\n",
    "            return datetime.strptime(s.split('Image_')[1], '%H_%M_%S')      \n",
    "i = 1\n",
    "with open('image_times.csv','w',newline='') as csvfile:\n",
    "    for coco_dataset in coco_datasets_list:\n",
    "        for c in coco_dataset['COCO_obj'].dataset['images']:\n",
    "            date = get_time_date(c['file_name'])\n",
    "            if date:\n",
    "                d = {'dataset':coco_dataset['name'], 'name':c['file_name'].split('/')[-1], 'time': str(date.time()), 'date': str(date.date())}\n",
    "            else:\n",
    "                d = {'dataset':coco_dataset['name'], 'name':c['file_name'].split('/')[-1], 'time': None, 'date': None}\n",
    "            writer = csv.writer(csvfile, delimiter=';',quoting=csv.QUOTE_MINIMAL)\n",
    "            writer.writerow(d.values())\n",
    "            i+=1"
   ]
  },
  {
   "cell_type": "code",
   "execution_count": 278,
   "id": "virgin-trademark",
   "metadata": {},
   "outputs": [
    {
     "data": {
      "text/plain": [
       "<_csv.writer at 0x7fe2037fb630>"
      ]
     },
     "execution_count": 278,
     "metadata": {},
     "output_type": "execute_result"
    }
   ],
   "source": [
    "writer"
   ]
  },
  {
   "cell_type": "code",
   "execution_count": 124,
   "id": "blank-lesbian",
   "metadata": {},
   "outputs": [
    {
     "name": "stdout",
     "output_type": "stream",
     "text": [
      "/home/kirill/Учеба/asbestos/PitStonesData/pits_stones_020221/images\n",
      "asbestos\n",
      "/home/kirill/Учеба/asbestos/PitStonesData/pits_stones_300920/images\n",
      "asbestos\n",
      "/home/kirill/Учеба/asbestos/PitStonesData/pits_stones_161120/images\n",
      "asbestos\n",
      "/home/kirill/Учеба/asbestos/PitStonesData/pits_stones_111121/images\n",
      "ManualGeneralImage_13_58_58.bmp\n",
      "GeneralImage_11-11-2021-13-34-14.bmp\n",
      "ManualGeneralImage_14_01_51.bmp\n",
      "ManualGeneralImage_13_55_25.bmp\n",
      "GeneralImage_11-11-2021-13-43-18.bmp\n",
      "ManualGeneralImage_13_59_48.bmp\n",
      "ManualGeneralImage_13_56_14.bmp\n",
      "ManualGeneralImage_13_45_07.bmp\n",
      "ManualGeneralImage_14_00_56.bmp\n",
      "GeneralImage_11-11-2021-12-24-03.bmp\n",
      "ManualGeneralImage_12_54_52.bmp\n",
      "ManualGeneralImage_12_54_15.bmp\n",
      "ManualGeneralImage_13_36_55.bmp\n",
      "GeneralImage_11-11-2021-13-27-54.bmp\n",
      "GeneralImage_11-11-2021-13-24-49.bmp\n",
      "ManualGeneralImage_13_37_47.bmp\n",
      "ManualGeneralImage_12_55_46.bmp\n",
      "ManualGeneralImage_13_53_22.bmp\n",
      "ManualGeneralImage_13_38_41.bmp\n",
      "/home/kirill/Учеба/asbestos/PitStonesData/asbestos_stone_lab_common_camera/images\n",
      "asbestos\n",
      "/home/kirill/Учеба/asbestos/PitStonesData/pits_stones_161220/images\n",
      "asbestos\n",
      "/home/kirill/Учеба/asbestos/PitStonesData/stones_transport/images\n",
      "19_14_11_45_05-03-2020_1.jpg\n",
      "19_14_11_19_05-03-2020_1.jpg\n",
      "12_12_02_12_16-03-2020_1.jpg\n",
      "18_14_09_37_05-03-2020_1.jpg\n",
      "1_12_08_09_05-03-2020_1.jpg\n",
      "14_12_08_17_16-03-2020_1.jpg\n",
      "3_11_37_56_16-03-2020_1.jpg\n",
      "1_11_33_06_16-03-2020_1.jpg\n",
      "6_11_45_54_16-03-2020_1.jpg\n",
      "16_14_02_33_05-03-2020_1.jpg\n",
      "29_13_44_39_16-03-2020_1.jpg\n",
      "24_13_28_55_16-03-2020_1.jpg\n",
      "16_12_14_51_16-03-2020_1.jpg\n",
      "20_12_23_59_16-03-2020_1.jpg\n",
      "11_11_59_43_16-03-2020_1.jpg\n",
      "2_12_15_17_05-03-2020_1.jpg\n",
      "26_13_35_04_16-03-2020_1.jpg\n",
      "6_12_32_19_05-03-2020_1.jpg\n",
      "5_11_44_15_16-03-2020_1.jpg\n",
      "9_12_39_56_05-03-2020_1.jpg\n",
      "17_14_04_43_05-03-2020_1.jpg\n",
      "16_14_03_05_05-03-2020_1.jpg\n",
      "18_12_19_29_16-03-2020_1.jpg\n",
      "28_13_41_54_16-03-2020_1.jpg\n",
      "24_13_28_35_16-03-2020_1.jpg\n",
      "22_13_22_01_16-03-2020_1.jpg\n",
      "12_12_48_36_05-03-2020_1.jpg\n",
      "13_12_04_42_16-03-2020_1.jpg\n",
      "2_11_35_29_16-03-2020_1.jpg\n",
      "28_13_41_08_16-03-2020_1.jpg\n",
      "22_13_22_21_16-03-2020_1.jpg\n",
      "1_12_08_11_05-03-2020_1.jpg\n",
      "6_11_46_20_16-03-2020_1.jpg\n",
      "20_12_24_58_16-03-2020_1.jpg\n",
      "15_14_00_15_05-03-2020_1.jpg\n",
      "3_12_18_22_05-03-2020_1.jpg\n",
      "4_12_26_48_05-03-2020_1.jpg\n",
      "4_11_40_26_16-03-2020_1.jpg\n",
      "19_12_23_00_16-03-2020_1.jpg\n",
      "14_13_57_44_05-03-2020_1.jpg\n",
      "20_14_15_24_05-03-2020_1.jpg\n",
      "1_11_32_12_16-03-2020_1.jpg\n",
      "7_11_48_42_16-03-2020_1.jpg\n",
      "24_13_29_16_16-03-2020_1.jpg\n",
      "13_12_05_05_16-03-2020_1.jpg\n",
      "20_14_14_57_05-03-2020_1.jpg\n",
      "13_12_04_15_16-03-2020_1.jpg\n",
      "15_12_10_47_16-03-2020_1.jpg\n",
      "2_11_35_06_16-03-2020_1.jpg\n",
      "17_12_16_32_16-03-2020_1.jpg\n",
      "5_12_29_51_05-03-2020_1.jpg\n",
      "23_13_24_36_16-03-2020_1.jpg\n",
      "2_11_34_42_16-03-2020_1.jpg\n",
      "18_12_19_04_16-03-2020_1.jpg\n",
      "23_13_24_08_16-03-2020_1.jpg\n",
      "7_12_34_40_05-03-2020_1.jpg\n",
      "12_12_01_50_16-03-2020_1.jpg\n",
      "6_12_32_48_05-03-2020_1.jpg\n",
      "9_11_53_29_16-03-2020_1.jpg\n",
      "16_14_03_00_05-03-2020_1.jpg\n",
      "27_13_39_02_16-03-2020_1.jpg\n",
      "12_12_47_59_05-03-2020_1.jpg\n",
      "1_11_32_39_16-03-2020_1.jpg\n",
      "14_12_08_37_16-03-2020_1.jpg\n",
      "11_12_00_06_16-03-2020_1.jpg\n",
      "8_12_37_40_05-03-2020_1.jpg\n",
      "6_11_46_44_16-03-2020_1.jpg\n",
      "8_11_50_57_16-03-2020_1.jpg\n",
      "22_13_21_36_16-03-2020_1.jpg\n",
      "8_11_51_18_16-03-2020_1.jpg\n",
      "26_13_34_27_16-03-2020_1.jpg\n",
      "7_11_48_09_16-03-2020_1.jpg\n",
      "1_12_09_40_05-03-2020_1.jpg\n",
      "16_12_14_31_16-03-2020_1.jpg\n",
      "20_12_24_10_16-03-2020_1.jpg\n",
      "7_12_35_02_05-03-2020_1.jpg\n",
      "10_11_56_13_16-03-2020_1.jpg\n",
      "13_13_55_18_05-03-2020_1.jpg\n",
      "19_12_22_16_16-03-2020_1.jpg\n",
      "17_12_16_52_16-03-2020_1.jpg\n",
      "10_11_57_04_16-03-2020_1.jpg\n",
      "18_12_19_48_16-03-2020_1.jpg\n",
      "16_12_14_10_16-03-2020_1.jpg\n",
      "20_12_24_33_16-03-2020_1.jpg\n",
      "10_11_56_42_16-03-2020_1.jpg\n",
      "11_12_46_26_05-03-2020_1.jpg\n",
      "5_12_30_15_05-03-2020_1.jpg\n",
      "5_11_43_23_16-03-2020_1.jpg\n",
      "4_12_27_13_05-03-2020_1.jpg\n",
      "11_11_59_20_16-03-2020_1.jpg\n",
      "17_14_05_09_05-03-2020_1.jpg\n",
      "17_12_17_10_16-03-2020_1.jpg\n",
      "3_12_19_16_05-03-2020_1.jpg\n",
      "8_11_51_37_16-03-2020_1.jpg\n",
      "30_13_46_56_16-03-2020_1.jpg\n",
      "29_13_45_27_16-03-2020_1.jpg\n",
      "4_11_41_04_16-03-2020_1.jpg\n",
      "3_11_38_19_16-03-2020_1.jpg\n",
      "18_14_09_20_05-03-2020_1.jpg\n",
      "13_13_55_41_05-03-2020_1.jpg\n",
      "21_13_19_19_16-03-2020_1.jpg\n",
      "29_13_45_03_16-03-2020_1.jpg\n",
      "9_11_53_50_16-03-2020_1.jpg\n",
      "8_12_38_08_05-03-2020_1.jpg\n",
      "15_13_59_47_05-03-2020_1.jpg\n",
      "27_13_38_41_16-03-2020_1.jpg\n",
      "4_11_40_48_16-03-2020_1.jpg\n",
      "26_13_34_45_16-03-2020_1.jpg\n",
      "21_13_18_53_16-03-2020_1.jpg\n",
      "23_13_24_59_16-03-2020_1.jpg\n",
      "27_13_38_18_16-03-2020_1.jpg\n",
      "3_11_37_34_16-03-2020_1.jpg\n",
      "19_12_22_38_16-03-2020_1.jpg\n",
      "7_11_48_24_16-03-2020_1.jpg\n",
      "5_11_43_46_16-03-2020_1.jpg\n",
      "2_12_16_15_05-03-2020_1.jpg\n",
      "25_13_31_52_16-03-2020_1.jpg\n",
      "30_13_47_25_16-03-2020_1.jpg\n",
      "11_12_46_00_05-03-2020_1.jpg\n",
      "9_12_40_22_05-03-2020_1.jpg\n",
      "30_13_47_46_16-03-2020_1.jpg\n",
      "15_12_11_06_16-03-2020_1.jpg\n",
      "1_12_08_55_05-03-2020_1.jpg\n",
      "21_13_19_40_16-03-2020_1.jpg\n",
      "25_13_31_07_16-03-2020_1.jpg\n",
      "15_12_11_25_16-03-2020_1.jpg\n",
      "12_12_02_34_16-03-2020_1.jpg\n",
      "9_11_54_12_16-03-2020_1.jpg\n",
      "28_13_41_36_16-03-2020_1.jpg\n",
      "10_12_42_36_05-03-2020_1.jpg\n",
      "10_12_42_56_05-03-2020_1.jpg\n",
      "14_13_57_14_05-03-2020_1.jpg\n",
      "25_13_31_27_16-03-2020_1.jpg\n",
      "14_12_07_52_16-03-2020_1.jpg\n"
     ]
    }
   ],
   "source": [
    "for coco_set in coco_datasets_list:\n",
    "    image_names = os.listdir(coco_set['image_path'])\n",
    "    print(coco_set['image_path'])\n",
    "    for name in image_names:\n",
    "        print(name)"
   ]
  },
  {
   "cell_type": "code",
   "execution_count": 123,
   "id": "rotary-marsh",
   "metadata": {},
   "outputs": [
    {
     "data": {
      "text/plain": [
       "'stones_transport'"
      ]
     },
     "execution_count": 123,
     "metadata": {},
     "output_type": "execute_result"
    }
   ],
   "source": [
    "coco_set['name']"
   ]
  },
  {
   "cell_type": "code",
   "execution_count": null,
   "id": "actual-smell",
   "metadata": {},
   "outputs": [],
   "source": []
  }
 ],
 "metadata": {
  "kernelspec": {
   "display_name": "Python 3",
   "language": "python",
   "name": "python3"
  },
  "language_info": {
   "codemirror_mode": {
    "name": "ipython",
    "version": 3
   },
   "file_extension": ".py",
   "mimetype": "text/x-python",
   "name": "python",
   "nbconvert_exporter": "python",
   "pygments_lexer": "ipython3",
   "version": "3.8.8"
  }
 },
 "nbformat": 4,
 "nbformat_minor": 5
}
