{
 "cells": [
  {
   "cell_type": "code",
   "execution_count": 2,
   "id": "a918eb46-f17f-49c9-a3dc-881c05b67ecc",
   "metadata": {},
   "outputs": [],
   "source": [
    "import os\n",
    "from pathlib import Path \n",
    "import sys\n",
    "sys.path.append('../../dataset')\n",
    "sys.path.append(\"/home/kirilman/Project/asbestos/JSON2YOLO\")\n",
    "from utils import get_paths_from_dirs\n",
    "from general_json2yolo import convert_coco_json\n",
    "import shutil\n",
    "import json\n",
    "import numpy as np"
   ]
  },
  {
   "cell_type": "code",
   "execution_count": 3,
   "id": "88273c1d-e765-4aa9-9825-63873e8e020b",
   "metadata": {},
   "outputs": [],
   "source": [
    "datasets_names = ['pits_stones_detections_020221',\n",
    "                  'pits_stones_detections_161120',\n",
    "                  'pits_stones_detections_111121',\n",
    "                  'pits_stones_detections_161220',\n",
    "                  'pits_stones_detections_300920',\n",
    "                  'asbestos_stone_020221',\n",
    "                  'open-pit-zoomed-161120',\n",
    "                  'asbest_stones_111121',\n",
    "                  'test transport',\n",
    "                  'asbestos_stone_161220']"
   ]
  },
  {
   "cell_type": "code",
   "execution_count": 14,
   "id": "3c1bd7ea-f390-4f98-b437-a6023ef9517b",
   "metadata": {},
   "outputs": [],
   "source": [
    "def is_file_image(p:Path):\n",
    "    return p.suffix.lower().endswith(('.png', '.jpg', '.jpeg', '.tiff', '.bmp', '.gif'))"
   ]
  },
  {
   "cell_type": "code",
   "execution_count": 281,
   "id": "5f527e0b-71bc-4375-93a0-de79548df84b",
   "metadata": {},
   "outputs": [
    {
     "data": {
      "text/plain": [
       "394"
      ]
     },
     "execution_count": 281,
     "metadata": {},
     "output_type": "execute_result"
    }
   ],
   "source": [
    "root_to_dataset = Path('/home/kirilman/Project/dataset')\n",
    "images_paths = []\n",
    "for data_set in datasets_names:\n",
    "    p = (root_to_dataset / data_set).resolve()\n",
    "    r = Path(p).resolve().rglob('*.*')\n",
    "    for e in r:\n",
    "        if is_file_image(e):\n",
    "            images_paths.append(e)\n",
    "            \n",
    "len(images_paths)"
   ]
  },
  {
   "cell_type": "markdown",
   "id": "9f45738c-d6eb-4835-8821-35f326f23489",
   "metadata": {},
   "source": [
    "### Скопировать изображения"
   ]
  },
  {
   "cell_type": "code",
   "execution_count": 247,
   "id": "e98cddcd-e6cd-48d2-a08a-5b72ad1f3df6",
   "metadata": {},
   "outputs": [],
   "source": [
    "images_files = []\n",
    "for data_set in datasets_names:\n",
    "    p = (root_to_dataset / data_set).resolve()\n",
    "    r = get_paths_from_dirs([p], ['*'])\n",
    "    for e in r:\n",
    "        if is_file_image(e):\n",
    "            images_files+=[e]\n",
    "\n",
    "path_2_detection_set = Path('/home/kirilman/Project/dataset/detection_set2/images')\n",
    "if path_2_detection_set.exists():\n",
    "    shutil.rmtree(path_2_detection_set)\n",
    "    path_2_detection_set.mkdir(parents=True,exist_ok=True)\n",
    "else:\n",
    "    path_2_detection_set.mkdir(parents=True,exist_ok=True)\n",
    "\n",
    "#скопировать\n",
    "for p in images_files:\n",
    "    shutil.copyfile(p, path_2_detection_set / p.name)"
   ]
  },
  {
   "cell_type": "markdown",
   "id": "9a8bd2b3-70eb-4684-9fe5-ea8336ddba44",
   "metadata": {
    "tags": []
   },
   "source": [
    "### Скопировать json файлы с разметкой"
   ]
  },
  {
   "cell_type": "code",
   "execution_count": 242,
   "id": "f7d7ea12-0f6e-4ed9-93c9-00314eeac9fb",
   "metadata": {},
   "outputs": [],
   "source": [
    "labels_files = []\n",
    "for data_set in datasets_names:\n",
    "    p = (root_to_dataset / data_set).resolve()\n",
    "    r = get_paths_from_dirs([p], ['json'])\n",
    "    for e in r:\n",
    "        labels_files+=[e]\n",
    "\n",
    "path_2_labels = Path('/home/kirilman/Project/dataset/detection_set2/labels')\n",
    "if path_2_labels.exists():\n",
    "    shutil.rmtree(path_2_labels)\n",
    "    path_2_labels.mkdir(parents=True,exist_ok=True)\n",
    "else:\n",
    "    path_2_labels.mkdir(parents=True,exist_ok=True)\n",
    "\n",
    "#скопировать\n",
    "for p in labels_files:\n",
    "    shutil.copyfile(p, path_2_labels / (p.parent.parts[-2] + p.suffix))"
   ]
  },
  {
   "cell_type": "code",
   "execution_count": 267,
   "id": "fc50f938-252d-4e2a-a127-2793f276162c",
   "metadata": {},
   "outputs": [],
   "source": [
    "#фикс путь до изображений\n",
    "for label_file in get_paths_from_dirs([path_2_labels], ['json']):\n",
    "    f = open(label_file)\n",
    "    data = json.load(f)\n",
    "    f.close()\n",
    "    \n",
    "    for i, im in enumerate(data['images']):\n",
    "        p = Path(im['file_name'])\n",
    "        data['images'][i]['file_name'] = p.name\n",
    "        \n",
    "        with open(f.name, 'w') as outfile:\n",
    "            json.dump(data, outfile)"
   ]
  },
  {
   "cell_type": "code",
   "execution_count": 277,
   "id": "995ac8cd-ab5e-4b97-93d6-24bba0326ba0",
   "metadata": {},
   "outputs": [],
   "source": [
    "### Convert to yolo"
   ]
  },
  {
   "cell_type": "code",
   "execution_count": 315,
   "id": "0fdf0e4e-6815-4387-95c2-4f8a72fd0349",
   "metadata": {},
   "outputs": [
    {
     "name": "stderr",
     "output_type": "stream",
     "text": [
      "Annotations /home/kirilman/Project/dataset/detection_set2/coco_labels/asbest_sto\n",
      "Annotations /home/kirilman/Project/dataset/detection_set2/coco_labels/asbestos_s\n",
      "Annotations /home/kirilman/Project/dataset/detection_set2/coco_labels/asbestos_s\n",
      "Annotations /home/kirilman/Project/dataset/detection_set2/coco_labels/open-pit-z\n",
      "Annotations /home/kirilman/Project/dataset/detection_set2/coco_labels/pits_stone\n",
      "Annotations /home/kirilman/Project/dataset/detection_set2/coco_labels/pits_stone\n",
      "Annotations /home/kirilman/Project/dataset/detection_set2/coco_labels/pits_stone\n",
      "Annotations /home/kirilman/Project/dataset/detection_set2/coco_labels/pits_stone\n",
      "Annotations /home/kirilman/Project/dataset/detection_set2/coco_labels/pits_stone\n",
      "Annotations /home/kirilman/Project/dataset/detection_set2/coco_labels/test trans\n"
     ]
    }
   ],
   "source": [
    "path_2_labels = '/home/kirilman/Project/dataset/detection_set2/coco_labels/' \n",
    "json_files = get_paths_from_dirs([path_2_labels], ['json'])\n",
    "path_to_yolo = '/home/kirilman/Project/dataset/detection_set2/labels/'\n",
    "convert_coco_json(json_files[0].parent, path_to_yolo)"
   ]
  },
  {
   "cell_type": "code",
   "execution_count": 316,
   "id": "9fff6c2b-7515-40f0-89c2-de91aef43263",
   "metadata": {},
   "outputs": [],
   "source": [
    "json_files = get_paths_from_dirs([path_to_yolo], ['txt'])\n",
    "len(json_files)\n",
    "for f in json_files:\n",
    "    shutil.copy(f, path_to_yolo)"
   ]
  },
  {
   "cell_type": "code",
   "execution_count": 11,
   "id": "647c2e3b-01fd-4893-8b89-c276e0c1f41e",
   "metadata": {
    "collapsed": true,
    "jupyter": {
     "outputs_hidden": true
    },
    "tags": []
   },
   "outputs": [
    {
     "ename": "NameError",
     "evalue": "name 'path_to_yolo' is not defined",
     "output_type": "error",
     "traceback": [
      "\u001b[0;31m---------------------------------------------------------------------------\u001b[0m",
      "\u001b[0;31mNameError\u001b[0m                                 Traceback (most recent call last)",
      "Input \u001b[0;32mIn [11]\u001b[0m, in \u001b[0;36m<cell line: 1>\u001b[0;34m()\u001b[0m\n\u001b[0;32m----> 1\u001b[0m json_files \u001b[38;5;241m=\u001b[39m get_paths_from_dirs([\u001b[43mpath_to_yolo\u001b[49m], [\u001b[38;5;124m'\u001b[39m\u001b[38;5;124mtxt\u001b[39m\u001b[38;5;124m'\u001b[39m])\n\u001b[1;32m      2\u001b[0m images_files \u001b[38;5;241m=\u001b[39m get_paths_from_dirs([path_2_detection_set], [\u001b[38;5;124m'\u001b[39m\u001b[38;5;124m*\u001b[39m\u001b[38;5;124m'\u001b[39m])\n\u001b[1;32m      3\u001b[0m \u001b[38;5;28mprint\u001b[39m(\u001b[38;5;28mlen\u001b[39m(json_files), \u001b[38;5;28mlen\u001b[39m(images_files))\n",
      "\u001b[0;31mNameError\u001b[0m: name 'path_to_yolo' is not defined"
     ]
    }
   ],
   "source": [
    "json_files = get_paths_from_dirs([path_to_yolo], ['txt'])\n",
    "images_files = get_paths_from_dirs([path_2_detection_set], ['*'])\n",
    "print(len(json_files), len(images_files))"
   ]
  },
  {
   "cell_type": "code",
   "execution_count": 305,
   "id": "1e056d76-38b3-4db7-bbb6-6c33283eb5b8",
   "metadata": {},
   "outputs": [],
   "source": [
    "##DELETE Asbests bboxs"
   ]
  },
  {
   "cell_type": "code",
   "execution_count": 334,
   "id": "4fa99923-a5dd-4a0f-8dda-a3088d13ad0f",
   "metadata": {},
   "outputs": [],
   "source": [
    "path_2_yolo = Path('/home/kirilman/Project/dataset/detection_set2/labels/rocks and asbest/')\n",
    "yolo_files = os.listdir(path_2_yolo)\n",
    "for name in yolo_files:\n",
    "    outfile = open(path_2_yolo.parent / name, \"w\")\n",
    "    file = open(path_2_yolo / name, 'r') \n",
    "    lines = file.readlines()\n",
    "    for line in lines:\n",
    "        if line in lines:\n",
    "            if line[0] == \"1\":\n",
    "                continue\n",
    "            else:\n",
    "                outfile.write(line)\n",
    "    outfile.close()\n",
    "    file.close()"
   ]
  },
  {
   "cell_type": "code",
   "execution_count": null,
   "id": "8d684c29-8d10-4dfa-bd2f-1faebcb9e472",
   "metadata": {},
   "outputs": [],
   "source": []
  },
  {
   "cell_type": "markdown",
   "id": "214a7a21-d422-49cd-92c5-4bbffad4389b",
   "metadata": {},
   "source": [
    "### Разбиение на обучение тест"
   ]
  },
  {
   "cell_type": "code",
   "execution_count": 4,
   "id": "883dbbbc-e904-4484-bd05-15b0e1713e51",
   "metadata": {},
   "outputs": [
    {
     "name": "stdout",
     "output_type": "stream",
     "text": [
      "Всего изображений:  394\n",
      "Тест + Валидация:  98\n",
      "Tecт          78\n",
      "Валидация     20\n"
     ]
    }
   ],
   "source": [
    "image_files = get_paths_from_dirs(['/home/kirilman/Project/dataset/detection_set2/images/'], ['*'])\n",
    "label_files = get_paths_from_dirs(['/home/kirilman/Project/dataset/detection_set2/labels/'], ['*'])\n",
    "\n",
    "print(\"Всего изображений: \", len(image_files))\n",
    "N = len(image_files)\n",
    "K = round(0.25 * N)\n",
    "\n",
    "print(\"Тест + Валидация: \",K)\n",
    "indexs = np.random.choice(range(N), K)\n",
    "\n",
    "test_indexs = indexs[:-20]\n",
    "val_indexs  = indexs[-20:]\n",
    "print(\"Tecт         \",len(test_indexs))\n",
    "print(\"Валидация    \", len(val_indexs))"
   ]
  },
  {
   "cell_type": "code",
   "execution_count": 5,
   "id": "cb6b61ca-4329-4838-b316-ced8efd885ac",
   "metadata": {},
   "outputs": [],
   "source": [
    "def img2label_paths(img_paths):\n",
    "    # Define label paths as a function of image paths\n",
    "    sa, sb = f'{os.sep}images{os.sep}', f'{os.sep}labels{os.sep}'  # /images/, /labels/ substrings\n",
    "    return [sb.join(x.rsplit(sa, 1)).rsplit('.', 1)[0] + '.txt' for x in img_paths]"
   ]
  },
  {
   "cell_type": "code",
   "execution_count": 44,
   "id": "117e6e02-9bb7-4632-a1f8-4c6b91b9b611",
   "metadata": {},
   "outputs": [],
   "source": [
    "path_2_images = image_files[0].parent\n",
    "path_2_validation = path_2_images.parent / 'validation'\n",
    "path_2_test       = path_2_images.parent / 'test'\n",
    "\n",
    "if path_2_validation.exists():\n",
    "    shutil.rmtree(path_2_validation)\n",
    "    path_2_validation.mkdir(parents=True,exist_ok=True)\n",
    "else:\n",
    "    path_2_validation.mkdir(parents=True,exist_ok=True)\n",
    "    \n",
    "if path_2_test.exists():\n",
    "    shutil.rmtree(path_2_test)\n",
    "    path_2_test.mkdir(parents=True,exist_ok=True)\n",
    "else:\n",
    "    path_2_test.mkdir(parents=True,exist_ok=True)\n"
   ]
  },
  {
   "cell_type": "code",
   "execution_count": 45,
   "id": "4e2bcc71-f95c-4fa2-9caa-fb817433bc31",
   "metadata": {},
   "outputs": [],
   "source": [
    "#копируем файлы\n",
    "#тестовые\n",
    "for path_image in [p for i,p in enumerate(image_files) if i in test_indexs]:\n",
    "    path_label = img2label_paths([str(path_image)])[0]\n",
    "    shutil.copy(path_image, path_2_test / path_image.name)\n",
    "    shutil.copy(path_label, path_2_test / Path(path_image.name.split('.')[0] + '.txt') )\n",
    "\n",
    "#Валидация\n",
    "\n",
    "for path_image in [p for i,p in enumerate(image_files) if i in val_indexs]:\n",
    "    path_label = img2label_paths([str(path_image)])[0]\n",
    "    shutil.copy(path_image, path_2_validation / path_image.name)\n",
    "    shutil.copy(path_label, path_2_validation / Path(path_image.name.split('.')[0] + '.txt') )\n"
   ]
  }
 ],
 "metadata": {
  "kernelspec": {
   "display_name": "Python 3 (ipykernel)",
   "language": "python",
   "name": "python3"
  },
  "language_info": {
   "codemirror_mode": {
    "name": "ipython",
    "version": 3
   },
   "file_extension": ".py",
   "mimetype": "text/x-python",
   "name": "python",
   "nbconvert_exporter": "python",
   "pygments_lexer": "ipython3",
   "version": "3.9.12"
  }
 },
 "nbformat": 4,
 "nbformat_minor": 5
}
