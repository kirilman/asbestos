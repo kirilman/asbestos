{
 "cells": [
  {
   "cell_type": "code",
   "execution_count": 1,
   "metadata": {},
   "outputs": [],
   "source": [
    "import sys\n",
    "sys.path.append('../dataset/')\n",
    "from utils import get_paths_from_dirs\n",
    "import shutil\n"
   ]
  },
  {
   "cell_type": "code",
   "execution_count": 16,
   "metadata": {},
   "outputs": [
    {
     "name": "stdout",
     "output_type": "stream",
     "text": [
      "462\n"
     ]
    },
    {
     "data": {
      "text/plain": [
       "[PosixPath('/home/office/kirilman/Projects/asbestos/270421/3/AutoScan_27-04-2021-15-28-45/Detailed/27-04-2021-15-32-00_15_3_66_detailed.bmp'),\n",
       " PosixPath('/home/office/kirilman/Projects/asbestos/270421/3/AutoScan_27-04-2021-15-28-45/Detailed/27-04-2021-15-30-18_4_3_79_detailed.bmp'),\n",
       " PosixPath('/home/office/kirilman/Projects/asbestos/270421/3/AutoScan_27-04-2021-15-28-45/Detailed/27-04-2021-15-33-00_21_3_72_detailed.bmp')]"
      ]
     },
     "execution_count": 16,
     "metadata": {},
     "output_type": "execute_result"
    }
   ],
   "source": [
    "paths = get_paths_from_dirs(['/home/office/kirilman/Projects/asbestos/270421/'],['bmp'])\n",
    "print(len(paths))\n",
    "paths[-3:]"
   ]
  },
  {
   "cell_type": "code",
   "execution_count": 17,
   "metadata": {},
   "outputs": [
    {
     "name": "stdout",
     "output_type": "stream",
     "text": [
      "mkdir: cannot create directory ‘../../temp_set’: File exists\n",
      " 270421\n",
      " 270421.tar\n",
      " src\n",
      "'task_asbestos_stone_161220-2021_01_13_12_39_03-segmentation mask 1.1 (1)'\n",
      "'task_asbestos_stone_lab_common_camera-2021_12_10_13_12_14-mots png 1.0'\n",
      " temp_set\n"
     ]
    }
   ],
   "source": [
    "!mkdir ../../temp_set\n",
    "!ls ../../"
   ]
  },
  {
   "cell_type": "code",
   "execution_count": 18,
   "metadata": {},
   "outputs": [],
   "source": [
    "for p in paths:\n",
    "    shutil.copy2(p,'../../temp_set/')"
   ]
  },
  {
   "cell_type": "code",
   "execution_count": null,
   "metadata": {},
   "outputs": [],
   "source": []
  }
 ],
 "metadata": {
  "kernelspec": {
   "display_name": "Python 3",
   "language": "python",
   "name": "python3"
  },
  "language_info": {
   "codemirror_mode": {
    "name": "ipython",
    "version": 3
   },
   "file_extension": ".py",
   "mimetype": "text/x-python",
   "name": "python",
   "nbconvert_exporter": "python",
   "pygments_lexer": "ipython3",
   "version": "3.8.5"
  }
 },
 "nbformat": 4,
 "nbformat_minor": 5
}
