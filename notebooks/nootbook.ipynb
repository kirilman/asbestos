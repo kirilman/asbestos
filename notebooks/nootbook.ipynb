{
 "cells": [
  {
   "cell_type": "code",
   "execution_count": 1,
   "id": "permanent-berkeley",
   "metadata": {},
   "outputs": [],
   "source": [
    "import sys\n",
    "sys.path.append('../dataset/')\n",
    "sys.path.append('/home/kirill/Учеба/asbestos/src/dataset/io')\n",
    "from utils import get_paths_from_dirs\n",
    "import shutil\n",
    "from dataset import load_img, Bbox\n",
    "from pathlib import Path\n",
    "import matplotlib.pyplot as plt"
   ]
  },
  {
   "cell_type": "code",
   "execution_count": null,
   "id": "wanted-genome",
   "metadata": {},
   "outputs": [],
   "source": []
  },
  {
   "cell_type": "code",
   "execution_count": 5,
   "id": "funded-warning",
   "metadata": {},
   "outputs": [
    {
     "name": "stdout",
     "output_type": "stream",
     "text": [
      "462\n"
     ]
    },
    {
     "data": {
      "text/plain": [
       "[PosixPath('/home/office/kirilman/Projects/asbestos/270421/3/AutoScan_27-04-2021-15-28-45/Detailed/27-04-2021-15-32-00_15_3_66_detailed.bmp'),\n",
       " PosixPath('/home/office/kirilman/Projects/asbestos/270421/3/AutoScan_27-04-2021-15-28-45/Detailed/27-04-2021-15-30-18_4_3_79_detailed.bmp'),\n",
       " PosixPath('/home/office/kirilman/Projects/asbestos/270421/3/AutoScan_27-04-2021-15-28-45/Detailed/27-04-2021-15-33-00_21_3_72_detailed.bmp')]"
      ]
     },
     "execution_count": 5,
     "metadata": {},
     "output_type": "execute_result"
    }
   ],
   "source": [
    "paths = get_paths_from_dirs(['/home/office/kirilman/Projects/asbestos/270421/'],['bmp'])\n",
    "print(len(paths))\n",
    "paths[-3:]"
   ]
  },
  {
   "cell_type": "code",
   "execution_count": 54,
   "id": "challenging-storage",
   "metadata": {},
   "outputs": [
    {
     "name": "stdout",
     "output_type": "stream",
     "text": [
      "mkdir: cannot create directory ‘../../temp_set’: File exists\n",
      " 270421\n",
      " 270421.tar\n",
      " src\n",
      "'task_asbestos_stone_161220-2021_01_13_12_39_03-segmentation mask 1.1 (1)'\n",
      "'task_asbestos_stone_lab_common_camera-2021_12_10_13_12_14-mots png 1.0'\n",
      " temp_set\n",
      " temp_set1\n"
     ]
    }
   ],
   "source": [
    "!mkdir ../../temp_set\n",
    "!ls ../../"
   ]
  },
  {
   "cell_type": "code",
   "execution_count": 27,
   "id": "complicated-action",
   "metadata": {},
   "outputs": [],
   "source": [
    "for p in paths:\n",
    "    shutil.copy2(p,'../../temp_set/')"
   ]
  },
  {
   "cell_type": "code",
   "execution_count": 5,
   "id": "sustainable-viking",
   "metadata": {},
   "outputs": [
    {
     "name": "stdout",
     "output_type": "stream",
     "text": [
      "74\n"
     ]
    }
   ],
   "source": [
    "class Label:\n",
    "    def __init__(self, path2label):\n",
    "        self.path = path2label\n",
    "#         self.img  = load_img(path2label, float)\n",
    "        self.name = Path(path2label).root\n",
    "        self._read_bboxs()\n",
    "    def path(self):\n",
    "        return self.path\n",
    "    \n",
    "    def _read_bboxs(self):\n",
    "        self.bboxs = []\n",
    "        with open(self.path, 'r') as f:\n",
    "            page = f.read()\n",
    "            for line in page.split('\\n'):\n",
    "                if len(line) <= 1:\n",
    "                    continue\n",
    "                c,x1,y1,x2,y2 = line.split(' ')\n",
    "                self.bboxs.append(Bbox(float(x1),float(y1),float(x2),float(y2)))\n",
    "#         print(\"Reading {} bboxs from {}\".format(len(self.bboxs), self.path))\n",
    "                    \n",
    "    def bboxs(self):\n",
    "        return self.bboxs\n",
    "    \n",
    "test_labels = get_paths_from_dirs(['../notebooks/yolor/open_pit_set-2/test/labels/'],['txt'])\n",
    "# test_labels = get_paths_from_dirs(['../notebooks/yolov5/runs/detect/exp6/labels'],['txt'])\n",
    "\n",
    "print(len(test_labels))\n",
    "with open(test_labels[25],'r') as f:\n",
    "    page = f.read()"
   ]
  },
  {
   "cell_type": "code",
   "execution_count": 6,
   "id": "unexpected-composition",
   "metadata": {},
   "outputs": [],
   "source": [
    "diags = []\n",
    "for f in test_labels:\n",
    "    label = Label(f)\n",
    "    if len(label.bboxs)<1: continue\n",
    "    for bbox in label.bboxs:\n",
    "        if bbox.diagonal > 1:\n",
    "#             print(bbox.x1, bbox.y1, bbox.x2, bbox.y2)\n",
    "            pass\n",
    "        diags.append(bbox.diagonal)"
   ]
  },
  {
   "cell_type": "code",
   "execution_count": null,
   "id": "wireless-determination",
   "metadata": {},
   "outputs": [],
   "source": []
  }
 ],
 "metadata": {
  "kernelspec": {
   "display_name": "Python 3",
   "language": "python",
   "name": "python3"
  },
  "language_info": {
   "codemirror_mode": {
    "name": "ipython",
    "version": 3
   },
   "file_extension": ".py",
   "mimetype": "text/x-python",
   "name": "python",
   "nbconvert_exporter": "python",
   "pygments_lexer": "ipython3",
   "version": "3.8.8"
  }
 },
 "nbformat": 4,
 "nbformat_minor": 5
}
