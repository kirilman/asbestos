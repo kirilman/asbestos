{
 "cells": [
  {
   "cell_type": "code",
   "execution_count": 1,
   "metadata": {},
   "outputs": [],
   "source": [
    "from pycocotools.coco import COCO\n",
    "import os\n",
    "from PIL import Image\n",
    "import matplotlib.pyplot as plt\n",
    "import cv2\n",
    "import numpy as np\n",
    "# !git clone https://github.com/Taeyoung96/Yolo-to-COCO-format-converter.git"
   ]
  },
  {
   "cell_type": "code",
   "execution_count": 2,
   "metadata": {},
   "outputs": [],
   "source": [
    "yolo_dir = \"../yolov5/runs/val/exp24/labels/\"\n",
    "image_dir = \"../yolov5/open-pit-rock-chunks-test-3/valid/images/\"\n",
    "target_labels_dir = \"../yolov5/open-pit-rock-chunks-test-3/valid/labels/\""
   ]
  },
  {
   "cell_type": "code",
   "execution_count": 3,
   "metadata": {},
   "outputs": [],
   "source": [
    "!cp {image_dir}* {'yolo_set/prediction/'} -a\n",
    "!cp {yolo_dir}* {'yolo_set/prediction/'} -a\n",
    "#Скопировать целевые изображения и метки\n",
    "!cp {image_dir}* {'yolo_set/target/'} -a\n",
    "!cp {target_labels_dir}* {'yolo_set/target/'} -a"
   ]
  },
  {
   "cell_type": "code",
   "execution_count": 4,
   "metadata": {},
   "outputs": [
    {
     "name": "stdout",
     "output_type": "stream",
     "text": [
      "Start!\n",
      "Processing 0 ...\n",
      "Finished!\n",
      "Start!\n",
      "Processing 0 ...\n",
      "Finished!\n"
     ]
    }
   ],
   "source": [
    "!python ./Yolo-to-COCO-format-converter/main.py -p \"./yolo_set/prediction\" --output \"pred.json\"\n",
    "!python ./Yolo-to-COCO-format-converter/main.py -p \"./yolo_set/target\" --output \"target.json\""
   ]
  },
  {
   "cell_type": "code",
   "execution_count": 5,
   "metadata": {},
   "outputs": [],
   "source": [
    "def read_coco_datasets(list_images, list_anno, class_id=[0], verbose = True):\n",
    "    json_dicts = dict()\n",
    "    for i in range(len(list_anno)):\n",
    "        if os.path.exists(list_anno[i]) and os.path.exists(list_images[i]): \n",
    "\n",
    "            dict_json =\\\n",
    "                  load_coco_json(json_file = list_anno[i], \n",
    "                                image_root = list_images[i], \n",
    "                                dataset_name = 'None',\n",
    "                                extra_annotation_keys = None)\n",
    "            if len(dict_json)>0:\n",
    "                dict_json = corret_coco_json_path(dict_json, list_images[i])\n",
    "\n",
    "                dict_json = check_class(dict_json,class_id)\n",
    "\n",
    "                name_dataset = os.path.split(os.path.split(os.path.split(list_anno[i])[0])[0])[1]\n",
    "\n",
    "                json_dicts[name_dataset]=dict_json\n",
    "\n",
    "                if verbose:\n",
    "                    print(i, len(dict_json))    \n",
    "    return json_dicts"
   ]
  },
  {
   "cell_type": "code",
   "execution_count": 6,
   "metadata": {},
   "outputs": [
    {
     "name": "stdout",
     "output_type": "stream",
     "text": [
      "/home/office/kirilman/Projects/asbestos/src/notebooks/visualize_coco\n"
     ]
    }
   ],
   "source": [
    "!pwd"
   ]
  },
  {
   "cell_type": "code",
   "execution_count": 9,
   "metadata": {},
   "outputs": [
    {
     "name": "stdout",
     "output_type": "stream",
     "text": [
      "loading annotations into memory...\n",
      "Done (t=0.01s)\n",
      "creating index...\n",
      "index created!\n",
      "loading annotations into memory...\n",
      "Done (t=0.01s)\n",
      "creating index...\n",
      "index created!\n"
     ]
    },
    {
     "data": {
      "text/plain": [
       "<pycocotools.coco.COCO at 0x7fbca0349a00>"
      ]
     },
     "execution_count": 9,
     "metadata": {},
     "output_type": "execute_result"
    }
   ],
   "source": [
    "dataset = {}\n",
    "dataset['target'] = COCO('./output/target.json')\n",
    "dataset['pred'] = COCO('./output/pred.json')\n",
    "dataset['target']"
   ]
  },
  {
   "cell_type": "code",
   "execution_count": 10,
   "metadata": {},
   "outputs": [],
   "source": [
    "def get_image_bbox_annotation(coco_obj, image_id, image_dir, image = None, color = (0,255,0)):\n",
    "    ann_ids = coco_obj.getAnnIds(iscrowd=False,imgIds = image_id)\n",
    "    anns = coco_obj.loadAnns(ann_ids)\n",
    "    anns = [ann for ann in anns if len(ann['bbox']) > 1]\n",
    "   \n",
    "    for i, ann in enumerate(anns):\n",
    "        image_id = ann[\"image_id\"]\n",
    "        segs = ann[\"segmentation\"]\n",
    "        bbox = np.array(ann[\"bbox\"])\n",
    "        bbox[2:4] = bbox[0:2] + bbox[2:4]\n",
    "        image_info = coco_obj.loadImgs(image_id)\n",
    "        image_path = image_info[0][\"file_name\"]\n",
    "        if i == 0:\n",
    "            if image is None:\n",
    "                image_path = os.path.join(image_dir, image_path)\n",
    "                image = cv2.imread(image_path)\n",
    "        segs = [np.array(seg, np.int32).reshape((1, -1, 2))\n",
    "            for seg in segs]\n",
    "        for seg in segs: cv2.drawContours(image, seg, -1, (0,255,0), 2)\n",
    "        cv2.rectangle(image, (int(bbox[0]), int(bbox[1])), \n",
    "                  (int(bbox[2]), int(bbox[3])), color, 2, lineType = 1)\n",
    "    return image"
   ]
  },
  {
   "cell_type": "code",
   "execution_count": 14,
   "metadata": {},
   "outputs": [
    {
     "name": "stdout",
     "output_type": "stream",
     "text": [
      "0\n",
      "5\n",
      "10\n",
      "15\n",
      "20\n",
      "25\n"
     ]
    }
   ],
   "source": [
    "for i,e in enumerate(dataset['target'].dataset['images']):\n",
    "    image = get_image_bbox_annotation(dataset['target'], i, 'yolo_set/target/',  color = (0,128,0))\n",
    "    image = get_image_bbox_annotation(dataset['pred'], i,  'yolo_set/prediction/', image, color = (255,0,0))\n",
    "    fig = plt.figure(dpi = 150, figsize = (8,8))\n",
    "    plt.imshow(image)\n",
    "    plt.savefig(\"mask/{}\".format(e['file_name']),)\n",
    "    if i%5==0:\n",
    "        print(i)\n",
    "    plt.close()"
   ]
  },
  {
   "cell_type": "code",
   "execution_count": 13,
   "metadata": {},
   "outputs": [],
   "source": [
    "!rm mask/*"
   ]
  },
  {
   "cell_type": "code",
   "execution_count": null,
   "metadata": {},
   "outputs": [],
   "source": []
  }
 ],
 "metadata": {
  "kernelspec": {
   "display_name": "Python 3",
   "language": "python",
   "name": "python3"
  },
  "language_info": {
   "codemirror_mode": {
    "name": "ipython",
    "version": 3
   },
   "file_extension": ".py",
   "mimetype": "text/x-python",
   "name": "python",
   "nbconvert_exporter": "python",
   "pygments_lexer": "ipython3",
   "version": "3.8.5"
  }
 },
 "nbformat": 4,
 "nbformat_minor": 4
}
