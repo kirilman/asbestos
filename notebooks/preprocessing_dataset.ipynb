{
 "cells": [
  {
   "cell_type": "code",
   "execution_count": 1,
   "id": "careful-sister",
   "metadata": {},
   "outputs": [],
   "source": [
    "%load_ext autoreload\n",
    "%autoreload 2\n",
    "import numpy as np\n",
    "from matplotlib import pyplot as plt\n",
    "import sys\n",
    "sys.path.append('../dataset/')\n",
    "from dataset import AsbestosDataSet\n",
    "import os \n",
    "from pathlib import Path\n",
    "import json\n",
    "from pycocotools.coco import COCO\n",
    "from PIL import Image\n"
   ]
  },
  {
   "cell_type": "markdown",
   "id": "fresh-simple",
   "metadata": {},
   "source": [
    "##Конверт"
   ]
  },
  {
   "cell_type": "code",
   "execution_count": 2,
   "id": "latter-student",
   "metadata": {},
   "outputs": [],
   "source": [
    "def create_annotation_mask(coco_set, img_indx, image_root, category_name = 'asbest'):\n",
    "    cat_ids  = coco_set.getCatIds(catNms=[category_name])\n",
    "    img_ids  = coco_set.getImgIds(catIds=cat_ids );\n",
    "    image_dict = coco_set.loadImgs(img_indx)[0]\n",
    "    ann_ids = coco_set.getAnnIds(imgIds=image_dict['id'], catIds=cat_ids, iscrowd=None)\n",
    "    anns = coco_set.loadAnns(ann_ids)\n",
    "    if len(anns) > 0:\n",
    "        for i in range(len(anns)):\n",
    "            if i == 0:\n",
    "                mask = np.array(coco_set.annToMask(anns[0]), dtype = np.int64)\n",
    "            else:\n",
    "                mask += coco_set.annToMask(anns[i])\n",
    "\n",
    "        mask[mask>1] = 1#for stones!\n",
    "    else: \n",
    "        w = coco_set.loadImgs(1)[0]['width']\n",
    "        h = coco_set.loadImgs(1)[0]['height']\n",
    "        mask = np.zeros((h,w))\n",
    "    return mask"
   ]
  },
  {
   "cell_type": "code",
   "execution_count": 3,
   "id": "dominant-miller",
   "metadata": {
    "tags": []
   },
   "outputs": [],
   "source": [
    "#Create asbest segmentation from annotation file\n",
    "def create_segmentation_from_annotation(coco_dataset, image_root, out_segmentation_root, category_name):\n",
    "    for idx, image_name in coco_dataset.imgs.items():\n",
    "        name = image_name['file_name'].split('/')[-1].split('.')[0]\n",
    "        try:\n",
    "            mask = create_annotation_mask(coco_dataset, idx, image_root, category_name)\n",
    "            plt.imsave(os.path.join(out_segmentation_root, name + '.jpeg'), mask, cmap='Greys')\n",
    "        except Exception as err:\n",
    "            print(idx, err)       \n",
    "        if idx%10 == 0:\n",
    "            print(idx)"
   ]
  },
  {
   "cell_type": "code",
   "execution_count": 4,
   "id": "secure-pharmacology",
   "metadata": {
    "tags": []
   },
   "outputs": [
    {
     "name": "stdout",
     "output_type": "stream",
     "text": [
      "loading annotations into memory...\n",
      "Done (t=0.09s)\n",
      "creating index...\n",
      "index created!\n"
     ]
    },
    {
     "data": {
      "text/plain": [
       "[{'id': 1, 'name': 'stone', 'supercategory': ''},\n",
       " {'id': 2, 'name': 'asbest', 'supercategory': ''}]"
      ]
     },
     "execution_count": 4,
     "metadata": {},
     "output_type": "execute_result"
    }
   ],
   "source": [
    "# coco_set = COCO('/home/kirill/Учеба/asbestos/task_asbestos_stone_161220-2021_01_13_12_39_03-segmentation mask 1.1 (1)/annotations/instances_default.json')\n",
    "coco_set = COCO('/home/kirill/Учеба/asbestos/task_pits_stones_detections_111121-2021_12_03_05_40_57-coco 1.0/annotations/instances_default.json')\n",
    "coco_set.dataset['categories']"
   ]
  },
  {
   "cell_type": "markdown",
   "id": "appointed-remainder",
   "metadata": {},
   "source": [
    "### asbestos/task_pits_stones_detections_111121-2021_12_03_05_40_57-coco 1.0 "
   ]
  },
  {
   "cell_type": "code",
   "execution_count": 5,
   "id": "understood-arkansas",
   "metadata": {},
   "outputs": [
    {
     "name": "stdout",
     "output_type": "stream",
     "text": [
      "loading annotations into memory...\n",
      "Done (t=0.12s)\n",
      "creating index...\n",
      "index created!\n",
      "[{'id': 1, 'name': 'stone', 'supercategory': ''}, {'id': 2, 'name': 'asbest', 'supercategory': ''}]\n"
     ]
    },
    {
     "data": {
      "text/plain": [
       "<matplotlib.image.AxesImage at 0x7f73856ac2e0>"
      ]
     },
     "execution_count": 5,
     "metadata": {},
     "output_type": "execute_result"
    },
    {
     "data": {
      "image/png": "[encoded data removed]",
      "text/plain": [
       "<Figure size 600x400 with 1 Axes>"
      ]
     },
     "metadata": {
      "needs_background": "light"
     },
     "output_type": "display_data"
    }
   ],
   "source": [
    "coco_set = COCO('/home/kirill/Учеба/asbestos/task_pits_stones_detections_111121-2021_12_03_05_40_57-coco 1.0/annotations/instances_default.json')\n",
    "print(coco_set.dataset['categories'])\n",
    "image_path = '/home/kirill/Учеба/asbestos/task_pits_stones_detections_111121-2021_12_03_05_40_57-coco 1.0/images/'\n",
    "\n",
    "mask = create_annotation_mask(coco_set, 3, image_path, category_name='asbest')\n",
    "fig = plt.figure(dpi = 100)\n",
    "plt.imshow(mask)"
   ]
  },
  {
   "cell_type": "code",
   "execution_count": 20,
   "id": "bibliographic-endorsement",
   "metadata": {},
   "outputs": [],
   "source": [
    "segmentation_root = '/home/kirill/Учеба/asbestos/task_asbestos_stone_161220-2021_01_13_12_39_03-segmentation mask 1.1 (1)/SegmentationAsbest'\n",
    "segmentation_rock_root = '/home/kirill/Учеба/asbestos/task_asbestos_stone_161220-2021_01_13_12_39_03-segmentation mask 1.1 (1)/SegmentationRock'\n",
    "image_path = '/home/kirill/Учеба/asbestos/task_asbestos_stone_161220-2021_01_13_12_39_03-segmentation mask 1.1 (1)/JPEGImages/'"
   ]
  },
  {
   "cell_type": "code",
   "execution_count": 7,
   "id": "technological-maryland",
   "metadata": {
    "tags": []
   },
   "outputs": [
    {
     "name": "stdout",
     "output_type": "stream",
     "text": [
      "10\n",
      "20\n",
      "30\n",
      "40\n",
      "50\n",
      "56 local variable 'mask' referenced before assignment\n"
     ]
    }
   ],
   "source": [
    "create_segmentation_from_annotation(coco_set, image_path, segmentation_rock_root, 'asbest')"
   ]
  },
  {
   "cell_type": "code",
   "execution_count": 33,
   "id": "relevant-pressing",
   "metadata": {},
   "outputs": [
    {
     "data": {
      "text/plain": [
       "array([[0, 0, 0, ..., 0, 0, 0],\n",
       "       [0, 0, 0, ..., 0, 0, 0],\n",
       "       [0, 0, 0, ..., 0, 0, 0],\n",
       "       ...,\n",
       "       [0, 0, 0, ..., 0, 0, 0],\n",
       "       [0, 0, 0, ..., 0, 0, 0],\n",
       "       [0, 0, 0, ..., 0, 0, 0]])"
      ]
     },
     "execution_count": 33,
     "metadata": {},
     "output_type": "execute_result"
    }
   ],
   "source": [
    "mask = create_annotation_mask(coco_set, 18, image_path, category_name='stone')\n",
    "mask = create_annotation_mask(coco_set, 1, image_path, category_name='asbest')\n",
    "mask"
   ]
  },
  {
   "cell_type": "code",
   "execution_count": 40,
   "id": "indonesian-dimension",
   "metadata": {},
   "outputs": [
    {
     "data": {
      "text/plain": [
       "[1, 2]"
      ]
     },
     "execution_count": 40,
     "metadata": {},
     "output_type": "execute_result"
    }
   ],
   "source": [
    "[x for x in range(1,3)]"
   ]
  }
 ],
 "metadata": {
  "kernelspec": {
   "display_name": "Python 3",
   "language": "python",
   "name": "python3"
  },
  "language_info": {
   "codemirror_mode": {
    "name": "ipython",
    "version": 3
   },
   "file_extension": ".py",
   "mimetype": "text/x-python",
   "name": "python",
   "nbconvert_exporter": "python",
   "pygments_lexer": "ipython3",
   "version": "3.8.8"
  }
 },
 "nbformat": 4,
 "nbformat_minor": 5
}
