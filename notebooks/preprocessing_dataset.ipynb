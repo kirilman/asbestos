{
 "cells": [
  {
   "cell_type": "code",
   "execution_count": 4,
   "metadata": {},
   "outputs": [
    {
     "name": "stdout",
     "output_type": "stream",
     "text": [
      "The autoreload extension is already loaded. To reload it, use:\n",
      "  %reload_ext autoreload\n"
     ]
    }
   ],
   "source": [
    "%load_ext autoreload\n",
    "%autoreload 2\n",
    "import numpy as np\n",
    "from matplotlib import pyplot as plt\n",
    "import sys\n",
    "sys.path.append('../dataset/')\n",
    "from dataset import AsbestosDataSet\n",
    "import os \n",
    "from pathlib import Path\n",
    "import json\n",
    "from pycocotools.coco import COCO\n",
    "from PIL import Image\n",
    "import cv2\n",
    "from dataset import load_img\n",
    "from utils import get_paths_from_dirs\n"
   ]
  },
  {
   "cell_type": "markdown",
   "metadata": {},
   "source": [
    "##Конверт"
   ]
  },
  {
   "cell_type": "code",
   "execution_count": 6,
   "metadata": {},
   "outputs": [],
   "source": [
    "def create_annotation_mask(coco_set, img_indx, image_root, category_name = 'asbest'):\n",
    "    cat_ids  = coco_set.getCatIds(catNms=[category_name])\n",
    "    img_ids  = coco_set.getImgIds(catIds=cat_ids );\n",
    "    image_dict = coco_set.loadImgs(img_indx)[0]\n",
    "    ann_ids = coco_set.getAnnIds(imgIds=image_dict['id'], catIds=cat_ids, iscrowd=None)\n",
    "    anns = coco_set.loadAnns(ann_ids)\n",
    "    if len(anns) > 0:\n",
    "        for i in range(len(anns)):\n",
    "            if i == 0:\n",
    "                mask = np.array(coco_set.annToMask(anns[0]), dtype = np.int64)\n",
    "            else:\n",
    "                mask += coco_set.annToMask(anns[i])\n",
    "\n",
    "        mask[mask>1] = 1#for stones!\n",
    "    else: \n",
    "        w = coco_set.loadImgs(1)[0]['width']\n",
    "        h = coco_set.loadImgs(1)[0]['height']\n",
    "        mask = np.zeros((h,w))\n",
    "    return mask"
   ]
  },
  {
   "cell_type": "code",
   "execution_count": 7,
   "metadata": {
    "tags": []
   },
   "outputs": [],
   "source": [
    "#Create asbest segmentation from annotation file\n",
    "def create_segmentation_from_annotation(coco_dataset, image_root, out_segmentation_root, category_name):\n",
    "    for idx, image_name in coco_dataset.imgs.items():\n",
    "        name = image_name['file_name'].split('/')[-1].split('.')[0]\n",
    "        try:\n",
    "            mask = create_annotation_mask(coco_dataset, idx, image_root, category_name)\n",
    "            plt.imsave(os.path.join(out_segmentation_root, name + '.png'), mask, cmap='Greys')\n",
    "        except Exception as err:\n",
    "            print(idx, err)       \n",
    "        if idx%10 == 0:\n",
    "            print(idx)"
   ]
  },
  {
   "cell_type": "code",
   "execution_count": 4,
   "metadata": {
    "tags": []
   },
   "outputs": [
    {
     "name": "stdout",
     "output_type": "stream",
     "text": [
      "loading annotations into memory...\n",
      "Done (t=0.11s)\n",
      "creating index...\n",
      "index created!\n"
     ]
    },
    {
     "data": {
      "text/plain": [
       "[{'id': 1, 'name': 'stone', 'supercategory': ''},\n",
       " {'id': 2, 'name': 'asbest', 'supercategory': ''}]"
      ]
     },
     "execution_count": 4,
     "metadata": {},
     "output_type": "execute_result"
    }
   ],
   "source": [
    "coco_set = COCO('/home/kirill/Учеба/asbestos/task_asbestos_stone_161220-2021_01_13_12_39_03-segmentation mask 1.1 (1)/annotations/instances_default.json')\n",
    "# coco_set = COCO('/home/kirill/Учеба/asbestos/task_pits_stones_detections_111121-2021_12_03_05_40_57-coco 1.0/annotations/instances_default.json')\n",
    "coco_set.dataset['categories']"
   ]
  },
  {
   "cell_type": "markdown",
   "metadata": {},
   "source": [
    "### asbestos/task_pits_stones_detections_111121-2021_12_03_05_40_57-coco 1.0 "
   ]
  },
  {
   "cell_type": "code",
   "execution_count": 4,
   "metadata": {},
   "outputs": [
    {
     "ename": "NameError",
     "evalue": "name 'coco_set' is not defined",
     "output_type": "error",
     "traceback": [
      "\u001b[0;31m---------------------------------------------------------------------------\u001b[0m",
      "\u001b[0;31mNameError\u001b[0m                                 Traceback (most recent call last)",
      "\u001b[0;32m<ipython-input-4-efec2ade189f>\u001b[0m in \u001b[0;36m<module>\u001b[0;34m\u001b[0m\n\u001b[1;32m      1\u001b[0m \u001b[0;31m# coco_set = COCO('/home/kirill/Учеба/asbestos/task_pits_stones_detections_111121-2021_12_03_05_40_57-coco 1.0/annotations/instances_default.json')\u001b[0m\u001b[0;34m\u001b[0m\u001b[0;34m\u001b[0m\u001b[0;34m\u001b[0m\u001b[0m\n\u001b[0;32m----> 2\u001b[0;31m \u001b[0mprint\u001b[0m\u001b[0;34m(\u001b[0m\u001b[0mcoco_set\u001b[0m\u001b[0;34m.\u001b[0m\u001b[0mdataset\u001b[0m\u001b[0;34m[\u001b[0m\u001b[0;34m'categories'\u001b[0m\u001b[0;34m]\u001b[0m\u001b[0;34m)\u001b[0m\u001b[0;34m\u001b[0m\u001b[0;34m\u001b[0m\u001b[0m\n\u001b[0m\u001b[1;32m      3\u001b[0m \u001b[0mimage_path\u001b[0m \u001b[0;34m=\u001b[0m \u001b[0;34m'/home/kirill/Учеба/asbestos/task_pits_stones_detections_111121-2021_12_03_05_40_57-coco 1.0/images/'\u001b[0m\u001b[0;34m\u001b[0m\u001b[0;34m\u001b[0m\u001b[0m\n\u001b[1;32m      4\u001b[0m \u001b[0;34m\u001b[0m\u001b[0m\n\u001b[1;32m      5\u001b[0m \u001b[0mmask\u001b[0m \u001b[0;34m=\u001b[0m \u001b[0mcreate_annotation_mask\u001b[0m\u001b[0;34m(\u001b[0m\u001b[0mcoco_set\u001b[0m\u001b[0;34m,\u001b[0m \u001b[0;36m52\u001b[0m\u001b[0;34m,\u001b[0m \u001b[0mimage_path\u001b[0m\u001b[0;34m,\u001b[0m \u001b[0mcategory_name\u001b[0m\u001b[0;34m=\u001b[0m\u001b[0;34m'asbest'\u001b[0m\u001b[0;34m)\u001b[0m\u001b[0;34m\u001b[0m\u001b[0;34m\u001b[0m\u001b[0m\n",
      "\u001b[0;31mNameError\u001b[0m: name 'coco_set' is not defined"
     ]
    }
   ],
   "source": [
    "# coco_set = COCO('/home/kirill/Учеба/asbestos/task_pits_stones_detections_111121-2021_12_03_05_40_57-coco 1.0/annotations/instances_default.json')\n",
    "print(coco_set.dataset['categories'])\n",
    "image_path = '/home/kirill/Учеба/asbestos/task_pits_stones_detections_111121-2021_12_03_05_40_57-coco 1.0/images/'\n",
    "\n",
    "mask = create_annotation_mask(coco_set, 52, image_path, category_name='asbest')\n",
    "fig = plt.figure(dpi = 100)\n",
    "plt.imshow(mask)"
   ]
  },
  {
   "cell_type": "code",
   "execution_count": 12,
   "metadata": {},
   "outputs": [],
   "source": [
    "segmentation_root = '/home/kirill/Учеба/asbestos/task_asbestos_stone_161220-2021_01_13_12_39_03-segmentation mask 1.1 (1)/SegmentationAsbest'\n",
    "segmentation_rock_root = '/home/kirill/Учеба/asbestos/task_asbestos_stone_161220-2021_01_13_12_39_03-segmentation mask 1.1 (1)/SegmentationRock'\n",
    "image_path = '/home/kirill/Учеба/asbestos/task_asbestos_stone_161220-2021_01_13_12_39_03-segmentation mask 1.1 (1)/JPEGImages/'"
   ]
  },
  {
   "cell_type": "code",
   "execution_count": 13,
   "metadata": {
    "tags": []
   },
   "outputs": [
    {
     "name": "stdout",
     "output_type": "stream",
     "text": [
      "10\n",
      "20\n",
      "30\n",
      "40\n",
      "50\n"
     ]
    }
   ],
   "source": [
    "create_segmentation_from_annotation(coco_set, image_path, segmentation_rock_root, 'asbest')"
   ]
  },
  {
   "cell_type": "markdown",
   "metadata": {},
   "source": [
    "## lab_common_set"
   ]
  },
  {
   "cell_type": "code",
   "execution_count": 8,
   "metadata": {},
   "outputs": [],
   "source": [
    "dir_image = '/home/kirill/Учеба/asbestos/task_asbestos_stone_lab_common_camera-2021_12_10_13_12_14-mots png 1.0/images/asbestos/stones/lab_common_camera'\n",
    "files = os.listdir(dir_image)"
   ]
  },
  {
   "cell_type": "code",
   "execution_count": 9,
   "metadata": {},
   "outputs": [
    {
     "data": {
      "text/plain": [
       "(5184, 3456, 4)"
      ]
     },
     "execution_count": 9,
     "metadata": {},
     "output_type": "execute_result"
    }
   ],
   "source": [
    "image = np.array(Image.open(Path(dir_image, files[5])))\n",
    "image.shape"
   ]
  },
  {
   "cell_type": "code",
   "execution_count": 10,
   "metadata": {},
   "outputs": [
    {
     "name": "stdout",
     "output_type": "stream",
     "text": [
      "loading annotations into memory...\n",
      "Done (t=0.15s)\n",
      "creating index...\n",
      "index created!\n"
     ]
    },
    {
     "data": {
      "text/plain": [
       "[{'id': 1, 'name': 'stone', 'supercategory': ''},\n",
       " {'id': 2, 'name': 'asbest', 'supercategory': ''}]"
      ]
     },
     "execution_count": 10,
     "metadata": {},
     "output_type": "execute_result"
    }
   ],
   "source": [
    "coco_set = COCO('/home/kirill/Учеба/asbestos/task_asbestos_stone_lab_common_camera-2021_12_10_13_12_14-mots png 1.0/annotations/instances_default.json')\n",
    "coco_set.dataset['categories']"
   ]
  },
  {
   "cell_type": "code",
   "execution_count": 11,
   "metadata": {
    "collapsed": true,
    "jupyter": {
     "outputs_hidden": true
    }
   },
   "outputs": [
    {
     "data": {
      "text/plain": [
       "<matplotlib.image.AxesImage at 0x7f5902542580>"
      ]
     },
     "execution_count": 11,
     "metadata": {},
     "output_type": "execute_result"
    },
    {
     "data": {
      "image/png": "[encoded data removed]",
      "text/plain": [
       "<Figure size 900x600 with 1 Axes>"
      ]
     },
     "metadata": {
      "needs_background": "light"
     },
     "output_type": "display_data"
    }
   ],
   "source": [
    "mask = create_annotation_mask(coco_set, 32, dir_image,'asbest')\n",
    "fig = plt.figure(dpi = 150)\n",
    "plt.imshow(mask,cmap = 'Greys_r')"
   ]
  },
  {
   "cell_type": "code",
   "execution_count": 12,
   "metadata": {},
   "outputs": [
    {
     "name": "stdout",
     "output_type": "stream",
     "text": [
      "10\n",
      "20\n",
      "30\n",
      "40\n"
     ]
    }
   ],
   "source": [
    "segment_dir = '/home/kirill/Учеба/asbestos/task_asbestos_stone_lab_common_camera-2021_12_10_13_12_14-mots png 1.0/SegmentationAsbest'\n",
    "create_segmentation_from_annotation(coco_set,dir_image, segment_dir, 'asbest')"
   ]
  },
  {
   "cell_type": "code",
   "execution_count": 15,
   "metadata": {},
   "outputs": [],
   "source": [
    "image_dir = '../../task_asbestos_stone_lab_common_camera-2021_12_10_13_12_14-mots png 1.0/images/asbestos/stones/lab_common_camera/'\n",
    "mask_dir  = '../../task_asbestos_stone_lab_common_camera-2021_12_10_13_12_14-mots png 1.0/SegmentationAsbest'\n",
    "dataset = AsbestosDataSet(image_dir, mask_dir)"
   ]
  },
  {
   "cell_type": "code",
   "execution_count": 16,
   "metadata": {},
   "outputs": [],
   "source": [
    "def rotate_image_mask(image_dict):\n",
    "    image = image_dict['image']\n",
    "    mask  = image_dict['mask']\n",
    "    name  = image_dict['path']\n",
    "    image = cv2.rotate(image, cv2.cv2.ROTATE_90_CLOCKWISE)\n",
    "    mask = cv2.rotate(mask, cv2.cv2.ROTATE_90_CLOCKWISE)\n",
    "    mask = np.logical_not(mask).astype(np.long)\n",
    "    return image, mask"
   ]
  },
  {
   "cell_type": "code",
   "execution_count": 17,
   "metadata": {
    "collapsed": true,
    "jupyter": {
     "outputs_hidden": true
    }
   },
   "outputs": [
    {
     "name": "stdout",
     "output_type": "stream",
     "text": [
      "IMG_2688.png  обработан\n",
      "IMG_2689.png  обработан\n",
      "IMG_2690.png  обработан\n",
      "IMG_2691.png  обработан\n"
     ]
    },
    {
     "name": "stderr",
     "output_type": "stream",
     "text": [
      "<ipython-input-16-25a47df0bc11>:7: DeprecationWarning: `np.long` is a deprecated alias for `np.compat.long`. To silence this warning, use `np.compat.long` by itself. In the likely event your code does not need to work on Python 2 you can use the builtin `int` for which `np.compat.long` is itself an alias. Doing this will not modify any behaviour and is safe. When replacing `np.long`, you may wish to use e.g. `np.int64` or `np.int32` to specify the precision. If you wish to review your current use, check the release note link for additional information.\n",
      "Deprecated in NumPy 1.20; for more details and guidance: https://numpy.org/devdocs/release/1.20.0-notes.html#deprecations\n",
      "  mask = np.logical_not(mask).astype(np.long)\n"
     ]
    },
    {
     "name": "stdout",
     "output_type": "stream",
     "text": [
      "IMG_2692.png  перевернут\n",
      "IMG_2693.png  обработан\n",
      "IMG_2694.png  обработан\n",
      "IMG_2695.png  обработан\n",
      "IMG_2696.png  обработан\n",
      "IMG_2697.png  обработан\n",
      "IMG_2698.png  перевернут\n",
      "IMG_2699.png  перевернут\n",
      "IMG_2700.png  обработан\n",
      "IMG_2701.png  обработан\n",
      "IMG_2702.png  обработан\n",
      "IMG_2703.png  перевернут\n",
      "IMG_2704.png  перевернут\n",
      "IMG_2705.png  обработан\n",
      "IMG_2708.png  обработан\n",
      "IMG_2709.png  обработан\n",
      "IMG_2710.png  обработан\n",
      "IMG_2711.png  обработан\n",
      "IMG_2712.png  обработан\n",
      "IMG_2713.png  обработан\n",
      "IMG_2714.png  обработан\n",
      "IMG_2715.png  обработан\n",
      "IMG_2716.png  обработан\n",
      "IMG_2717.png  обработан\n",
      "IMG_2718.png  обработан\n",
      "IMG_2719.png  обработан\n",
      "IMG_2720.png  обработан\n",
      "IMG_2721.png  обработан\n",
      "IMG_2722.png  перевернут\n",
      "IMG_2723.png  перевернут\n",
      "IMG_2724.png  обработан\n",
      "IMG_2725.png  обработан\n",
      "IMG_2726.png  перевернут\n",
      "IMG_2727.png  перевернут\n",
      "IMG_2728.png  перевернут\n",
      "IMG_2729.png  обработан\n",
      "IMG_2730.png  перевернут\n",
      "IMG_2731.png  перевернут\n",
      "IMG_2732.png  обработан\n",
      "IMG_2733.png  обработан\n",
      "IMG_2734.png  обработан\n",
      "IMG_2735.png  обработан\n"
     ]
    }
   ],
   "source": [
    "for ex in dataset:\n",
    "    shape = ex['image'].shape\n",
    "    if shape[0] > shape[1]:\n",
    "        image, mask = rotate_image_mask(ex)\n",
    "        name = ex['path']\n",
    "        \n",
    "        plt.imsave(os.path.join(image_dir, name), image)\n",
    "        plt.imsave(os.path.join(mask_dir, name), mask, cmap = 'Greys_r')\n",
    "        print(ex['path'],' перевернут')\n",
    "    else:\n",
    "        print(ex['path'],' обработан')"
   ]
  },
  {
   "cell_type": "code",
   "execution_count": 1,
   "metadata": {},
   "outputs": [],
   "source": [
    "### Резайз"
   ]
  },
  {
   "cell_type": "code",
   "execution_count": 35,
   "metadata": {},
   "outputs": [],
   "source": [
    "out_dir = '/home/office/kirilman/Projects/asbestos/temp_set1/'\n",
    "paths = get_paths_from_dirs(['/home/office/kirilman/Projects/asbestos/temp_set/'],['bmp'])\n",
    "for p in paths:\n",
    "    img = load_img(p, float)\n",
    "    img = cv2.resize(img, (1296,1024))\n",
    "    cv2.imwrite(out_dir+p.name, img)"
   ]
  },
  {
   "cell_type": "code",
   "execution_count": 33,
   "metadata": {},
   "outputs": [
    {
     "data": {
      "text/plain": [
       "[]"
      ]
     },
     "execution_count": 33,
     "metadata": {},
     "output_type": "execute_result"
    }
   ],
   "source": [
    "paths\n"
   ]
  },
  {
   "cell_type": "code",
   "execution_count": 31,
   "metadata": {},
   "outputs": [
    {
     "data": {
      "text/plain": [
       "'27-04-2021-15-35-13_35_3_90_detailed.bmp'"
      ]
     },
     "execution_count": 31,
     "metadata": {},
     "output_type": "execute_result"
    }
   ],
   "source": [
    "p.name"
   ]
  },
  {
   "cell_type": "code",
   "execution_count": 18,
   "metadata": {},
   "outputs": [
    {
     "ename": "TypeError",
     "evalue": "unsupported operand type(s) for //: 'tuple' and 'int'",
     "output_type": "error",
     "traceback": [
      "\u001b[0;31m-----------------------------------------------------------------\u001b[0m",
      "\u001b[0;31mTypeError\u001b[0m                       Traceback (most recent call last)",
      "\u001b[0;32m<ipython-input-18-d48abb9241c1>\u001b[0m in \u001b[0;36m<module>\u001b[0;34m\u001b[0m\n\u001b[0;32m----> 1\u001b[0;31m \u001b[0mimg\u001b[0m\u001b[0;34m.\u001b[0m\u001b[0mshape\u001b[0m\u001b[0;34m//\u001b[0m\u001b[0;36m2\u001b[0m\u001b[0;34m\u001b[0m\u001b[0;34m\u001b[0m\u001b[0m\n\u001b[0m",
      "\u001b[0;31mTypeError\u001b[0m: unsupported operand type(s) for //: 'tuple' and 'int'"
     ]
    }
   ],
   "source": [
    "img.shape2"
   ]
  },
  {
   "cell_type": "code",
   "execution_count": 16,
   "metadata": {},
   "outputs": [
    {
     "data": {
      "text/plain": [
       "1296.0"
      ]
     },
     "execution_count": 16,
     "metadata": {},
     "output_type": "execute_result"
    }
   ],
   "source": [
    "2592/2"
   ]
  }
 ],
 "metadata": {
  "kernelspec": {
   "display_name": "Python 3",
   "language": "python",
   "name": "python3"
  },
  "language_info": {
   "codemirror_mode": {
    "name": "ipython",
    "version": 3
   },
   "file_extension": ".py",
   "mimetype": "text/x-python",
   "name": "python",
   "nbconvert_exporter": "python",
   "pygments_lexer": "ipython3",
   "version": "3.8.5"
  }
 },
 "nbformat": 4,
 "nbformat_minor": 5
}
