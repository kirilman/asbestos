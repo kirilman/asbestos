{
 "cells": [
  {
   "cell_type": "code",
   "execution_count": 1,
   "id": "alternate-accounting",
   "metadata": {},
   "outputs": [],
   "source": [
    "%load_ext autoreload\n",
    "%autoreload 2\n",
    "import numpy as np\n",
    "from matplotlib import pyplot as plt\n",
    "import sys\n",
    "sys.path.append('../dataset/')\n",
    "from dataset import AsbestosDataSet\n",
    "import os \n",
    "from pathlib import Path\n",
    "import json\n",
    "from pycocotools.coco import COCO\n",
    "from PIL import Image\n"
   ]
  },
  {
   "cell_type": "code",
   "execution_count": 2,
   "id": "dynamic-liverpool",
   "metadata": {},
   "outputs": [],
   "source": [
    "ds = AsbestosDataSet('../../task_asbestos_stone_161220-2021_01_13_12_39_03-segmentation mask 1.1 (1)/JPEGImages/asbestos/stones/161220/',\n",
    "              '../../task_asbestos_stone_161220-2021_01_13_12_39_03-segmentation mask 1.1 (1)/SegmentationClass/asbestos/stones/161220/')"
   ]
  },
  {
   "cell_type": "code",
   "execution_count": 3,
   "id": "cathedral-dominant",
   "metadata": {},
   "outputs": [
    {
     "data": {
      "text/plain": [
       "['SegmentationObject',\n",
       " 'JPEGImages',\n",
       " 'annotations',\n",
       " 'SegmentationClass',\n",
       " 'ImageSets',\n",
       " 'labelmap.txt']"
      ]
     },
     "execution_count": 3,
     "metadata": {},
     "output_type": "execute_result"
    }
   ],
   "source": [
    "root = '/home/kirill/Учеба/asbestos/task_asbestos_stone_161220-2021_12_11_09_08_29-segmentation mask 1.1 (1)'\n",
    "root = '/home/kirill/Учеба/asbestos/task_asbestos_stone_161220-2021_01_13_12_39_03-segmentation mask 1.1 (1)'\n",
    "os.listdir(root)"
   ]
  },
  {
   "cell_type": "code",
   "execution_count": 4,
   "id": "muslim-devon",
   "metadata": {},
   "outputs": [
    {
     "name": "stdout",
     "output_type": "stream",
     "text": [
      "<class 'PIL.BmpImagePlugin.BmpImageFile'> <class 'PIL.Image.Image'>\n"
     ]
    }
   ],
   "source": [
    "example = ds[0]\n",
    "print(type(example['image']), type(example['mask']))"
   ]
  },
  {
   "cell_type": "code",
   "execution_count": 5,
   "id": "common-pattern",
   "metadata": {},
   "outputs": [
    {
     "name": "stdout",
     "output_type": "stream",
     "text": [
      "dict_keys(['licenses', 'info', 'categories', 'images', 'annotations'])\n"
     ]
    },
    {
     "data": {
      "text/plain": [
       "[{'id': 1, 'name': 'stone', 'supercategory': ''},\n",
       " {'id': 2, 'name': 'asbest', 'supercategory': ''}]"
      ]
     },
     "execution_count": 5,
     "metadata": {},
     "output_type": "execute_result"
    }
   ],
   "source": [
    "file = open(root +'/annotations/instances_default.json','r') \n",
    "text = file.read()\n",
    "segmentation = json.loads(text)\n",
    "print(segmentation.keys())\n",
    "segmentation['categories']"
   ]
  },
  {
   "cell_type": "code",
   "execution_count": 7,
   "id": "attractive-subdivision",
   "metadata": {},
   "outputs": [
    {
     "name": "stdout",
     "output_type": "stream",
     "text": [
      "18\n"
     ]
    }
   ],
   "source": [
    "labels = {}\n",
    "for s in segmentation['annotations']:\n",
    "    if s['image_id'] == 27:        \n",
    "        labels[s['id']] = s['segmentation']     \n",
    "print(len(labels))"
   ]
  },
  {
   "cell_type": "code",
   "execution_count": 8,
   "id": "parliamentary-ownership",
   "metadata": {},
   "outputs": [
    {
     "name": "stdout",
     "output_type": "stream",
     "text": [
      "2592 2048\n"
     ]
    },
    {
     "data": {
      "text/plain": [
       "<matplotlib.image.AxesImage at 0x7fce18037df0>"
      ]
     },
     "execution_count": 8,
     "metadata": {},
     "output_type": "execute_result"
    },
    {
     "data": {
      "image/png": "[encoded data removed]",
      "text/plain": [
       "<Figure size 864x720 with 1 Axes>"
      ]
     },
     "metadata": {
      "needs_background": "light"
     },
     "output_type": "display_data"
    }
   ],
   "source": [
    "width = segmentation['images'][0]['width']\n",
    "height = segmentation['images'][0]['height']\n",
    "print(width, height)\n",
    "\n",
    "x, y  = [],[]\n",
    "for idx, s in labels.items():\n",
    "    if len(s) < 2:\n",
    "        x.extend(s[0][::2])\n",
    "        y.extend(s[0][1::2])\n",
    "    else:\n",
    "        print('Er')\n",
    "\n",
    "arr_mask = np.zeros((height, width), dtype = np.float64)\n",
    "for x_c, y_c in zip(x,y):\n",
    "    arr_mask[int(y_c - 1), int(x_c - 1),] = 255\n",
    "fig = plt.figure(figsize = (12,10))\n",
    "plt.imshow(arr_mask,  cmap='gray', vmin = 0, vmax = 255)"
   ]
  },
  {
   "cell_type": "markdown",
   "id": "specified-singer",
   "metadata": {},
   "source": [
    "##Конверт"
   ]
  },
  {
   "cell_type": "code",
   "execution_count": 94,
   "id": "naughty-financing",
   "metadata": {},
   "outputs": [],
   "source": [
    "def create_annotation_mask(coco_set, img_indx, image_root, category_name = 'asbest'):\n",
    "    cat_ids  = coco_set.getCatIds(catNms=[category_name])\n",
    "    img_ids  = coco_set.getImgIds(catIds=cat_ids );\n",
    "    image_dict = coco_set.loadImgs(img_indx)[0]\n",
    "    image = np.array(Image.open(os.path.join(image_root, image_dict['file_name'])))\n",
    "    ann_ids = coco_set.getAnnIds(imgIds=image_dict['id'], catIds=cat_ids, iscrowd=None)\n",
    "    anns = coco_set.loadAnns(ann_ids)\n",
    "    mask = coco_set.annToMask(anns[0])\n",
    "    for i in range(len(anns)):\n",
    "        mask += coco_set.annToMask(anns[i])\n",
    "    return mask"
   ]
  },
  {
   "cell_type": "code",
   "execution_count": 95,
   "id": "australian-burst",
   "metadata": {
    "tags": []
   },
   "outputs": [
    {
     "name": "stdout",
     "output_type": "stream",
     "text": [
      "loading annotations into memory...\n",
      "Done (t=0.09s)\n",
      "creating index...\n",
      "index created!\n"
     ]
    }
   ],
   "source": [
    "coco_set = COCO('/home/kirill/Учеба/asbestos/task_asbestos_stone_161220-2021_01_13_12_39_03-segmentation mask 1.1 (1)/annotations/instances_default.json')"
   ]
  },
  {
   "cell_type": "code",
   "execution_count": 96,
   "id": "gorgeous-discharge",
   "metadata": {},
   "outputs": [],
   "source": [
    "mask = create_annotation_mask(coco_set, 1, root)"
   ]
  },
  {
   "cell_type": "code",
   "execution_count": 114,
   "id": "maritime-sperm",
   "metadata": {},
   "outputs": [
    {
     "name": "stdout",
     "output_type": "stream",
     "text": [
      "10\n",
      "20\n",
      "30\n",
      "40\n",
      "50\n",
      "56\n"
     ]
    }
   ],
   "source": [
    "segmentaion_root = '/home/kirill/Учеба/asbestos/task_asbestos_stone_161220-2021_01_13_12_39_03-segmentation mask 1.1 (1)/SegmentationAsbest'\n",
    "for idx, image_name in coco_set.imgs.items():\n",
    "    name = image_name['file_name'].split('/')[-1].split('.')[0]\n",
    "    try:\n",
    "        mask = create_annotation_mask(coco_set, idx, root)\n",
    "        plt.imsave(os.path.join(segmentaion_root, name + '.jpeg'), mask, cmap='Greys')\n",
    "    except:\n",
    "        print(idx)\n",
    "        \n",
    "    if idx%10 == 0:\n",
    "        print(idx)"
   ]
  }
 ],
 "metadata": {
  "kernelspec": {
   "display_name": "Python 3",
   "language": "python",
   "name": "python3"
  },
  "language_info": {
   "codemirror_mode": {
    "name": "ipython",
    "version": 3
   },
   "file_extension": ".py",
   "mimetype": "text/x-python",
   "name": "python",
   "nbconvert_exporter": "python",
   "pygments_lexer": "ipython3",
   "version": "3.8.8"
  }
 },
 "nbformat": 4,
 "nbformat_minor": 5
}
