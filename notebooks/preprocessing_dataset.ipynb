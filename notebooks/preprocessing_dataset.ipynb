{
 "cells": [
  {
   "cell_type": "code",
   "execution_count": 16,
   "id": "rural-degree",
   "metadata": {},
   "outputs": [
    {
     "name": "stdout",
     "output_type": "stream",
     "text": [
      "The autoreload extension is already loaded. To reload it, use:\n",
      "  %reload_ext autoreload\n"
     ]
    }
   ],
   "source": [
    "%load_ext autoreload\n",
    "%autoreload 2\n",
    "import numpy as np\n",
    "from matplotlib import pyplot as plt\n",
    "import sys\n",
    "sys.path.append('../dataset/')\n",
    "from dataset import AsbestosDataSet\n",
    "import os \n",
    "from pathlib import Path\n",
    "import json\n",
    "from pycocotools.coco import COCO\n",
    "from PIL import Image\n"
   ]
  },
  {
   "cell_type": "markdown",
   "id": "adjacent-immigration",
   "metadata": {},
   "source": [
    "##Конверт"
   ]
  },
  {
   "cell_type": "code",
   "execution_count": 17,
   "id": "stupid-subscription",
   "metadata": {},
   "outputs": [],
   "source": [
    "def create_annotation_mask(coco_set, img_indx, image_root, category_name = 'asbest'):\n",
    "    cat_ids  = coco_set.getCatIds(catNms=[category_name])\n",
    "    img_ids  = coco_set.getImgIds(catIds=cat_ids );\n",
    "    image_dict = coco_set.loadImgs(img_indx)[0]\n",
    "    ann_ids = coco_set.getAnnIds(imgIds=image_dict['id'], catIds=cat_ids, iscrowd=None)\n",
    "    anns = coco_set.loadAnns(ann_ids)\n",
    "    if len(anns) > 0:\n",
    "        for i in range(len(anns)):\n",
    "            if i == 0:\n",
    "                mask = np.array(coco_set.annToMask(anns[0]), dtype = np.int64)\n",
    "            else:\n",
    "                mask += coco_set.annToMask(anns[i])\n",
    "\n",
    "        mask[mask>1] = 1#for stones!\n",
    "    else: \n",
    "        w = coco_set.loadImgs(1)[0]['width']\n",
    "        h = coco_set.loadImgs(1)[0]['height']\n",
    "        mask = np.zeros((h,w))\n",
    "    return mask"
   ]
  },
  {
   "cell_type": "code",
   "execution_count": 18,
   "id": "constitutional-domestic",
   "metadata": {
    "tags": []
   },
   "outputs": [],
   "source": [
    "#Create asbest segmentation from annotation file\n",
    "def create_segmentation_from_annotation(coco_dataset, image_root, out_segmentation_root, category_name):\n",
    "    for idx, image_name in coco_dataset.imgs.items():\n",
    "        name = image_name['file_name'].split('/')[-1].split('.')[0]\n",
    "        try:\n",
    "            mask = create_annotation_mask(coco_dataset, idx, image_root, category_name)\n",
    "            plt.imsave(os.path.join(out_segmentation_root, name + '.jpeg'), mask, cmap='Greys')\n",
    "        except Exception as err:\n",
    "            print(idx, err)       \n",
    "        if idx%10 == 0:\n",
    "            print(idx)"
   ]
  },
  {
   "cell_type": "code",
   "execution_count": 4,
   "id": "intelligent-worthy",
   "metadata": {
    "tags": []
   },
   "outputs": [
    {
     "name": "stdout",
     "output_type": "stream",
     "text": [
      "loading annotations into memory...\n",
      "Done (t=0.09s)\n",
      "creating index...\n",
      "index created!\n"
     ]
    },
    {
     "data": {
      "text/plain": [
       "[{'id': 1, 'name': 'stone', 'supercategory': ''},\n",
       " {'id': 2, 'name': 'asbest', 'supercategory': ''}]"
      ]
     },
     "execution_count": 4,
     "metadata": {},
     "output_type": "execute_result"
    }
   ],
   "source": [
    "# coco_set = COCO('/home/kirill/Учеба/asbestos/task_asbestos_stone_161220-2021_01_13_12_39_03-segmentation mask 1.1 (1)/annotations/instances_default.json')\n",
    "coco_set = COCO('/home/kirill/Учеба/asbestos/task_pits_stones_detections_111121-2021_12_03_05_40_57-coco 1.0/annotations/instances_default.json')\n",
    "coco_set.dataset['categories']"
   ]
  },
  {
   "cell_type": "markdown",
   "id": "published-alexander",
   "metadata": {},
   "source": [
    "### asbestos/task_pits_stones_detections_111121-2021_12_03_05_40_57-coco 1.0 "
   ]
  },
  {
   "cell_type": "code",
   "execution_count": 5,
   "id": "generous-hunger",
   "metadata": {},
   "outputs": [
    {
     "name": "stdout",
     "output_type": "stream",
     "text": [
      "loading annotations into memory...\n",
      "Done (t=0.12s)\n",
      "creating index...\n",
      "index created!\n",
      "[{'id': 1, 'name': 'stone', 'supercategory': ''}, {'id': 2, 'name': 'asbest', 'supercategory': ''}]\n"
     ]
    },
    {
     "data": {
      "text/plain": [
       "<matplotlib.image.AxesImage at 0x7f73856ac2e0>"
      ]
     },
     "execution_count": 5,
     "metadata": {},
     "output_type": "execute_result"
    },
    {
     "data": {
      "image/png": "[encoded data removed]",
      "text/plain": [
       "<Figure size 600x400 with 1 Axes>"
      ]
     },
     "metadata": {
      "needs_background": "light"
     },
     "output_type": "display_data"
    }
   ],
   "source": [
    "coco_set = COCO('/home/kirill/Учеба/asbestos/task_pits_stones_detections_111121-2021_12_03_05_40_57-coco 1.0/annotations/instances_default.json')\n",
    "print(coco_set.dataset['categories'])\n",
    "image_path = '/home/kirill/Учеба/asbestos/task_pits_stones_detections_111121-2021_12_03_05_40_57-coco 1.0/images/'\n",
    "\n",
    "mask = create_annotation_mask(coco_set, 3, image_path, category_name='asbest')\n",
    "fig = plt.figure(dpi = 100)\n",
    "plt.imshow(mask)"
   ]
  },
  {
   "cell_type": "code",
   "execution_count": 20,
   "id": "parental-acoustic",
   "metadata": {},
   "outputs": [],
   "source": [
    "segmentation_root = '/home/kirill/Учеба/asbestos/task_asbestos_stone_161220-2021_01_13_12_39_03-segmentation mask 1.1 (1)/SegmentationAsbest'\n",
    "segmentation_rock_root = '/home/kirill/Учеба/asbestos/task_asbestos_stone_161220-2021_01_13_12_39_03-segmentation mask 1.1 (1)/SegmentationRock'\n",
    "image_path = '/home/kirill/Учеба/asbestos/task_asbestos_stone_161220-2021_01_13_12_39_03-segmentation mask 1.1 (1)/JPEGImages/'"
   ]
  },
  {
   "cell_type": "code",
   "execution_count": 7,
   "id": "material-silence",
   "metadata": {
    "tags": []
   },
   "outputs": [
    {
     "name": "stdout",
     "output_type": "stream",
     "text": [
      "10\n",
      "20\n",
      "30\n",
      "40\n",
      "50\n",
      "56 local variable 'mask' referenced before assignment\n"
     ]
    }
   ],
   "source": [
    "create_segmentation_from_annotation(coco_set, image_path, segmentation_rock_root, 'asbest')"
   ]
  },
  {
   "cell_type": "markdown",
   "id": "blond-honduras",
   "metadata": {},
   "source": [
    "## lab_common_set"
   ]
  },
  {
   "cell_type": "code",
   "execution_count": 8,
   "id": "manufactured-timing",
   "metadata": {},
   "outputs": [],
   "source": [
    "dir_image = '/home/kirill/Учеба/asbestos/task_asbestos_stone_lab_common_camera-2021_12_10_13_12_14-mots png 1.0/images/asbestos/stones/lab_common_camera'\n",
    "files = os.listdir(dir_image)"
   ]
  },
  {
   "cell_type": "code",
   "execution_count": 13,
   "id": "available-upgrade",
   "metadata": {},
   "outputs": [
    {
     "data": {
      "text/plain": [
       "(5184, 3456, 4)"
      ]
     },
     "execution_count": 13,
     "metadata": {},
     "output_type": "execute_result"
    }
   ],
   "source": [
    "image = np.array(Image.open(Path(dir_image, files[5])))\n",
    "image.shape"
   ]
  },
  {
   "cell_type": "code",
   "execution_count": 14,
   "id": "private-cheat",
   "metadata": {
    "collapsed": true,
    "jupyter": {
     "outputs_hidden": true
    },
    "tags": []
   },
   "outputs": [
    {
     "name": "stdout",
     "output_type": "stream",
     "text": [
      "IMG_2715.png :  (3456, 5184, 4)\n",
      "IMG_2718.png :  (3456, 5184, 4)\n",
      "IMG_2700.png :  (3456, 5184, 4)\n",
      "IMG_2713.png :  (3456, 5184, 4)\n",
      "IMG_2695.png :  (3456, 5184, 4)\n",
      "IMG_2727.png :  (5184, 3456, 4)\n",
      "IMG_2709.png :  (3456, 5184, 4)\n",
      "IMG_2701.png :  (3456, 5184, 4)\n",
      "IMG_2726.png :  (5184, 3456, 4)\n",
      "IMG_2689.png :  (3456, 5184, 4)\n",
      "IMG_2698.png :  (5184, 3456, 4)\n",
      "IMG_2690.png :  (3456, 5184, 4)\n",
      "IMG_2711.png :  (3456, 5184, 4)\n",
      "IMG_2697.png :  (3456, 5184, 4)\n",
      "IMG_2693.png :  (3456, 5184, 4)\n",
      "IMG_2703.png :  (5184, 3456, 4)\n",
      "IMG_2692.png :  (5184, 3456, 4)\n",
      "IMG_2729.png :  (3456, 5184, 4)\n",
      "IMG_2721.png :  (3456, 5184, 4)\n",
      "IMG_2710.png :  (3456, 5184, 4)\n",
      "IMG_2723.png :  (5184, 3456, 4)\n",
      "IMG_2702.png :  (3456, 5184, 4)\n",
      "IMG_2720.png :  (3456, 5184, 4)\n",
      "IMG_2712.png :  (3456, 5184, 4)\n",
      "IMG_2694.png :  (3456, 5184, 4)\n",
      "IMG_2704.png :  (5184, 3456, 4)\n",
      "IMG_2732.png :  (3456, 5184, 4)\n",
      "IMG_2714.png :  (3456, 5184, 4)\n",
      "IMG_2696.png :  (3456, 5184, 4)\n",
      "IMG_2688.png :  (3456, 5184, 4)\n",
      "IMG_2699.png :  (5184, 3456, 4)\n",
      "IMG_2717.png :  (3456, 5184, 4)\n",
      "IMG_2716.png :  (3456, 5184, 4)\n",
      "IMG_2719.png :  (3456, 5184, 4)\n",
      "IMG_2735.png :  (3456, 5184, 4)\n",
      "IMG_2733.png :  (3456, 5184, 4)\n",
      "IMG_2728.png :  (5184, 3456, 4)\n",
      "IMG_2730.png :  (5184, 3456, 4)\n",
      "IMG_2708.png :  (3456, 5184, 4)\n",
      "IMG_2724.png :  (3456, 5184, 4)\n",
      "IMG_2725.png :  (3456, 5184, 4)\n",
      "IMG_2705.png :  (3456, 5184, 4)\n",
      "IMG_2734.png :  (3456, 5184, 4)\n",
      "IMG_2691.png :  (3456, 5184, 4)\n",
      "IMG_2731.png :  (5184, 3456, 4)\n",
      "IMG_2722.png :  (5184, 3456, 4)\n"
     ]
    }
   ],
   "source": [
    "for f in files:\n",
    "    image = np.array(Image.open(Path(dir_image,f)))\n",
    "    print(f,': ',image.shape)"
   ]
  },
  {
   "cell_type": "code",
   "execution_count": 41,
   "id": "defensive-catering",
   "metadata": {},
   "outputs": [
    {
     "name": "stdout",
     "output_type": "stream",
     "text": [
      "loading annotations into memory...\n",
      "Done (t=0.11s)\n",
      "creating index...\n",
      "index created!\n"
     ]
    },
    {
     "data": {
      "text/plain": [
       "[{'id': 1, 'name': 'stone', 'supercategory': ''},\n",
       " {'id': 2, 'name': 'asbest', 'supercategory': ''}]"
      ]
     },
     "execution_count": 41,
     "metadata": {},
     "output_type": "execute_result"
    }
   ],
   "source": [
    "coco_set = COCO('/home/kirill/Учеба/asbestos/task_asbestos_stone_lab_common_camera-2021_12_10_13_12_14-mots png 1.0/annotations/instances_default.json')\n",
    "coco_set.dataset['categories']"
   ]
  },
  {
   "cell_type": "code",
   "execution_count": 48,
   "id": "applicable-video",
   "metadata": {},
   "outputs": [
    {
     "data": {
      "text/plain": [
       "<matplotlib.image.AxesImage at 0x7f72f6130310>"
      ]
     },
     "execution_count": 48,
     "metadata": {},
     "output_type": "execute_result"
    },
    {
     "data": {
      "image/png": "[encoded data removed]",
      "text/plain": [
       "<Figure size 432x288 with 1 Axes>"
      ]
     },
     "metadata": {
      "needs_background": "light"
     },
     "output_type": "display_data"
    }
   ],
   "source": [
    "mask = create_annotation_mask(coco_set, 32, dir_image,'asbest')\n",
    "plt.imshow(mask)"
   ]
  },
  {
   "cell_type": "code",
   "execution_count": 50,
   "id": "fifth-liberal",
   "metadata": {},
   "outputs": [
    {
     "name": "stdout",
     "output_type": "stream",
     "text": [
      "10\n",
      "20\n",
      "30\n",
      "40\n"
     ]
    }
   ],
   "source": [
    "segment_dir = '/home/kirill/Учеба/asbestos/task_asbestos_stone_lab_common_camera-2021_12_10_13_12_14-mots png 1.0/SegmentationAsbest'\n",
    "create_segmentation_from_annotation(coco_set,dir_image, segment_dir, 'asbest')"
   ]
  },
  {
   "cell_type": "code",
   "execution_count": null,
   "id": "fourth-parliament",
   "metadata": {},
   "outputs": [],
   "source": []
  }
 ],
 "metadata": {
  "kernelspec": {
   "display_name": "Python 3",
   "language": "python",
   "name": "python3"
  },
  "language_info": {
   "codemirror_mode": {
    "name": "ipython",
    "version": 3
   },
   "file_extension": ".py",
   "mimetype": "text/x-python",
   "name": "python",
   "nbconvert_exporter": "python",
   "pygments_lexer": "ipython3",
   "version": "3.8.8"
  }
 },
 "nbformat": 4,
 "nbformat_minor": 5
}
