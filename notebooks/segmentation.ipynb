{
 "cells": [
  {
   "cell_type": "code",
   "execution_count": 3,
   "id": "e71cd677-922c-4825-93c7-07c964f1850d",
   "metadata": {},
   "outputs": [],
   "source": [
    "import numpy as np\n",
    "import os \n",
    "from pathlib import Path\n",
    "from typing import List, Dict, Union\n",
    "import glob\n",
    "from matplotlib.patches import Polygon\n",
    "\n",
    "PathLike = Union[Path, str]\n",
    "import json\n",
    "import matplotlib.pyplot as plt\n",
    "import sys\n",
    "sys.path.append('../')\n",
    "from dataset import get_paths\n",
    "from pycocotools.coco import COCO\n",
    "import pandas as pd\n",
    "import json"
   ]
  },
  {
   "cell_type": "code",
   "execution_count": 4,
   "id": "eaa2df7d-09bf-42f2-95b8-9c3f477cee16",
   "metadata": {},
   "outputs": [
    {
     "data": {
      "text/plain": [
       "['../../dataset/annotation/pits_stones_detections_300920/instances_default.json',\n",
       " '../../dataset/annotation/asbestos_stone_161220/instances_default.json',\n",
       " '../../dataset/annotation/pits_stones_detections_020221/instances_default.json',\n",
       " '../../dataset/annotation/pits_stones_detections_161120/instances_default.json',\n",
       " '../../dataset/annotation/open-pit-zoomed-161120/instances_default.json',\n",
       " '../../dataset/annotation/pits_stones_detections_161220/instances_default.json',\n",
       " '../../dataset/annotation/test transport/annotations/instances_default.json',\n",
       " '../../dataset/annotation/asbestos_stone_020221/instances_default.json',\n",
       " '../../dataset/annotation/asbest_stones_111121/instances_default.json',\n",
       " '../../dataset/annotation/pits_stones_detections_111121/instances_default.json']"
      ]
     },
     "execution_count": 4,
     "metadata": {},
     "output_type": "execute_result"
    }
   ],
   "source": [
    "list_path_to_annotations = list(filter( lambda x: True if x.split('.')[-1] == 'json' else False, get_paths('../../dataset/annotation/')))\n",
    "len(list_path_to_annotations)\n",
    "list_path_to_annotations"
   ]
  },
  {
   "cell_type": "code",
   "execution_count": null,
   "id": "5af414ae-5c0a-4e58-973a-18c2469a9f38",
   "metadata": {
    "tags": []
   },
   "outputs": [],
   "source": [
    "coco = COCO(list_path_to_annotations[5])\n",
    "print(len(coco.anns), len(coco.imgs))\n",
    "image_names = coco.imgs\n",
    "image_names"
   ]
  },
  {
   "cell_type": "code",
   "execution_count": null,
   "id": "6a25b5ec-dc3b-417d-9c2f-b8fc5c553c33",
   "metadata": {
    "tags": []
   },
   "outputs": [],
   "source": [
    "frame = pd.DataFrame({d['id']: d for d in json.load(open(list_path_to_annotations[5],'r'))['annotations']}).T\n",
    "frame"
   ]
  },
  {
   "cell_type": "code",
   "execution_count": null,
   "id": "cd9f64a0-4b25-40f2-b5fb-1e49644e1ca9",
   "metadata": {
    "tags": []
   },
   "outputs": [],
   "source": [
    "from typing import List, Union\n",
    "\n",
    "def image_segmentation_from_frame(frame: pd.DataFrame, img_id: int, category_id:int, images):\n",
    "    maska = (frame.image_id == img_id) & (frame.category_id == category_id)\n",
    "    h_img = images[img_id]['height']\n",
    "    w_img = images[img_id]['width']\n",
    "    return [{category_id: normalize_segment(np.array(list(s[0])), h_img, w_img)} for s in frame[maska].segmentation]\n",
    "\n",
    "def normalize_segment(segment, h_img, w_img):\n",
    "    segment[::2] /=w_img\n",
    "    segment[1::2]/=h_img\n",
    "    return segment\n",
    "\n",
    "p\n",
    "            \n",
    "img_id = 13\n",
    "s = image_segmentation_from_frame(frame, img_id, 1, image_names)\n",
    "save_segmentation(s,image_names[img_id]['file_name'].split('.')[-2] + '.txt')"
   ]
  },
  {
   "cell_type": "code",
   "execution_count": null,
   "id": "fefc233a-678c-4cb4-a9f3-567681ffea19",
   "metadata": {
    "tags": []
   },
   "outputs": [],
   "source": [
    "frame"
   ]
  },
  {
   "cell_type": "code",
   "execution_count": null,
   "id": "0aa81372-dc98-4c9b-8243-6ddd55591162",
   "metadata": {},
   "outputs": [],
   "source": [
    "out_path = Path('/home/kirilman/Project/dataset/segmentation/seg/')"
   ]
  },
  {
   "cell_type": "code",
   "execution_count": null,
   "id": "9e2b8323-e793-48c6-b81b-5af92f8fcce8",
   "metadata": {},
   "outputs": [],
   "source": [
    "for k, v in image_names.items():\n",
    "    if isinstance(v, dict):\n",
    "        img_id = v['id']\n",
    "        segments = image_segmentation_from_frame(frame, img_id, 1,image_names)\n",
    "        filename = out_path \\ v['file_name'].split('.')[-2] + '.txt'\n",
    "        save_segmentation(segments, filename)"
   ]
  },
  {
   "cell_type": "code",
   "execution_count": null,
   "id": "54a753cf-73f4-44c0-8803-561661fa47bd",
   "metadata": {},
   "outputs": [],
   "source": [
    "arr_segment = np.array(segments[0][1])\n",
    "arr_segment[::2] = arr_segment[::2]/"
   ]
  },
  {
   "cell_type": "code",
   "execution_count": null,
   "id": "6151151b-c5ea-44a8-a304-3b15ad21e3ec",
   "metadata": {
    "tags": []
   },
   "outputs": [],
   "source": [
    "count_images = 0\n",
    "for path_2_anno in list_path_to_annotations:\n",
    "    coco = COCO(path_2_anno)\n",
    "    count_images+=len(coco.imgs)\n",
    "    print(len(coco.anns), len(coco.imgs))\n",
    "    image_names = coco.imgs\n",
    "    for k, image in image_names.items():\n",
    "        if isinstance(image, dict):\n",
    "            img_id = image['id']\n",
    "            segments = image_segmentation_from_frame(frame, img_id, 1,image_names)\n",
    "            filename = str(out_path / image['file_name'].split('/')[-1].split('.')[-2]) + '.txt'\n",
    "            # save_segmentation(segments, filename)\n",
    "            print(path_2_anno + image['file_name'])"
   ]
  },
  {
   "cell_type": "code",
   "execution_count": 11,
   "id": "36e2c6fb-2877-4bfd-805a-01b7cb16ec2f",
   "metadata": {
    "collapsed": true,
    "jupyter": {
     "outputs_hidden": true
    },
    "tags": []
   },
   "outputs": [
    {
     "name": "stdout",
     "output_type": "stream",
     "text": [
      "1 /home/kirilman/Project/asbestos/notebooks/test/637411995776438802.txt\n",
      "2 /home/kirilman/Project/asbestos/notebooks/test/637411996282308540.txt\n",
      "3 /home/kirilman/Project/asbestos/notebooks/test/637411996762257274.txt\n",
      "4 /home/kirilman/Project/asbestos/notebooks/test/637411996936004163.txt\n",
      "5 /home/kirilman/Project/asbestos/notebooks/test/637411997170336959.txt\n",
      "6 /home/kirilman/Project/asbestos/notebooks/test/637411997454003674.txt\n",
      "7 /home/kirilman/Project/asbestos/notebooks/test/637411997807248187.txt\n",
      "8 /home/kirilman/Project/asbestos/notebooks/test/637411999164403847.txt\n",
      "9 /home/kirilman/Project/asbestos/notebooks/test/637411999349438615.txt\n",
      "10 /home/kirilman/Project/asbestos/notebooks/test/637411999508652864.txt\n",
      "11 /home/kirilman/Project/asbestos/notebooks/test/637411999723598077.txt\n",
      "12 /home/kirilman/Project/asbestos/notebooks/test/637411999957739159.txt\n",
      "13 /home/kirilman/Project/asbestos/notebooks/test/637412000267309961.txt\n",
      "14 /home/kirilman/Project/asbestos/notebooks/test/637412000481437248.txt\n",
      "15 /home/kirilman/Project/asbestos/notebooks/test/637412000749181618.txt\n",
      "16 /home/kirilman/Project/asbestos/notebooks/test/637412001198154273.txt\n",
      "17 /home/kirilman/Project/asbestos/notebooks/test/637412002286150919.txt\n",
      "18 /home/kirilman/Project/asbestos/notebooks/test/637412002326930887.txt\n",
      "19 /home/kirilman/Project/asbestos/notebooks/test/637412002540099552.txt\n",
      "20 /home/kirilman/Project/asbestos/notebooks/test/637412002745602432.txt\n",
      "21 /home/kirilman/Project/asbestos/notebooks/test/637412002930793240.txt\n",
      "22 /home/kirilman/Project/asbestos/notebooks/test/637412003148300747.txt\n",
      "23 /home/kirilman/Project/asbestos/notebooks/test/637412003445852634.txt\n",
      "24 /home/kirilman/Project/asbestos/notebooks/test/637412003777752115.txt\n",
      "25 /home/kirilman/Project/asbestos/notebooks/test/637412004275790435.txt\n",
      "26 /home/kirilman/Project/asbestos/notebooks/test/637412004670323500.txt\n",
      "27 /home/kirilman/Project/asbestos/notebooks/test/637412006349166868.txt\n",
      "28 /home/kirilman/Project/asbestos/notebooks/test/637412006744396071.txt\n",
      "29 /home/kirilman/Project/asbestos/notebooks/test/637412006957367334.txt\n",
      "30 /home/kirilman/Project/asbestos/notebooks/test/637412007102987769.txt\n",
      "31 /home/kirilman/Project/asbestos/notebooks/test/637412007621065361.txt\n",
      "32 /home/kirilman/Project/asbestos/notebooks/test/637412009420317460.txt\n",
      "33 /home/kirilman/Project/asbestos/notebooks/test/637412009557227173.txt\n",
      "34 /home/kirilman/Project/asbestos/notebooks/test/637412009740190113.txt\n",
      "35 /home/kirilman/Project/asbestos/notebooks/test/637412009909600353.txt\n",
      "36 /home/kirilman/Project/asbestos/notebooks/test/637412010078385288.txt\n",
      "37 /home/kirilman/Project/asbestos/notebooks/test/637412010389141266.txt\n",
      "38 /home/kirilman/Project/asbestos/notebooks/test/637412028109742497.txt\n",
      "39 /home/kirilman/Project/asbestos/notebooks/test/637412028767035032.txt\n",
      "40 /home/kirilman/Project/asbestos/notebooks/test/637412029008318075.txt\n",
      "41 /home/kirilman/Project/asbestos/notebooks/test/637412029106440063.txt\n",
      "42 /home/kirilman/Project/asbestos/notebooks/test/637412029350499616.txt\n",
      "43 /home/kirilman/Project/asbestos/notebooks/test/637412029559868145.txt\n",
      "44 /home/kirilman/Project/asbestos/notebooks/test/637412035953825679.txt\n",
      "45 /home/kirilman/Project/asbestos/notebooks/test/637412036041010324.txt\n",
      "46 /home/kirilman/Project/asbestos/notebooks/test/637412036202768156.txt\n",
      "47 /home/kirilman/Project/asbestos/notebooks/test/637412036341255556.txt\n",
      "48 /home/kirilman/Project/asbestos/notebooks/test/637412036419065712.txt\n",
      "49 /home/kirilman/Project/asbestos/notebooks/test/637412037004305676.txt\n",
      "50 /home/kirilman/Project/asbestos/notebooks/test/637412037162792242.txt\n",
      "51 /home/kirilman/Project/asbestos/notebooks/test/637412037282322980.txt\n",
      "52 /home/kirilman/Project/asbestos/notebooks/test/637412037419079377.txt\n",
      "53 /home/kirilman/Project/asbestos/notebooks/test/637412037557831886.txt\n",
      "54 /home/kirilman/Project/asbestos/notebooks/test/637412037749791299.txt\n",
      "55 /home/kirilman/Project/asbestos/notebooks/test/637412037895894615.txt\n",
      "56 /home/kirilman/Project/asbestos/notebooks/test/637412038782432255.txt\n",
      "57 /home/kirilman/Project/asbestos/notebooks/test/637412038896266297.txt\n",
      "58 /home/kirilman/Project/asbestos/notebooks/test/637412039010481767.txt\n",
      "59 /home/kirilman/Project/asbestos/notebooks/test/637412039124853878.txt\n",
      "60 /home/kirilman/Project/asbestos/notebooks/test/637412039329285082.txt\n",
      "61 /home/kirilman/Project/asbestos/notebooks/test/637412042232528749.txt\n",
      "62 /home/kirilman/Project/asbestos/notebooks/test/637412042375472143.txt\n",
      "63 /home/kirilman/Project/asbestos/notebooks/test/637412042510533002.txt\n",
      "64 /home/kirilman/Project/asbestos/notebooks/test/637412042889626826.txt\n",
      "65 /home/kirilman/Project/asbestos/notebooks/test/637412043052369582.txt\n",
      "66 /home/kirilman/Project/asbestos/notebooks/test/637412043190378663.txt\n",
      "67 /home/kirilman/Project/asbestos/notebooks/test/637412043424476025.txt\n",
      "68 /home/kirilman/Project/asbestos/notebooks/test/637412043571346243.txt\n"
     ]
    }
   ],
   "source": [
    "sys.path.append('/home/kirilman/Project/asbestos/dataset')\n",
    "from dataset import is_image\n",
    "from dataset.processor import JsonSegmentProcessing\n",
    "import shutil"
   ]
  },
  {
   "cell_type": "code",
   "execution_count": 12,
   "id": "fbe76ea1-9ad8-4275-9df3-c0296906cea8",
   "metadata": {},
   "outputs": [
    {
     "name": "stdout",
     "output_type": "stream",
     "text": [
      "rm: невозможно удалить '/home/kirilman/Project/dataset/segmentation/seg/*.txt': Нет такого файла или каталога\n"
     ]
    }
   ],
   "source": [
    "!rm -r /home/kirilman/Project/dataset/segmentation/seg/*.txt"
   ]
  },
  {
   "cell_type": "code",
   "execution_count": 13,
   "id": "075bd5c8-ed72-4868-b260-dc0580363a17",
   "metadata": {},
   "outputs": [
    {
     "data": {
      "text/plain": [
       "['../../dataset/annotation/pits_stones_detections_300920/instances_default.json',\n",
       " '../../dataset/annotation/asbestos_stone_161220/instances_default.json',\n",
       " '../../dataset/annotation/pits_stones_detections_020221/instances_default.json',\n",
       " '../../dataset/annotation/pits_stones_detections_161120/instances_default.json',\n",
       " '../../dataset/annotation/open-pit-zoomed-161120/instances_default.json',\n",
       " '../../dataset/annotation/pits_stones_detections_161220/instances_default.json',\n",
       " '../../dataset/annotation/test transport/annotations/instances_default.json',\n",
       " '../../dataset/annotation/asbestos_stone_020221/instances_default.json',\n",
       " '../../dataset/annotation/asbest_stones_111121/instances_default.json',\n",
       " '../../dataset/annotation/pits_stones_detections_111121/instances_default.json']"
      ]
     },
     "execution_count": 13,
     "metadata": {},
     "output_type": "execute_result"
    }
   ],
   "source": [
    "list_path_to_annotations"
   ]
  },
  {
   "cell_type": "code",
   "execution_count": 14,
   "id": "686d2d91-d935-4935-b90b-49befa0f3693",
   "metadata": {
    "collapsed": true,
    "jupyter": {
     "outputs_hidden": true
    },
    "tags": []
   },
   "outputs": [
    {
     "name": "stdout",
     "output_type": "stream",
     "text": [
      "1 /home/kirilman/Project/dataset/segmentation/seg/9,76-00-637370579060886778.txt\n",
      "2 /home/kirilman/Project/dataset/segmentation/seg/9,7-00-637370594709195269.txt\n",
      "3 /home/kirilman/Project/dataset/segmentation/seg/8,85-00-637370578761751298.txt\n",
      "4 /home/kirilman/Project/dataset/segmentation/seg/8,46-00-637370577745395177.txt\n",
      "5 /home/kirilman/Project/dataset/segmentation/seg/7,8-00-637370537551950058.txt\n",
      "6 /home/kirilman/Project/dataset/segmentation/seg/7,8-00-637370536807321165.txt\n",
      "7 /home/kirilman/Project/dataset/segmentation/seg/7,45-00-637370594318477935.txt\n",
      "8 /home/kirilman/Project/dataset/segmentation/seg/7,135-00-637370539425358956.txt\n",
      "9 /home/kirilman/Project/dataset/segmentation/seg/5,7-00-637370557815778356.txt\n",
      "10 /home/kirilman/Project/dataset/segmentation/seg/5,12-00-637370557201650019.txt\n",
      "11 /home/kirilman/Project/dataset/segmentation/seg/12,66-00-637370579602887107.txt\n",
      "1 /home/kirilman/Project/dataset/segmentation/seg/ManualGeneralImage_10_01_26.txt\n",
      "2 /home/kirilman/Project/dataset/segmentation/seg/ManualGeneralImage_09_36_44.txt\n",
      "3 /home/kirilman/Project/dataset/segmentation/seg/ManualGeneralImage_09_36_12.txt\n",
      "4 /home/kirilman/Project/dataset/segmentation/seg/ManualGeneralImage_09_35_52.txt\n",
      "5 /home/kirilman/Project/dataset/segmentation/seg/ManualGeneralImage_09_35_25.txt\n",
      "6 /home/kirilman/Project/dataset/segmentation/seg/ManualGeneralImage_09_32_23.txt\n",
      "7 /home/kirilman/Project/dataset/segmentation/seg/ManualGeneralImage_09_31_25.txt\n",
      "8 /home/kirilman/Project/dataset/segmentation/seg/ManualGeneralImage_09_30_19.txt\n",
      "9 /home/kirilman/Project/dataset/segmentation/seg/ManualGeneralImage_09_27_13.txt\n",
      "10 /home/kirilman/Project/dataset/segmentation/seg/ManualDetailedImage_11_09_58.txt\n",
      "11 /home/kirilman/Project/dataset/segmentation/seg/ManualDetailedImage_11_09_20.txt\n",
      "12 /home/kirilman/Project/dataset/segmentation/seg/ManualDetailedImage_11_09_00.txt\n",
      "13 /home/kirilman/Project/dataset/segmentation/seg/ManualDetailedImage_11_08_37.txt\n",
      "14 /home/kirilman/Project/dataset/segmentation/seg/ManualDetailedImage_11_07_55.txt\n",
      "15 /home/kirilman/Project/dataset/segmentation/seg/ManualDetailedImage_11_07_12.txt\n",
      "16 /home/kirilman/Project/dataset/segmentation/seg/ManualDetailedImage_11_06_30.txt\n",
      "17 /home/kirilman/Project/dataset/segmentation/seg/ManualDetailedImage_11_06_02.txt\n",
      "18 /home/kirilman/Project/dataset/segmentation/seg/ManualDetailedImage_11_05_43.txt\n",
      "19 /home/kirilman/Project/dataset/segmentation/seg/ManualDetailedImage_11_05_06.txt\n",
      "20 /home/kirilman/Project/dataset/segmentation/seg/ManualDetailedImage_11_04_07.txt\n",
      "21 /home/kirilman/Project/dataset/segmentation/seg/ManualDetailedImage_11_03_34.txt\n",
      "22 /home/kirilman/Project/dataset/segmentation/seg/ManualDetailedImage_10_29_22.txt\n",
      "23 /home/kirilman/Project/dataset/segmentation/seg/ManualDetailedImage_10_27_58.txt\n",
      "24 /home/kirilman/Project/dataset/segmentation/seg/ManualDetailedImage_10_27_30.txt\n",
      "25 /home/kirilman/Project/dataset/segmentation/seg/ManualDetailedImage_10_27_18.txt\n",
      "26 /home/kirilman/Project/dataset/segmentation/seg/ManualDetailedImage_10_26_43.txt\n",
      "27 /home/kirilman/Project/dataset/segmentation/seg/ManualDetailedImage_10_10_10.txt\n",
      "28 /home/kirilman/Project/dataset/segmentation/seg/ManualDetailedImage_10_07_31.txt\n",
      "29 /home/kirilman/Project/dataset/segmentation/seg/ManualDetailedImage_10_06_46.txt\n",
      "30 /home/kirilman/Project/dataset/segmentation/seg/ManualDetailedImage_10_05_58.txt\n",
      "31 /home/kirilman/Project/dataset/segmentation/seg/ManualDetailedImage_10_05_20.txt\n",
      "32 /home/kirilman/Project/dataset/segmentation/seg/ManualDetailedImage_10_04_15.txt\n",
      "33 /home/kirilman/Project/dataset/segmentation/seg/ManualDetailedImage_10_03_35.txt\n",
      "34 /home/kirilman/Project/dataset/segmentation/seg/ManualDetailedImage_10_03_00.txt\n",
      "35 /home/kirilman/Project/dataset/segmentation/seg/ManualDetailedImage_10_01_52.txt\n",
      "36 /home/kirilman/Project/dataset/segmentation/seg/Full_637437106803651785.txt\n",
      "37 /home/kirilman/Project/dataset/segmentation/seg/Full_637437106555222339.txt\n",
      "38 /home/kirilman/Project/dataset/segmentation/seg/Full_637437106319252722.txt\n",
      "39 /home/kirilman/Project/dataset/segmentation/seg/Full_637437106067970531.txt\n",
      "40 /home/kirilman/Project/dataset/segmentation/seg/Full_637437105810125910.txt\n",
      "41 /home/kirilman/Project/dataset/segmentation/seg/Full_637437105568051760.txt\n",
      "42 /home/kirilman/Project/dataset/segmentation/seg/Full_637437105340049845.txt\n",
      "43 /home/kirilman/Project/dataset/segmentation/seg/Full_637437105082761751.txt\n",
      "44 /home/kirilman/Project/dataset/segmentation/seg/Full_637437074810293632.txt\n",
      "45 /home/kirilman/Project/dataset/segmentation/seg/Full_637437074505417632.txt\n",
      "46 /home/kirilman/Project/dataset/segmentation/seg/Full_637437073345787769.txt\n",
      "47 /home/kirilman/Project/dataset/segmentation/seg/Full_637437072277634535.txt\n",
      "48 /home/kirilman/Project/dataset/segmentation/seg/Full_637437071968385663.txt\n",
      "49 /home/kirilman/Project/dataset/segmentation/seg/Full_637437071697103795.txt\n",
      "50 /home/kirilman/Project/dataset/segmentation/seg/Full_637437071478204548.txt\n",
      "51 /home/kirilman/Project/dataset/segmentation/seg/Full_637437070728092786.txt\n",
      "52 /home/kirilman/Project/dataset/segmentation/seg/Full_637437070174162855.txt\n",
      "53 /home/kirilman/Project/dataset/segmentation/seg/Full_637437068913472804.txt\n",
      "54 /home/kirilman/Project/dataset/segmentation/seg/Full_637437068603828842.txt\n",
      "55 /home/kirilman/Project/dataset/segmentation/seg/Full_637437067791217693.txt\n",
      "56 /home/kirilman/Project/dataset/segmentation/seg/Full_637437067296374854.txt\n",
      "57 /home/kirilman/Project/dataset/segmentation/seg/Full_637437067053998640.txt\n",
      "1 /home/kirilman/Project/dataset/segmentation/seg/ManualGeneralImage_12_46_01.txt\n",
      "2 /home/kirilman/Project/dataset/segmentation/seg/ManualGeneralImage_12_45_43.txt\n",
      "3 /home/kirilman/Project/dataset/segmentation/seg/ManualGeneralImage_12_45_41.txt\n",
      "4 /home/kirilman/Project/dataset/segmentation/seg/ManualGeneralImage_12_45_28.txt\n",
      "5 /home/kirilman/Project/dataset/segmentation/seg/ManualGeneralImage_12_45_16.txt\n",
      "6 /home/kirilman/Project/dataset/segmentation/seg/ManualGeneralImage_12_44_50.txt\n",
      "7 /home/kirilman/Project/dataset/segmentation/seg/ManualGeneralImage_12_44_39.txt\n",
      "8 /home/kirilman/Project/dataset/segmentation/seg/ManualGeneralImage_12_44_31.txt\n",
      "9 /home/kirilman/Project/dataset/segmentation/seg/ManualGeneralImage_12_44_25.txt\n",
      "10 /home/kirilman/Project/dataset/segmentation/seg/ManualGeneralImage_12_44_18.txt\n",
      "11 /home/kirilman/Project/dataset/segmentation/seg/ManualGeneralImage_12_44_10.txt\n",
      "12 /home/kirilman/Project/dataset/segmentation/seg/ManualGeneralImage_12_43_47.txt\n",
      "13 /home/kirilman/Project/dataset/segmentation/seg/ManualGeneralImage_12_02_08.txt\n",
      "1 /home/kirilman/Project/dataset/segmentation/seg/637411995776438802.txt\n",
      "2 /home/kirilman/Project/dataset/segmentation/seg/637411996282308540.txt\n",
      "3 /home/kirilman/Project/dataset/segmentation/seg/637411996762257274.txt\n",
      "4 /home/kirilman/Project/dataset/segmentation/seg/637411996936004163.txt\n",
      "5 /home/kirilman/Project/dataset/segmentation/seg/637411997170336959.txt\n",
      "6 /home/kirilman/Project/dataset/segmentation/seg/637411997454003674.txt\n",
      "7 /home/kirilman/Project/dataset/segmentation/seg/637411997807248187.txt\n",
      "8 /home/kirilman/Project/dataset/segmentation/seg/637411999164403847.txt\n",
      "9 /home/kirilman/Project/dataset/segmentation/seg/637411999349438615.txt\n",
      "10 /home/kirilman/Project/dataset/segmentation/seg/637411999508652864.txt\n",
      "11 /home/kirilman/Project/dataset/segmentation/seg/637411999723598077.txt\n",
      "12 /home/kirilman/Project/dataset/segmentation/seg/637411999957739159.txt\n",
      "13 /home/kirilman/Project/dataset/segmentation/seg/637412000267309961.txt\n",
      "14 /home/kirilman/Project/dataset/segmentation/seg/637412000481437248.txt\n",
      "15 /home/kirilman/Project/dataset/segmentation/seg/637412000749181618.txt\n",
      "16 /home/kirilman/Project/dataset/segmentation/seg/637412001198154273.txt\n",
      "17 /home/kirilman/Project/dataset/segmentation/seg/637412002286150919.txt\n",
      "18 /home/kirilman/Project/dataset/segmentation/seg/637412002326930887.txt\n",
      "19 /home/kirilman/Project/dataset/segmentation/seg/637412002540099552.txt\n",
      "20 /home/kirilman/Project/dataset/segmentation/seg/637412002745602432.txt\n",
      "21 /home/kirilman/Project/dataset/segmentation/seg/637412002930793240.txt\n",
      "22 /home/kirilman/Project/dataset/segmentation/seg/637412003148300747.txt\n",
      "23 /home/kirilman/Project/dataset/segmentation/seg/637412003445852634.txt\n",
      "24 /home/kirilman/Project/dataset/segmentation/seg/637412003777752115.txt\n",
      "25 /home/kirilman/Project/dataset/segmentation/seg/637412004275790435.txt\n",
      "26 /home/kirilman/Project/dataset/segmentation/seg/637412004670323500.txt\n",
      "27 /home/kirilman/Project/dataset/segmentation/seg/637412006349166868.txt\n",
      "28 /home/kirilman/Project/dataset/segmentation/seg/637412006744396071.txt\n",
      "29 /home/kirilman/Project/dataset/segmentation/seg/637412006957367334.txt\n",
      "30 /home/kirilman/Project/dataset/segmentation/seg/637412007102987769.txt\n",
      "31 /home/kirilman/Project/dataset/segmentation/seg/637412007621065361.txt\n",
      "32 /home/kirilman/Project/dataset/segmentation/seg/637412009420317460.txt\n",
      "33 /home/kirilman/Project/dataset/segmentation/seg/637412009557227173.txt\n",
      "34 /home/kirilman/Project/dataset/segmentation/seg/637412009740190113.txt\n",
      "35 /home/kirilman/Project/dataset/segmentation/seg/637412009909600353.txt\n",
      "36 /home/kirilman/Project/dataset/segmentation/seg/637412010078385288.txt\n",
      "37 /home/kirilman/Project/dataset/segmentation/seg/637412010389141266.txt\n",
      "38 /home/kirilman/Project/dataset/segmentation/seg/637412028109742497.txt\n",
      "39 /home/kirilman/Project/dataset/segmentation/seg/637412028767035032.txt\n",
      "40 /home/kirilman/Project/dataset/segmentation/seg/637412029008318075.txt\n",
      "41 /home/kirilman/Project/dataset/segmentation/seg/637412029106440063.txt\n",
      "42 /home/kirilman/Project/dataset/segmentation/seg/637412029350499616.txt\n",
      "43 /home/kirilman/Project/dataset/segmentation/seg/637412029559868145.txt\n",
      "44 /home/kirilman/Project/dataset/segmentation/seg/637412035953825679.txt\n",
      "45 /home/kirilman/Project/dataset/segmentation/seg/637412036041010324.txt\n",
      "46 /home/kirilman/Project/dataset/segmentation/seg/637412036202768156.txt\n",
      "47 /home/kirilman/Project/dataset/segmentation/seg/637412036341255556.txt\n",
      "48 /home/kirilman/Project/dataset/segmentation/seg/637412036419065712.txt\n",
      "49 /home/kirilman/Project/dataset/segmentation/seg/637412037004305676.txt\n",
      "50 /home/kirilman/Project/dataset/segmentation/seg/637412037162792242.txt\n",
      "51 /home/kirilman/Project/dataset/segmentation/seg/637412037282322980.txt\n",
      "52 /home/kirilman/Project/dataset/segmentation/seg/637412037419079377.txt\n",
      "53 /home/kirilman/Project/dataset/segmentation/seg/637412037557831886.txt\n",
      "54 /home/kirilman/Project/dataset/segmentation/seg/637412037749791299.txt\n",
      "55 /home/kirilman/Project/dataset/segmentation/seg/637412037895894615.txt\n",
      "56 /home/kirilman/Project/dataset/segmentation/seg/637412038782432255.txt\n",
      "57 /home/kirilman/Project/dataset/segmentation/seg/637412038896266297.txt\n",
      "58 /home/kirilman/Project/dataset/segmentation/seg/637412039010481767.txt\n",
      "59 /home/kirilman/Project/dataset/segmentation/seg/637412039124853878.txt\n",
      "60 /home/kirilman/Project/dataset/segmentation/seg/637412039329285082.txt\n",
      "61 /home/kirilman/Project/dataset/segmentation/seg/637412042232528749.txt\n",
      "62 /home/kirilman/Project/dataset/segmentation/seg/637412042375472143.txt\n",
      "63 /home/kirilman/Project/dataset/segmentation/seg/637412042510533002.txt\n",
      "64 /home/kirilman/Project/dataset/segmentation/seg/637412042889626826.txt\n",
      "65 /home/kirilman/Project/dataset/segmentation/seg/637412043052369582.txt\n",
      "66 /home/kirilman/Project/dataset/segmentation/seg/637412043190378663.txt\n",
      "67 /home/kirilman/Project/dataset/segmentation/seg/637412043424476025.txt\n",
      "68 /home/kirilman/Project/dataset/segmentation/seg/637412043571346243.txt\n",
      "../../dataset/annotation/open-pit-zoomed-161120/instances_default.json\n",
      "../../dataset/annotation/pits_stones_detections_161220/instances_default.json\n",
      "1 /home/kirilman/Project/dataset/segmentation/seg/10_11_56_13_16-03-2020_1.txt\n",
      "2 /home/kirilman/Project/dataset/segmentation/seg/10_11_56_42_16-03-2020_1.txt\n",
      "3 /home/kirilman/Project/dataset/segmentation/seg/10_11_57_04_16-03-2020_1.txt\n",
      "4 /home/kirilman/Project/dataset/segmentation/seg/10_12_42_36_05-03-2020_1.txt\n",
      "5 /home/kirilman/Project/dataset/segmentation/seg/10_12_42_56_05-03-2020_1.txt\n",
      "6 /home/kirilman/Project/dataset/segmentation/seg/11_11_59_20_16-03-2020_1.txt\n",
      "7 /home/kirilman/Project/dataset/segmentation/seg/11_11_59_43_16-03-2020_1.txt\n",
      "8 /home/kirilman/Project/dataset/segmentation/seg/11_12_00_06_16-03-2020_1.txt\n",
      "9 /home/kirilman/Project/dataset/segmentation/seg/11_12_46_00_05-03-2020_1.txt\n",
      "10 /home/kirilman/Project/dataset/segmentation/seg/11_12_46_26_05-03-2020_1.txt\n",
      "11 /home/kirilman/Project/dataset/segmentation/seg/12_12_01_50_16-03-2020_1.txt\n",
      "12 /home/kirilman/Project/dataset/segmentation/seg/12_12_02_12_16-03-2020_1.txt\n",
      "13 /home/kirilman/Project/dataset/segmentation/seg/12_12_02_34_16-03-2020_1.txt\n",
      "14 /home/kirilman/Project/dataset/segmentation/seg/12_12_47_59_05-03-2020_1.txt\n",
      "15 /home/kirilman/Project/dataset/segmentation/seg/12_12_48_36_05-03-2020_1.txt\n",
      "16 /home/kirilman/Project/dataset/segmentation/seg/13_12_04_15_16-03-2020_1.txt\n",
      "17 /home/kirilman/Project/dataset/segmentation/seg/13_12_04_42_16-03-2020_1.txt\n",
      "18 /home/kirilman/Project/dataset/segmentation/seg/13_12_05_05_16-03-2020_1.txt\n",
      "19 /home/kirilman/Project/dataset/segmentation/seg/13_13_55_18_05-03-2020_1.txt\n",
      "20 /home/kirilman/Project/dataset/segmentation/seg/13_13_55_41_05-03-2020_1.txt\n",
      "21 /home/kirilman/Project/dataset/segmentation/seg/14_12_07_52_16-03-2020_1.txt\n",
      "22 /home/kirilman/Project/dataset/segmentation/seg/14_12_08_17_16-03-2020_1.txt\n",
      "23 /home/kirilman/Project/dataset/segmentation/seg/14_12_08_37_16-03-2020_1.txt\n",
      "24 /home/kirilman/Project/dataset/segmentation/seg/14_13_57_14_05-03-2020_1.txt\n",
      "25 /home/kirilman/Project/dataset/segmentation/seg/14_13_57_44_05-03-2020_1.txt\n",
      "26 /home/kirilman/Project/dataset/segmentation/seg/15_12_10_47_16-03-2020_1.txt\n",
      "27 /home/kirilman/Project/dataset/segmentation/seg/15_12_11_06_16-03-2020_1.txt\n",
      "28 /home/kirilman/Project/dataset/segmentation/seg/15_12_11_25_16-03-2020_1.txt\n",
      "29 /home/kirilman/Project/dataset/segmentation/seg/15_13_59_47_05-03-2020_1.txt\n",
      "30 /home/kirilman/Project/dataset/segmentation/seg/15_14_00_15_05-03-2020_1.txt\n",
      "31 /home/kirilman/Project/dataset/segmentation/seg/16_12_14_10_16-03-2020_1.txt\n",
      "32 /home/kirilman/Project/dataset/segmentation/seg/16_12_14_31_16-03-2020_1.txt\n",
      "33 /home/kirilman/Project/dataset/segmentation/seg/16_12_14_51_16-03-2020_1.txt\n",
      "34 /home/kirilman/Project/dataset/segmentation/seg/16_14_02_33_05-03-2020_1.txt\n",
      "35 /home/kirilman/Project/dataset/segmentation/seg/16_14_03_00_05-03-2020_1.txt\n",
      "36 /home/kirilman/Project/dataset/segmentation/seg/16_14_03_05_05-03-2020_1.txt\n",
      "37 /home/kirilman/Project/dataset/segmentation/seg/17_12_16_32_16-03-2020_1.txt\n",
      "38 /home/kirilman/Project/dataset/segmentation/seg/17_12_16_52_16-03-2020_1.txt\n",
      "39 /home/kirilman/Project/dataset/segmentation/seg/17_12_17_10_16-03-2020_1.txt\n",
      "40 /home/kirilman/Project/dataset/segmentation/seg/17_14_04_43_05-03-2020_1.txt\n",
      "41 /home/kirilman/Project/dataset/segmentation/seg/17_14_05_09_05-03-2020_1.txt\n",
      "42 /home/kirilman/Project/dataset/segmentation/seg/18_12_19_04_16-03-2020_1.txt\n",
      "43 /home/kirilman/Project/dataset/segmentation/seg/18_12_19_29_16-03-2020_1.txt\n",
      "44 /home/kirilman/Project/dataset/segmentation/seg/18_12_19_48_16-03-2020_1.txt\n",
      "45 /home/kirilman/Project/dataset/segmentation/seg/18_14_09_20_05-03-2020_1.txt\n",
      "46 /home/kirilman/Project/dataset/segmentation/seg/18_14_09_37_05-03-2020_1.txt\n",
      "47 /home/kirilman/Project/dataset/segmentation/seg/19_12_22_16_16-03-2020_1.txt\n",
      "48 /home/kirilman/Project/dataset/segmentation/seg/19_12_22_38_16-03-2020_1.txt\n",
      "49 /home/kirilman/Project/dataset/segmentation/seg/19_12_23_00_16-03-2020_1.txt\n",
      "50 /home/kirilman/Project/dataset/segmentation/seg/19_14_11_19_05-03-2020_1.txt\n",
      "51 /home/kirilman/Project/dataset/segmentation/seg/19_14_11_45_05-03-2020_1.txt\n",
      "52 /home/kirilman/Project/dataset/segmentation/seg/1_11_32_12_16-03-2020_1.txt\n",
      "53 /home/kirilman/Project/dataset/segmentation/seg/1_11_32_39_16-03-2020_1.txt\n",
      "54 /home/kirilman/Project/dataset/segmentation/seg/1_11_33_06_16-03-2020_1.txt\n",
      "55 /home/kirilman/Project/dataset/segmentation/seg/1_12_08_09_05-03-2020_1.txt\n",
      "56 /home/kirilman/Project/dataset/segmentation/seg/1_12_08_11_05-03-2020_1.txt\n",
      "57 /home/kirilman/Project/dataset/segmentation/seg/1_12_08_55_05-03-2020_1.txt\n",
      "58 /home/kirilman/Project/dataset/segmentation/seg/1_12_09_40_05-03-2020_1.txt\n",
      "59 /home/kirilman/Project/dataset/segmentation/seg/20_12_23_59_16-03-2020_1.txt\n",
      "60 /home/kirilman/Project/dataset/segmentation/seg/20_12_24_10_16-03-2020_1.txt\n",
      "61 /home/kirilman/Project/dataset/segmentation/seg/20_12_24_33_16-03-2020_1.txt\n",
      "62 /home/kirilman/Project/dataset/segmentation/seg/20_12_24_58_16-03-2020_1.txt\n",
      "63 /home/kirilman/Project/dataset/segmentation/seg/20_14_14_57_05-03-2020_1.txt\n",
      "64 /home/kirilman/Project/dataset/segmentation/seg/20_14_15_24_05-03-2020_1.txt\n",
      "65 /home/kirilman/Project/dataset/segmentation/seg/21_13_18_53_16-03-2020_1.txt\n",
      "66 /home/kirilman/Project/dataset/segmentation/seg/21_13_19_19_16-03-2020_1.txt\n",
      "67 /home/kirilman/Project/dataset/segmentation/seg/21_13_19_40_16-03-2020_1.txt\n",
      "68 /home/kirilman/Project/dataset/segmentation/seg/22_13_21_36_16-03-2020_1.txt\n",
      "69 /home/kirilman/Project/dataset/segmentation/seg/22_13_22_01_16-03-2020_1.txt\n",
      "70 /home/kirilman/Project/dataset/segmentation/seg/22_13_22_21_16-03-2020_1.txt\n",
      "71 /home/kirilman/Project/dataset/segmentation/seg/23_13_24_08_16-03-2020_1.txt\n",
      "72 /home/kirilman/Project/dataset/segmentation/seg/23_13_24_36_16-03-2020_1.txt\n",
      "73 /home/kirilman/Project/dataset/segmentation/seg/23_13_24_59_16-03-2020_1.txt\n",
      "74 /home/kirilman/Project/dataset/segmentation/seg/24_13_28_35_16-03-2020_1.txt\n",
      "75 /home/kirilman/Project/dataset/segmentation/seg/24_13_28_55_16-03-2020_1.txt\n",
      "76 /home/kirilman/Project/dataset/segmentation/seg/24_13_29_16_16-03-2020_1.txt\n",
      "77 /home/kirilman/Project/dataset/segmentation/seg/25_13_31_07_16-03-2020_1.txt\n",
      "78 /home/kirilman/Project/dataset/segmentation/seg/25_13_31_27_16-03-2020_1.txt\n",
      "79 /home/kirilman/Project/dataset/segmentation/seg/25_13_31_52_16-03-2020_1.txt\n",
      "80 /home/kirilman/Project/dataset/segmentation/seg/26_13_34_27_16-03-2020_1.txt\n",
      "81 /home/kirilman/Project/dataset/segmentation/seg/26_13_34_45_16-03-2020_1.txt\n",
      "82 /home/kirilman/Project/dataset/segmentation/seg/26_13_35_04_16-03-2020_1.txt\n",
      "83 /home/kirilman/Project/dataset/segmentation/seg/27_13_38_18_16-03-2020_1.txt\n",
      "84 /home/kirilman/Project/dataset/segmentation/seg/27_13_38_41_16-03-2020_1.txt\n",
      "85 /home/kirilman/Project/dataset/segmentation/seg/27_13_39_02_16-03-2020_1.txt\n",
      "86 /home/kirilman/Project/dataset/segmentation/seg/28_13_41_08_16-03-2020_1.txt\n",
      "87 /home/kirilman/Project/dataset/segmentation/seg/28_13_41_36_16-03-2020_1.txt\n",
      "88 /home/kirilman/Project/dataset/segmentation/seg/28_13_41_54_16-03-2020_1.txt\n",
      "89 /home/kirilman/Project/dataset/segmentation/seg/29_13_44_39_16-03-2020_1.txt\n",
      "90 /home/kirilman/Project/dataset/segmentation/seg/29_13_45_03_16-03-2020_1.txt\n",
      "91 /home/kirilman/Project/dataset/segmentation/seg/29_13_45_27_16-03-2020_1.txt\n",
      "92 /home/kirilman/Project/dataset/segmentation/seg/2_11_34_42_16-03-2020_1.txt\n",
      "93 /home/kirilman/Project/dataset/segmentation/seg/2_11_35_06_16-03-2020_1.txt\n",
      "94 /home/kirilman/Project/dataset/segmentation/seg/2_11_35_29_16-03-2020_1.txt\n",
      "95 /home/kirilman/Project/dataset/segmentation/seg/2_12_15_17_05-03-2020_1.txt\n",
      "96 /home/kirilman/Project/dataset/segmentation/seg/2_12_16_15_05-03-2020_1.txt\n",
      "97 /home/kirilman/Project/dataset/segmentation/seg/30_13_46_56_16-03-2020_1.txt\n",
      "98 /home/kirilman/Project/dataset/segmentation/seg/30_13_47_25_16-03-2020_1.txt\n",
      "99 /home/kirilman/Project/dataset/segmentation/seg/30_13_47_46_16-03-2020_1.txt\n",
      "100 /home/kirilman/Project/dataset/segmentation/seg/3_11_37_34_16-03-2020_1.txt\n",
      "101 /home/kirilman/Project/dataset/segmentation/seg/3_11_37_56_16-03-2020_1.txt\n",
      "102 /home/kirilman/Project/dataset/segmentation/seg/3_11_38_19_16-03-2020_1.txt\n",
      "103 /home/kirilman/Project/dataset/segmentation/seg/3_12_18_22_05-03-2020_1.txt\n",
      "104 /home/kirilman/Project/dataset/segmentation/seg/3_12_19_16_05-03-2020_1.txt\n",
      "105 /home/kirilman/Project/dataset/segmentation/seg/4_11_40_26_16-03-2020_1.txt\n",
      "106 /home/kirilman/Project/dataset/segmentation/seg/4_11_40_48_16-03-2020_1.txt\n",
      "107 /home/kirilman/Project/dataset/segmentation/seg/4_11_41_04_16-03-2020_1.txt\n",
      "108 /home/kirilman/Project/dataset/segmentation/seg/4_12_26_48_05-03-2020_1.txt\n",
      "109 /home/kirilman/Project/dataset/segmentation/seg/4_12_27_13_05-03-2020_1.txt\n",
      "110 /home/kirilman/Project/dataset/segmentation/seg/5_11_43_23_16-03-2020_1.txt\n",
      "111 /home/kirilman/Project/dataset/segmentation/seg/5_11_43_46_16-03-2020_1.txt\n",
      "112 /home/kirilman/Project/dataset/segmentation/seg/5_11_44_15_16-03-2020_1.txt\n",
      "113 /home/kirilman/Project/dataset/segmentation/seg/5_12_29_51_05-03-2020_1.txt\n",
      "114 /home/kirilman/Project/dataset/segmentation/seg/5_12_30_15_05-03-2020_1.txt\n",
      "115 /home/kirilman/Project/dataset/segmentation/seg/6_11_45_54_16-03-2020_1.txt\n",
      "116 /home/kirilman/Project/dataset/segmentation/seg/6_11_46_20_16-03-2020_1.txt\n",
      "117 /home/kirilman/Project/dataset/segmentation/seg/6_11_46_44_16-03-2020_1.txt\n",
      "118 /home/kirilman/Project/dataset/segmentation/seg/6_12_32_19_05-03-2020_1.txt\n",
      "119 /home/kirilman/Project/dataset/segmentation/seg/6_12_32_48_05-03-2020_1.txt\n",
      "120 /home/kirilman/Project/dataset/segmentation/seg/7_11_48_09_16-03-2020_1.txt\n",
      "121 /home/kirilman/Project/dataset/segmentation/seg/7_11_48_24_16-03-2020_1.txt\n",
      "122 /home/kirilman/Project/dataset/segmentation/seg/7_11_48_42_16-03-2020_1.txt\n",
      "123 /home/kirilman/Project/dataset/segmentation/seg/7_12_34_40_05-03-2020_1.txt\n",
      "124 /home/kirilman/Project/dataset/segmentation/seg/7_12_35_02_05-03-2020_1.txt\n",
      "125 /home/kirilman/Project/dataset/segmentation/seg/8_11_50_57_16-03-2020_1.txt\n",
      "126 /home/kirilman/Project/dataset/segmentation/seg/8_11_51_18_16-03-2020_1.txt\n",
      "127 /home/kirilman/Project/dataset/segmentation/seg/8_11_51_37_16-03-2020_1.txt\n",
      "128 /home/kirilman/Project/dataset/segmentation/seg/8_12_37_40_05-03-2020_1.txt\n",
      "129 /home/kirilman/Project/dataset/segmentation/seg/8_12_38_08_05-03-2020_1.txt\n",
      "130 /home/kirilman/Project/dataset/segmentation/seg/9_11_53_29_16-03-2020_1.txt\n",
      "131 /home/kirilman/Project/dataset/segmentation/seg/9_11_53_50_16-03-2020_1.txt\n",
      "132 /home/kirilman/Project/dataset/segmentation/seg/9_11_54_12_16-03-2020_1.txt\n",
      "133 /home/kirilman/Project/dataset/segmentation/seg/9_12_39_56_05-03-2020_1.txt\n",
      "134 /home/kirilman/Project/dataset/segmentation/seg/9_12_40_22_05-03-2020_1.txt\n",
      "1 /home/kirilman/Project/dataset/segmentation/seg/ManualDetailedImage_12_58_51_150.txt\n",
      "2 /home/kirilman/Project/dataset/segmentation/seg/ManualDetailedImage_12_58_06f_150.txt\n",
      "3 /home/kirilman/Project/dataset/segmentation/seg/ManualDetailedImage_12_55_48_150.txt\n",
      "4 /home/kirilman/Project/dataset/segmentation/seg/ManualDetailedImage_12_55_14f_150.txt\n",
      "5 /home/kirilman/Project/dataset/segmentation/seg/ManualDetailedImage_12_52_28_150.txt\n",
      "6 /home/kirilman/Project/dataset/segmentation/seg/ManualDetailedImage_12_51_54f_150.txt\n",
      "7 /home/kirilman/Project/dataset/segmentation/seg/ManualDetailedImage_12_49_13_150.txt\n",
      "8 /home/kirilman/Project/dataset/segmentation/seg/ManualDetailedImage_12_47_38f_150.txt\n",
      "9 /home/kirilman/Project/dataset/segmentation/seg/ManualDetailedImage_12_32_00_300.txt\n",
      "10 /home/kirilman/Project/dataset/segmentation/seg/ManualDetailedImage_12_31_20f_300.txt\n",
      "11 /home/kirilman/Project/dataset/segmentation/seg/ManualDetailedImage_12_27_48_300.txt\n",
      "12 /home/kirilman/Project/dataset/segmentation/seg/ManualDetailedImage_12_27_03f_300.txt\n",
      "13 /home/kirilman/Project/dataset/segmentation/seg/ManualDetailedImage_12_25_24_300.txt\n",
      "14 /home/kirilman/Project/dataset/segmentation/seg/ManualDetailedImage_12_25_15f_300.txt\n",
      "15 /home/kirilman/Project/dataset/segmentation/seg/ManualDetailedImage_12_24_11_300.txt\n",
      "16 /home/kirilman/Project/dataset/segmentation/seg/ManualDetailedImage_12_23_52f_300.txt\n",
      "17 /home/kirilman/Project/dataset/segmentation/seg/ManualDetailedImage_12_19_17_300.txt\n",
      "18 /home/kirilman/Project/dataset/segmentation/seg/ManualDetailedImage_12_19_00f_300.txt\n",
      "19 /home/kirilman/Project/dataset/segmentation/seg/ManualDetailedImage_12_17_46_300.txt\n",
      "20 /home/kirilman/Project/dataset/segmentation/seg/ManualDetailedImage_12_17_26f_300.txt\n",
      "21 /home/kirilman/Project/dataset/segmentation/seg/ManualDetailedImage_12_15_45_300.txt\n",
      "22 /home/kirilman/Project/dataset/segmentation/seg/ManualDetailedImage_12_15_13f_300.txt\n",
      "23 /home/kirilman/Project/dataset/segmentation/seg/ManualDetailedImage_12_14_01_300.txt\n",
      "24 /home/kirilman/Project/dataset/segmentation/seg/ManualDetailedImage_12_13_48f_300.txt\n",
      "25 /home/kirilman/Project/dataset/segmentation/seg/ManualDetailedImage_12_11_32_300.txt\n",
      "26 /home/kirilman/Project/dataset/segmentation/seg/ManualDetailedImage_12_11_17f_300.txt\n",
      "27 /home/kirilman/Project/dataset/segmentation/seg/ManualDetailedImage_12_09_52_300.txt\n",
      "28 /home/kirilman/Project/dataset/segmentation/seg/ManualDetailedImage_12_09_38f_300.txt\n",
      "29 /home/kirilman/Project/dataset/segmentation/seg/ManualDetailedImage_12_08_29_300.txt\n",
      "30 /home/kirilman/Project/dataset/segmentation/seg/ManualDetailedImage_12_08_07f_300.txt\n",
      "31 /home/kirilman/Project/dataset/segmentation/seg/ManualDetailedImage_12_07_14_300.txt\n",
      "32 /home/kirilman/Project/dataset/segmentation/seg/ManualDetailedImage_12_06_30f_300.txt\n",
      "33 /home/kirilman/Project/dataset/segmentation/seg/ManualDetailedImage_12_05_01_300.txt\n",
      "34 /home/kirilman/Project/dataset/segmentation/seg/ManualDetailedImage_12_04_45f_300.txt\n",
      "1 /home/kirilman/Project/dataset/segmentation/seg/11-11-2021-12-29-00_14_1_76_detailed.txt\n",
      "2 /home/kirilman/Project/dataset/segmentation/seg/11-11-2021-12-28-39_13_1_76_detailed.txt\n",
      "3 /home/kirilman/Project/dataset/segmentation/seg/11-11-2021-12-28-25_12_1_76_detailed.txt\n",
      "4 /home/kirilman/Project/dataset/segmentation/seg/11-11-2021-12-28-10_11_1_62_detailed.txt\n",
      "5 /home/kirilman/Project/dataset/segmentation/seg/11-11-2021-12-27-54_10_1_69_detailed.txt\n",
      "6 /home/kirilman/Project/dataset/segmentation/seg/11-11-2021-12-27-37_9_1_60_detailed.txt\n",
      "7 /home/kirilman/Project/dataset/segmentation/seg/11-11-2021-12-27-29_8_1_93_detailed.txt\n",
      "8 /home/kirilman/Project/dataset/segmentation/seg/11-11-2021-12-27-13_7_1_73_detailed.txt\n",
      "9 /home/kirilman/Project/dataset/segmentation/seg/11-11-2021-12-26-52_6_1_63_detailed.txt\n",
      "10 /home/kirilman/Project/dataset/segmentation/seg/11-11-2021-12-26-35_5_1_85_detailed.txt\n",
      "11 /home/kirilman/Project/dataset/segmentation/seg/11-11-2021-12-26-14_4_1_61_detailed.txt\n",
      "12 /home/kirilman/Project/dataset/segmentation/seg/11-11-2021-12-25-56_3_1_63_detailed.txt\n",
      "13 /home/kirilman/Project/dataset/segmentation/seg/11-11-2021-12-25-44_2_1_66_detailed.txt\n",
      "14 /home/kirilman/Project/dataset/segmentation/seg/11-11-2021-12-25-32_1_1_63_detailed.txt\n",
      "1 /home/kirilman/Project/dataset/segmentation/seg/ManualGeneralImage_14_01_51.txt\n",
      "2 /home/kirilman/Project/dataset/segmentation/seg/ManualGeneralImage_14_00_56.txt\n",
      "3 /home/kirilman/Project/dataset/segmentation/seg/ManualGeneralImage_13_59_48.txt\n",
      "4 /home/kirilman/Project/dataset/segmentation/seg/ManualGeneralImage_13_58_58.txt\n",
      "5 /home/kirilman/Project/dataset/segmentation/seg/ManualGeneralImage_13_56_14.txt\n",
      "6 /home/kirilman/Project/dataset/segmentation/seg/ManualGeneralImage_13_55_25.txt\n",
      "7 /home/kirilman/Project/dataset/segmentation/seg/ManualGeneralImage_13_53_22.txt\n",
      "8 /home/kirilman/Project/dataset/segmentation/seg/ManualGeneralImage_13_45_07.txt\n",
      "9 /home/kirilman/Project/dataset/segmentation/seg/ManualGeneralImage_13_38_41.txt\n",
      "10 /home/kirilman/Project/dataset/segmentation/seg/ManualGeneralImage_13_37_47.txt\n",
      "11 /home/kirilman/Project/dataset/segmentation/seg/ManualGeneralImage_13_36_55.txt\n",
      "12 /home/kirilman/Project/dataset/segmentation/seg/ManualGeneralImage_12_55_46.txt\n",
      "13 /home/kirilman/Project/dataset/segmentation/seg/ManualGeneralImage_12_54_52.txt\n",
      "14 /home/kirilman/Project/dataset/segmentation/seg/ManualGeneralImage_12_54_15.txt\n",
      "15 /home/kirilman/Project/dataset/segmentation/seg/GeneralImage_11-11-2021-13-43-18.txt\n",
      "16 /home/kirilman/Project/dataset/segmentation/seg/GeneralImage_11-11-2021-13-34-14.txt\n",
      "17 /home/kirilman/Project/dataset/segmentation/seg/GeneralImage_11-11-2021-13-27-54.txt\n",
      "18 /home/kirilman/Project/dataset/segmentation/seg/GeneralImage_11-11-2021-13-24-49.txt\n",
      "19 /home/kirilman/Project/dataset/segmentation/seg/GeneralImage_11-11-2021-12-24-03.txt\n"
     ]
    }
   ],
   "source": [
    "s = 0\n",
    "unused = ['../../dataset/annotation/open-pit-zoomed-161120/instances_default.json', '../../dataset/annotation/pits_stones_detections_161220/instances_default.json']\n",
    "for p in list_path_to_annotations:\n",
    "    if p in unused:\n",
    "        print(p)\n",
    "        continue\n",
    "    proccesor = JsonSegmentProcessing(p, 1, '/home/kirilman/Project/dataset/segmentation/seg/')\n",
    "    proccesor.process() "
   ]
  },
  {
   "cell_type": "code",
   "execution_count": null,
   "id": "150b195a-1956-467c-a141-f74db4aec2dd",
   "metadata": {},
   "outputs": [],
   "source": [
    "proccesor = JsonSegmentProcessing(list_path_to_annotations[5], 1, './test')"
   ]
  },
  {
   "cell_type": "code",
   "execution_count": 15,
   "id": "9195e2c9-ea4b-4f56-99c3-4b485cdefb04",
   "metadata": {
    "tags": []
   },
   "outputs": [
    {
     "data": {
      "text/plain": [
       "372.0"
      ]
     },
     "execution_count": 15,
     "metadata": {},
     "output_type": "execute_result"
    }
   ],
   "source": [
    "len(os.listdir('/home/kirilman/Project/dataset/segmentation/seg/'))/2"
   ]
  },
  {
   "cell_type": "code",
   "execution_count": null,
   "id": "77ccee97-d6bf-49d5-b8f0-78c4057473ce",
   "metadata": {},
   "outputs": [],
   "source": [
    "list_path_to_annotations[5]"
   ]
  },
  {
   "cell_type": "code",
   "execution_count": null,
   "id": "c944dc60-099a-4dbb-aa66-d7c967c861b4",
   "metadata": {},
   "outputs": [],
   "source": [
    "!python ../yolov5/segment/predict.py \\ \n",
    "--source \"home/kirilman/Project/dataset/task_pit_from_phone-2022_04_15_12_27_27/task_pit_from_phone-2022_04_15_12_27_27-cvat for images 1.1/images/\" \\\n",
    "--weights /home/kirilman/Project/asbestos/yolov5/runs/train-seg/exp2/weights/best.pt --conf-thres 0.1 --imgsz 418"
   ]
  },
  {
   "cell_type": "code",
   "execution_count": null,
   "id": "ab734916-9751-49ca-b41e-16002724bc63",
   "metadata": {},
   "outputs": [],
   "source": [
    "list_path_to_annotations"
   ]
  },
  {
   "cell_type": "code",
   "execution_count": 16,
   "id": "cb6ce0fd-0530-4c29-9de2-7b791261ec4e",
   "metadata": {
    "collapsed": true,
    "jupyter": {
     "outputs_hidden": true
    },
    "tags": []
   },
   "outputs": [
    {
     "name": "stdout",
     "output_type": "stream",
     "text": [
      "1 /home/kirilman/Project/dataset/segmentation/161220/zoomed_ManualGeneralImage_09_27_13.txt\n",
      "2 /home/kirilman/Project/dataset/segmentation/161220/zoomed_ManualDetailedImage_10_03_00.txt\n",
      "3 /home/kirilman/Project/dataset/segmentation/161220/zoomed_Full_637437106803651785.txt\n",
      "4 /home/kirilman/Project/dataset/segmentation/161220/zoomed_Full_637437106555222339.txt\n",
      "5 /home/kirilman/Project/dataset/segmentation/161220/zoomed_Full_637437106319252722.txt\n",
      "6 /home/kirilman/Project/dataset/segmentation/161220/zoomed_Full_637437106067970531.txt\n",
      "7 /home/kirilman/Project/dataset/segmentation/161220/zoomed_Full_637437105810125910.txt\n",
      "8 /home/kirilman/Project/dataset/segmentation/161220/zoomed_Full_637437105568051760.txt\n",
      "9 /home/kirilman/Project/dataset/segmentation/161220/zoomed_Full_637437105340049845.txt\n",
      "10 /home/kirilman/Project/dataset/segmentation/161220/zoomed_Full_637437105082761751.txt\n",
      "11 /home/kirilman/Project/dataset/segmentation/161220/zoomed_Full_637437074810293632.txt\n",
      "12 /home/kirilman/Project/dataset/segmentation/161220/zoomed_Full_637437074505417632.txt\n",
      "13 /home/kirilman/Project/dataset/segmentation/161220/zoomed_Full_637437073345787769.txt\n",
      "14 /home/kirilman/Project/dataset/segmentation/161220/zoomed_Full_637437072277634535.txt\n",
      "15 /home/kirilman/Project/dataset/segmentation/161220/zoomed_Full_637437071968385663.txt\n",
      "16 /home/kirilman/Project/dataset/segmentation/161220/zoomed_Full_637437071697103795.txt\n",
      "17 /home/kirilman/Project/dataset/segmentation/161220/zoomed_Full_637437071478204548.txt\n",
      "18 /home/kirilman/Project/dataset/segmentation/161220/zoomed_Full_637437070728092786.txt\n",
      "19 /home/kirilman/Project/dataset/segmentation/161220/zoomed_Full_637437070174162855.txt\n",
      "20 /home/kirilman/Project/dataset/segmentation/161220/zoomed_Full_637437068913472804.txt\n",
      "21 /home/kirilman/Project/dataset/segmentation/161220/zoomed_Full_637437068603828842.txt\n",
      "22 /home/kirilman/Project/dataset/segmentation/161220/zoomed_Full_637437067791217693.txt\n",
      "23 /home/kirilman/Project/dataset/segmentation/161220/zoomed_Full_637437067296374854.txt\n",
      "24 /home/kirilman/Project/dataset/segmentation/161220/zoomed_Full_637437067053998640.txt\n",
      "1 /home/kirilman/Project/dataset/segmentation/161220/ManualGeneralImage_11_12_49.txt\n",
      "2 /home/kirilman/Project/dataset/segmentation/161220/ManualGeneralImage_11_12_34.txt\n",
      "3 /home/kirilman/Project/dataset/segmentation/161220/ManualGeneralImage_11_12_19.txt\n",
      "4 /home/kirilman/Project/dataset/segmentation/161220/ManualGeneralImage_11_12_00.txt\n",
      "5 /home/kirilman/Project/dataset/segmentation/161220/ManualGeneralImage_11_11_45.txt\n",
      "6 /home/kirilman/Project/dataset/segmentation/161220/ManualGeneralImage_11_11_38.txt\n",
      "7 /home/kirilman/Project/dataset/segmentation/161220/ManualGeneralImage_10_31_05.txt\n",
      "8 /home/kirilman/Project/dataset/segmentation/161220/ManualGeneralImage_10_30_46.txt\n",
      "9 /home/kirilman/Project/dataset/segmentation/161220/ManualGeneralImage_10_30_32.txt\n",
      "10 /home/kirilman/Project/dataset/segmentation/161220/ManualGeneralImage_10_30_16.txt\n",
      "11 /home/kirilman/Project/dataset/segmentation/161220/ManualGeneralImage_10_12_22.txt\n",
      "12 /home/kirilman/Project/dataset/segmentation/161220/ManualGeneralImage_10_12_12.txt\n",
      "13 /home/kirilman/Project/dataset/segmentation/161220/ManualGeneralImage_10_12_05.txt\n",
      "14 /home/kirilman/Project/dataset/segmentation/161220/ManualGeneralImage_10_11_58.txt\n",
      "15 /home/kirilman/Project/dataset/segmentation/161220/ManualGeneralImage_10_11_38.txt\n",
      "16 /home/kirilman/Project/dataset/segmentation/161220/ManualGeneralImage_10_11_29.txt\n",
      "17 /home/kirilman/Project/dataset/segmentation/161220/ManualGeneralImage_09_33_58.txt\n",
      "18 /home/kirilman/Project/dataset/segmentation/161220/ManualGeneralImage_09_10_38.txt\n",
      "19 /home/kirilman/Project/dataset/segmentation/161220/ManualGeneralImage_09_10_28.txt\n",
      "20 /home/kirilman/Project/dataset/segmentation/161220/ManualGeneralImage_09_09_50.txt\n"
     ]
    }
   ],
   "source": [
    "for p in unused:\n",
    "    proccesor = JsonSegmentProcessing(p,\n",
    "                                  1, '/home/kirilman/Project/dataset/segmentation/161220/')\n",
    "    proccesor.process()"
   ]
  },
  {
   "cell_type": "code",
   "execution_count": 17,
   "id": "a6392dd6-f502-4049-a291-3e22c17ca630",
   "metadata": {
    "tags": []
   },
   "outputs": [
    {
     "data": {
      "text/plain": [
       "350"
      ]
     },
     "execution_count": 17,
     "metadata": {},
     "output_type": "execute_result"
    }
   ],
   "source": [
    "image_files = list(filter( lambda x: True if x.split('.')[-1] != 'txt' else False, get_paths('../../dataset/segmentation/seg/')))\n",
    "label_files = list(filter( lambda x: True if x.split('.')[-1] == 'txt' else False, get_paths('../../dataset/segmentation/seg/')))\n",
    "images = {}\n",
    "for image_file in image_files:\n",
    "    for label in label_files:\n",
    "        if image_file.split('.')[-2] in label:\n",
    "            images[label] = image_file\n",
    "len(images)"
   ]
  },
  {
   "cell_type": "code",
   "execution_count": 18,
   "id": "59b5bff4-3dca-4bb9-844d-b770c51b03b2",
   "metadata": {},
   "outputs": [
    {
     "name": "stdout",
     "output_type": "stream",
     "text": [
      "350 35.0\n"
     ]
    }
   ],
   "source": [
    "root_path = Path('/home/kirilman/Project/dataset/segmentation/')\n",
    "count = len(label_files)\n",
    "print(count, count*0.1)\n",
    "val_index = np.random.choice(label_files,35)\n",
    "\n",
    "for f_label, f_image in images.items():\n",
    "    if f_label in val_index:\n",
    "        shutil.copy(f_label, root_path / 'val' / Path(f_label).name)\n",
    "        shutil.copy(f_image, root_path / 'val' / Path(f_image).name)\n",
    "    else:\n",
    "        shutil.copy(f_label, root_path / 'train' / Path(f_label).name)\n",
    "        shutil.copy(f_image, root_path / 'train' / Path(f_image).name)"
   ]
  },
  {
   "cell_type": "code",
   "execution_count": 19,
   "id": "a08385d1-24d7-4aaa-bbda-eccbbe11e58e",
   "metadata": {},
   "outputs": [
    {
     "ename": "NotADirectoryError",
     "evalue": "[Errno 20] Not a directory: '../../dataset/annotation/open-pit-zoomed-161120/instances_default.json'",
     "output_type": "error",
     "traceback": [
      "\u001b[0;31m---------------------------------------------------------------------------\u001b[0m",
      "\u001b[0;31mNotADirectoryError\u001b[0m                        Traceback (most recent call last)",
      "Input \u001b[0;32mIn [19]\u001b[0m, in \u001b[0;36m<cell line: 1>\u001b[0;34m()\u001b[0m\n\u001b[1;32m      1\u001b[0m \u001b[38;5;28;01mfor\u001b[39;00m root \u001b[38;5;129;01min\u001b[39;00m unused:\n\u001b[0;32m----> 2\u001b[0m     \u001b[38;5;28;01mfor\u001b[39;00m f \u001b[38;5;129;01min\u001b[39;00m \u001b[43mos\u001b[49m\u001b[38;5;241;43m.\u001b[39;49m\u001b[43mlistdir\u001b[49m\u001b[43m(\u001b[49m\u001b[43mroot\u001b[49m\u001b[43m)\u001b[49m:\n\u001b[1;32m      3\u001b[0m         save_path \u001b[38;5;241m=\u001b[39m Path(\u001b[38;5;124m'\u001b[39m\u001b[38;5;124m/home/kirilman/Project/dataset/segmentation/test\u001b[39m\u001b[38;5;124m'\u001b[39m) \u001b[38;5;241m+\u001b[39m Path(f)\u001b[38;5;241m.\u001b[39mname\n\u001b[1;32m      4\u001b[0m         shutil\u001b[38;5;241m.\u001b[39mcopy(Path(root) \u001b[38;5;241m+\u001b[39m Path(f)\u001b[38;5;241m.\u001b[39mname, save_path)\n",
      "\u001b[0;31mNotADirectoryError\u001b[0m: [Errno 20] Not a directory: '../../dataset/annotation/open-pit-zoomed-161120/instances_default.json'"
     ]
    }
   ],
   "source": [
    "for root in unused:\n",
    "    for f in os.listdir(root):\n",
    "        save_path = Path('/home/kirilman/Project/dataset/segmentation/test') + Path(f).name\n",
    "        shutil.copy(Path(root) + Path(f).name, save_path)"
   ]
  },
  {
   "cell_type": "code",
   "execution_count": 7,
   "id": "6a11e5e0-8906-43e2-9119-e8e198eda0fd",
   "metadata": {},
   "outputs": [],
   "source": [
    "from dataset.preprossesing import resize_images\n",
    "import cv2"
   ]
  },
  {
   "cell_type": "code",
   "execution_count": 9,
   "id": "6377f205-2707-461f-b972-b944fdb6cb9f",
   "metadata": {},
   "outputs": [],
   "source": [
    "resize_images(['/home/kirilman/Project/dataset/segmentation/seg/'],['*'],'/home/kirilman/Project/dataset/segmentation/seg/', (1024,1024),{})"
   ]
  },
  {
   "cell_type": "code",
   "execution_count": null,
   "id": "1460fc3b-e158-4448-99cd-cfb5b081c86c",
   "metadata": {},
   "outputs": [],
   "source": []
  }
 ],
 "metadata": {
  "kernelspec": {
   "display_name": "Python 3 (ipykernel)",
   "language": "python",
   "name": "python3"
  },
  "language_info": {
   "codemirror_mode": {
    "name": "ipython",
    "version": 3
   },
   "file_extension": ".py",
   "mimetype": "text/x-python",
   "name": "python",
   "nbconvert_exporter": "python",
   "pygments_lexer": "ipython3",
   "version": "3.9.12"
  }
 },
 "nbformat": 4,
 "nbformat_minor": 5
}
