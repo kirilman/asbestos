{
 "cells": [
  {
   "cell_type": "code",
   "execution_count": 2,
   "id": "e71cd677-922c-4825-93c7-07c964f1850d",
   "metadata": {},
   "outputs": [],
   "source": [
    "import numpy as np\n",
    "import os \n",
    "from pathlib import Path\n",
    "from typing import List, Dict, Union\n",
    "import glob\n",
    "from matplotlib.patches import Polygon\n",
    "\n",
    "PathLike = Union[Path, str]\n",
    "import json\n",
    "import matplotlib.pyplot as plt\n",
    "import sys\n",
    "sys.path.append('../')\n",
    "from dataset import get_paths, PathLike\n",
    "from pycocotools.coco import COCO\n",
    "import pandas as pd\n",
    "import json"
   ]
  },
  {
   "cell_type": "code",
   "execution_count": 3,
   "id": "eaa2df7d-09bf-42f2-95b8-9c3f477cee16",
   "metadata": {},
   "outputs": [
    {
     "data": {
      "text/plain": [
       "['../../dataset/annotation/pits_stones_detections_300920/instances_default.json',\n",
       " '../../dataset/annotation/asbestos_stone_161220/instances_default.json',\n",
       " '../../dataset/annotation/pits_stones_detections_020221/instances_default.json',\n",
       " '../../dataset/annotation/pits_stones_detections_161120/instances_default.json',\n",
       " '../../dataset/annotation/open-pit-zoomed-161120/instances_default.json',\n",
       " '../../dataset/annotation/pits_stones_detections_161220/instances_default.json',\n",
       " '../../dataset/annotation/test transport/annotations/instances_default.json',\n",
       " '../../dataset/annotation/asbestos_stone_020221/instances_default.json',\n",
       " '../../dataset/annotation/asbest_stones_111121/instances_default.json',\n",
       " '../../dataset/annotation/pits_stones_detections_111121/instances_default.json']"
      ]
     },
     "execution_count": 3,
     "metadata": {},
     "output_type": "execute_result"
    }
   ],
   "source": [
    "list_path_to_annotations = list(filter( lambda x: True if x.split('.')[-1] == 'json' else False, get_paths('../../dataset/annotation/')))\n",
    "len(list_path_to_annotations)\n",
    "list_path_to_annotations"
   ]
  },
  {
   "cell_type": "code",
   "execution_count": 330,
   "id": "5af414ae-5c0a-4e58-973a-18c2469a9f38",
   "metadata": {
    "tags": []
   },
   "outputs": [
    {
     "name": "stdout",
     "output_type": "stream",
     "text": [
      "loading annotations into memory...\n",
      "Done (t=0.01s)\n",
      "creating index...\n",
      "index created!\n",
      "1382 20\n"
     ]
    }
   ],
   "source": [
    "coco = COCO(list_path_to_annotations[5])\n",
    "print(len(coco.anns), len(coco.imgs))\n",
    "image_names = coco.imgs"
   ]
  },
  {
   "cell_type": "code",
   "execution_count": 331,
   "id": "6a25b5ec-dc3b-417d-9c2f-b8fc5c553c33",
   "metadata": {
    "tags": []
   },
   "outputs": [
    {
     "data": {
      "text/html": [
       "<div>\n",
       "<style scoped>\n",
       "    .dataframe tbody tr th:only-of-type {\n",
       "        vertical-align: middle;\n",
       "    }\n",
       "\n",
       "    .dataframe tbody tr th {\n",
       "        vertical-align: top;\n",
       "    }\n",
       "\n",
       "    .dataframe thead th {\n",
       "        text-align: right;\n",
       "    }\n",
       "</style>\n",
       "<table border=\"1\" class=\"dataframe\">\n",
       "  <thead>\n",
       "    <tr style=\"text-align: right;\">\n",
       "      <th></th>\n",
       "      <th>id</th>\n",
       "      <th>image_id</th>\n",
       "      <th>category_id</th>\n",
       "      <th>segmentation</th>\n",
       "      <th>area</th>\n",
       "      <th>bbox</th>\n",
       "      <th>iscrowd</th>\n",
       "      <th>attributes</th>\n",
       "    </tr>\n",
       "  </thead>\n",
       "  <tbody>\n",
       "    <tr>\n",
       "      <th>1</th>\n",
       "      <td>1</td>\n",
       "      <td>1</td>\n",
       "      <td>1</td>\n",
       "      <td>[[1887.52, 1901.07, 1877.18, 1862.02, 1877.18,...</td>\n",
       "      <td>11775.0</td>\n",
       "      <td>[1877.18, 1794.26, 169.97, 112.55]</td>\n",
       "      <td>0</td>\n",
       "      <td>{'occluded': False}</td>\n",
       "    </tr>\n",
       "    <tr>\n",
       "      <th>2</th>\n",
       "      <td>2</td>\n",
       "      <td>1</td>\n",
       "      <td>1</td>\n",
       "      <td>[[1848.47, 1771.29, 1864.55, 1751.77, 1901.3, ...</td>\n",
       "      <td>11800.0</td>\n",
       "      <td>[1848.47, 1740.29, 186.05, 106.8]</td>\n",
       "      <td>0</td>\n",
       "      <td>{'occluded': False}</td>\n",
       "    </tr>\n",
       "    <tr>\n",
       "      <th>3</th>\n",
       "      <td>3</td>\n",
       "      <td>1</td>\n",
       "      <td>1</td>\n",
       "      <td>[[1807.78, 1581.15, 1811.1, 1569.85, 1823.73, ...</td>\n",
       "      <td>16225.0</td>\n",
       "      <td>[1797.59, 1564.54, 173.02, 148.53]</td>\n",
       "      <td>0</td>\n",
       "      <td>{'occluded': False}</td>\n",
       "    </tr>\n",
       "    <tr>\n",
       "      <th>4</th>\n",
       "      <td>4</td>\n",
       "      <td>1</td>\n",
       "      <td>1</td>\n",
       "      <td>[[1232.53, 1607.68, 1248.18, 1587.2, 1288.15, ...</td>\n",
       "      <td>8112.0</td>\n",
       "      <td>[1232.53, 1580.31, 114.88, 112.09]</td>\n",
       "      <td>0</td>\n",
       "      <td>{'occluded': False}</td>\n",
       "    </tr>\n",
       "    <tr>\n",
       "      <th>5</th>\n",
       "      <td>5</td>\n",
       "      <td>1</td>\n",
       "      <td>1</td>\n",
       "      <td>[[1768.29, 731.8, 1779.31, 773.14, 1793.09, 80...</td>\n",
       "      <td>6889.0</td>\n",
       "      <td>[1768.29, 730.42, 130.92, 100.6]</td>\n",
       "      <td>0</td>\n",
       "      <td>{'occluded': False}</td>\n",
       "    </tr>\n",
       "    <tr>\n",
       "      <th>...</th>\n",
       "      <td>...</td>\n",
       "      <td>...</td>\n",
       "      <td>...</td>\n",
       "      <td>...</td>\n",
       "      <td>...</td>\n",
       "      <td>...</td>\n",
       "      <td>...</td>\n",
       "      <td>...</td>\n",
       "    </tr>\n",
       "    <tr>\n",
       "      <th>1378</th>\n",
       "      <td>1378</td>\n",
       "      <td>20</td>\n",
       "      <td>1</td>\n",
       "      <td>[[2331.48, 742.25, 2372.09, 730.51, 2370.29, 6...</td>\n",
       "      <td>9645.0</td>\n",
       "      <td>[2239.43, 632.14, 132.66, 110.11]</td>\n",
       "      <td>0</td>\n",
       "      <td>{'occluded': False}</td>\n",
       "    </tr>\n",
       "    <tr>\n",
       "      <th>1379</th>\n",
       "      <td>1379</td>\n",
       "      <td>20</td>\n",
       "      <td>1</td>\n",
       "      <td>[[863.33, 1063.37, 856.56, 1044.57, 863.33, 10...</td>\n",
       "      <td>12241.0</td>\n",
       "      <td>[738.49, 976.13, 124.84, 119.58]</td>\n",
       "      <td>0</td>\n",
       "      <td>{'occluded': False}</td>\n",
       "    </tr>\n",
       "    <tr>\n",
       "      <th>1380</th>\n",
       "      <td>1380</td>\n",
       "      <td>20</td>\n",
       "      <td>1</td>\n",
       "      <td>[[715.32, 1039.23, 733.37, 1015.16, 765.71, 98...</td>\n",
       "      <td>13249.0</td>\n",
       "      <td>[617.56, 912.13, 148.15, 127.1]</td>\n",
       "      <td>0</td>\n",
       "      <td>{'occluded': False}</td>\n",
       "    </tr>\n",
       "    <tr>\n",
       "      <th>1381</th>\n",
       "      <td>1381</td>\n",
       "      <td>20</td>\n",
       "      <td>1</td>\n",
       "      <td>[[227.84, 1503.32, 227.84, 1468.73, 279.73, 14...</td>\n",
       "      <td>21288.0</td>\n",
       "      <td>[126.32, 1316.1, 189.51, 187.22]</td>\n",
       "      <td>0</td>\n",
       "      <td>{'occluded': False}</td>\n",
       "    </tr>\n",
       "    <tr>\n",
       "      <th>1382</th>\n",
       "      <td>1382</td>\n",
       "      <td>20</td>\n",
       "      <td>1</td>\n",
       "      <td>[[1381.45, 1003.34, 1419.3, 997.93, 1454.99, 9...</td>\n",
       "      <td>19497.0</td>\n",
       "      <td>[1381.45, 990.36, 220.63, 137.36]</td>\n",
       "      <td>0</td>\n",
       "      <td>{'occluded': False}</td>\n",
       "    </tr>\n",
       "  </tbody>\n",
       "</table>\n",
       "<p>1382 rows × 8 columns</p>\n",
       "</div>"
      ],
      "text/plain": [
       "        id image_id category_id  \\\n",
       "1        1        1           1   \n",
       "2        2        1           1   \n",
       "3        3        1           1   \n",
       "4        4        1           1   \n",
       "5        5        1           1   \n",
       "...    ...      ...         ...   \n",
       "1378  1378       20           1   \n",
       "1379  1379       20           1   \n",
       "1380  1380       20           1   \n",
       "1381  1381       20           1   \n",
       "1382  1382       20           1   \n",
       "\n",
       "                                           segmentation     area  \\\n",
       "1     [[1887.52, 1901.07, 1877.18, 1862.02, 1877.18,...  11775.0   \n",
       "2     [[1848.47, 1771.29, 1864.55, 1751.77, 1901.3, ...  11800.0   \n",
       "3     [[1807.78, 1581.15, 1811.1, 1569.85, 1823.73, ...  16225.0   \n",
       "4     [[1232.53, 1607.68, 1248.18, 1587.2, 1288.15, ...   8112.0   \n",
       "5     [[1768.29, 731.8, 1779.31, 773.14, 1793.09, 80...   6889.0   \n",
       "...                                                 ...      ...   \n",
       "1378  [[2331.48, 742.25, 2372.09, 730.51, 2370.29, 6...   9645.0   \n",
       "1379  [[863.33, 1063.37, 856.56, 1044.57, 863.33, 10...  12241.0   \n",
       "1380  [[715.32, 1039.23, 733.37, 1015.16, 765.71, 98...  13249.0   \n",
       "1381  [[227.84, 1503.32, 227.84, 1468.73, 279.73, 14...  21288.0   \n",
       "1382  [[1381.45, 1003.34, 1419.3, 997.93, 1454.99, 9...  19497.0   \n",
       "\n",
       "                                    bbox iscrowd           attributes  \n",
       "1     [1877.18, 1794.26, 169.97, 112.55]       0  {'occluded': False}  \n",
       "2      [1848.47, 1740.29, 186.05, 106.8]       0  {'occluded': False}  \n",
       "3     [1797.59, 1564.54, 173.02, 148.53]       0  {'occluded': False}  \n",
       "4     [1232.53, 1580.31, 114.88, 112.09]       0  {'occluded': False}  \n",
       "5       [1768.29, 730.42, 130.92, 100.6]       0  {'occluded': False}  \n",
       "...                                  ...     ...                  ...  \n",
       "1378   [2239.43, 632.14, 132.66, 110.11]       0  {'occluded': False}  \n",
       "1379    [738.49, 976.13, 124.84, 119.58]       0  {'occluded': False}  \n",
       "1380     [617.56, 912.13, 148.15, 127.1]       0  {'occluded': False}  \n",
       "1381    [126.32, 1316.1, 189.51, 187.22]       0  {'occluded': False}  \n",
       "1382   [1381.45, 990.36, 220.63, 137.36]       0  {'occluded': False}  \n",
       "\n",
       "[1382 rows x 8 columns]"
      ]
     },
     "execution_count": 331,
     "metadata": {},
     "output_type": "execute_result"
    }
   ],
   "source": [
    "frame = pd.DataFrame({d['id']: d for d in json.load(open(list_path_to_annotations[5],'r'))['annotations']}).T\n",
    "frame"
   ]
  },
  {
   "cell_type": "code",
   "execution_count": null,
   "id": "cd9f64a0-4b25-40f2-b5fb-1e49644e1ca9",
   "metadata": {
    "tags": []
   },
   "outputs": [],
   "source": [
    "from typing import List, Union\n",
    "\n",
    "def image_segmentation_from_frame(frame: pd.DataFrame, img_id: int, category_id:int, images):\n",
    "    maska = (frame.image_id == img_id) & (frame.category_id == category_id)\n",
    "    h_img = images[img_id]['height']\n",
    "    w_img = images[img_id]['width']\n",
    "    return [{category_id: normalize_segment(np.array(list(s[0])), h_img, w_img)} for s in frame[maska].segmentation]\n",
    "\n",
    "def normalize_segment(segment, h_img, w_img):\n",
    "    segment[::2] /=w_img\n",
    "    segment[1::2]/=h_img\n",
    "    return segment\n",
    "\n",
    "p\n",
    "            \n",
    "img_id = 13\n",
    "s = image_segmentation_from_frame(frame, img_id, 1, image_names)\n",
    "save_segmentation(s,image_names[img_id]['file_name'].split('.')[-2] + '.txt')"
   ]
  },
  {
   "cell_type": "code",
   "execution_count": 332,
   "id": "0aa81372-dc98-4c9b-8243-6ddd55591162",
   "metadata": {},
   "outputs": [],
   "source": [
    "out_path = Path('/home/kirilman/Project/dataset/segmentation/seg/')"
   ]
  },
  {
   "cell_type": "code",
   "execution_count": null,
   "id": "9e2b8323-e793-48c6-b81b-5af92f8fcce8",
   "metadata": {},
   "outputs": [],
   "source": [
    "for k, v in image_names.items():\n",
    "    if isinstance(v, dict):\n",
    "        img_id = v['id']\n",
    "        segments = image_segmentation_from_frame(frame, img_id, 1,image_names)\n",
    "        filename = out_path \\ v['file_name'].split('.')[-2] + '.txt'\n",
    "        save_segmentation(segments, filename)"
   ]
  },
  {
   "cell_type": "code",
   "execution_count": null,
   "id": "54a753cf-73f4-44c0-8803-561661fa47bd",
   "metadata": {},
   "outputs": [],
   "source": [
    "arr_segment = np.array(segments[0][1])\n",
    "arr_segment[::2] = arr_segment[::2]/"
   ]
  },
  {
   "cell_type": "code",
   "execution_count": null,
   "id": "6151151b-c5ea-44a8-a304-3b15ad21e3ec",
   "metadata": {
    "tags": []
   },
   "outputs": [],
   "source": [
    "count_images = 0\n",
    "for path_2_anno in list_path_to_annotations:\n",
    "    coco = COCO(path_2_anno)\n",
    "    count_images+=len(coco.imgs)\n",
    "    print(len(coco.anns), len(coco.imgs))\n",
    "    image_names = coco.imgs\n",
    "    for k, image in image_names.items():\n",
    "        if isinstance(image, dict):\n",
    "            img_id = image['id']\n",
    "            segments = image_segmentation_from_frame(frame, img_id, 1,image_names)\n",
    "            filename = str(out_path / image['file_name'].split('/')[-1].split('.')[-2]) + '.txt'\n",
    "            # save_segmentation(segments, filename)\n",
    "            print(path_2_anno + image['file_name'])"
   ]
  },
  {
   "cell_type": "code",
   "execution_count": 335,
   "id": "36e2c6fb-2877-4bfd-805a-01b7cb16ec2f",
   "metadata": {
    "tags": []
   },
   "outputs": [],
   "source": [
    "sys.path.append('/home/kirilman/Project/asbestos/dataset')\n",
    "from dataset import is_image\n",
    "from dataset.processor import JsonSegmentProcessing\n",
    "import shutil"
   ]
  },
  {
   "cell_type": "code",
   "execution_count": 343,
   "id": "fbe76ea1-9ad8-4275-9df3-c0296906cea8",
   "metadata": {},
   "outputs": [],
   "source": [
    "!rm -r /home/kirilman/Project/dataset/segmentation/seg/*.txt"
   ]
  },
  {
   "cell_type": "code",
   "execution_count": 344,
   "id": "075bd5c8-ed72-4868-b260-dc0580363a17",
   "metadata": {},
   "outputs": [
    {
     "data": {
      "text/plain": [
       "['../../dataset/annotation/pits_stones_detections_300920/instances_default.json',\n",
       " '../../dataset/annotation/asbestos_stone_161220/instances_default.json',\n",
       " '../../dataset/annotation/pits_stones_detections_020221/instances_default.json',\n",
       " '../../dataset/annotation/pits_stones_detections_161120/instances_default.json',\n",
       " '../../dataset/annotation/open-pit-zoomed-161120/instances_default.json',\n",
       " '../../dataset/annotation/pits_stones_detections_161220/instances_default.json',\n",
       " '../../dataset/annotation/test transport/annotations/instances_default.json',\n",
       " '../../dataset/annotation/asbestos_stone_020221/instances_default.json',\n",
       " '../../dataset/annotation/asbest_stones_111121/instances_default.json',\n",
       " '../../dataset/annotation/pits_stones_detections_111121/instances_default.json']"
      ]
     },
     "execution_count": 344,
     "metadata": {},
     "output_type": "execute_result"
    }
   ],
   "source": [
    "list_path_to_annotations"
   ]
  },
  {
   "cell_type": "code",
   "execution_count": 345,
   "id": "686d2d91-d935-4935-b90b-49befa0f3693",
   "metadata": {
    "tags": []
   },
   "outputs": [
    {
     "name": "stdout",
     "output_type": "stream",
     "text": [
      "../../dataset/annotation/open-pit-zoomed-161120/instances_default.json\n",
      "../../dataset/annotation/pits_stones_detections_161220/instances_default.json\n"
     ]
    }
   ],
   "source": [
    "s = 0\n",
    "unused = ['../../dataset/annotation/open-pit-zoomed-161120/instances_default.json', '../../dataset/annotation/pits_stones_detections_161220/instances_default.json']\n",
    "for p in list_path_to_annotations:\n",
    "    if p in unused:\n",
    "        print(p)\n",
    "        continue\n",
    "    proccesor = JsonSegmentProcessing(p, 1, '/home/kirilman/Project/dataset/segmentation/seg/')\n",
    "    proccesor.process() "
   ]
  },
  {
   "cell_type": "code",
   "execution_count": 358,
   "id": "9195e2c9-ea4b-4f56-99c3-4b485cdefb04",
   "metadata": {
    "tags": []
   },
   "outputs": [
    {
     "name": "stdout",
     "output_type": "stream",
     "text": [
      "Количество меток: 350\n"
     ]
    }
   ],
   "source": [
    "print('Количество меток:', \n",
    "len(list(filter( lambda x: True if x.split('.')[-1] == 'txt' else False, os.listdir('/home/kirilman/Project/dataset/segmentation/seg/')))) )"
   ]
  },
  {
   "cell_type": "code",
   "execution_count": 363,
   "id": "ab734916-9751-49ca-b41e-16002724bc63",
   "metadata": {},
   "outputs": [
    {
     "name": "stdout",
     "output_type": "stream",
     "text": [
      "['../../dataset/annotation/open-pit-zoomed-161120/instances_default.json', '../../dataset/annotation/pits_stones_detections_161220/instances_default.json']\n"
     ]
    }
   ],
   "source": [
    "print(unused)\n",
    "for p in unused:\n",
    "    proccesor = JsonSegmentProcessing(p,\n",
    "                                  1, '/home/kirilman/Project/dataset/segmentation/test/')\n",
    "    proccesor.process()"
   ]
  },
  {
   "cell_type": "code",
   "execution_count": 361,
   "id": "a6392dd6-f502-4049-a291-3e22c17ca630",
   "metadata": {
    "tags": []
   },
   "outputs": [
    {
     "data": {
      "text/plain": [
       "350"
      ]
     },
     "execution_count": 361,
     "metadata": {},
     "output_type": "execute_result"
    }
   ],
   "source": [
    "image_files = list(filter( lambda x: True if x.split('.')[-1] != 'txt' else False, get_paths('../../dataset/segmentation/seg/')))\n",
    "label_files = list(filter( lambda x: True if x.split('.')[-1] == 'txt' else False, get_paths('../../dataset/segmentation/seg/')))\n",
    "images = {}\n",
    "for image_file in image_files:\n",
    "    for label in label_files:\n",
    "        if image_file.split('.')[-2] in label:\n",
    "            images[label] = image_file\n",
    "len(images)"
   ]
  },
  {
   "cell_type": "code",
   "execution_count": 362,
   "id": "59b5bff4-3dca-4bb9-844d-b770c51b03b2",
   "metadata": {},
   "outputs": [
    {
     "name": "stdout",
     "output_type": "stream",
     "text": [
      "350 35.0\n"
     ]
    }
   ],
   "source": [
    "root_path = Path('/home/kirilman/Project/dataset/segmentation/')\n",
    "count = len(label_files)\n",
    "print(count, count*0.1)\n",
    "val_index = np.random.choice(label_files,35)\n",
    "\n",
    "for f_label, f_image in images.items():\n",
    "    if f_label in val_index:\n",
    "        shutil.copy(f_label, root_path / 'val' / Path(f_label).name)\n",
    "        shutil.copy(f_image, root_path / 'val' / Path(f_image).name)\n",
    "    else:\n",
    "        shutil.copy(f_label, root_path / 'train' / Path(f_label).name)\n",
    "        shutil.copy(f_image, root_path / 'train' / Path(f_image).name)"
   ]
  },
  {
   "cell_type": "code",
   "execution_count": null,
   "id": "a08385d1-24d7-4aaa-bbda-eccbbe11e58e",
   "metadata": {},
   "outputs": [],
   "source": [
    "for root in unused:\n",
    "    for f in os.listdir(Path(root).parent):\n",
    "        save_path = Path('/home/kirilman/Project/dataset/segmentation/test') / f.name\n",
    "        shutil.copy(Path(root) + Path(f).name, save_path)"
   ]
  },
  {
   "cell_type": "code",
   "execution_count": 383,
   "id": "31d21625-3f36-4c66-9b90-d0429bb0f580",
   "metadata": {},
   "outputs": [
    {
     "data": {
      "text/plain": [
       "['../../dataset/annotation/open-pit-zoomed-161120/instances_default.json',\n",
       " '../../dataset/annotation/pits_stones_detections_161220/instances_default.json']"
      ]
     },
     "execution_count": 383,
     "metadata": {},
     "output_type": "execute_result"
    }
   ],
   "source": [
    "unused"
   ]
  },
  {
   "cell_type": "code",
   "execution_count": 7,
   "id": "6a11e5e0-8906-43e2-9119-e8e198eda0fd",
   "metadata": {},
   "outputs": [],
   "source": [
    "from dataset.preprossesing import resize_images\n",
    "import cv2"
   ]
  },
  {
   "cell_type": "markdown",
   "id": "a02a21cd-4807-41a9-a4fd-8237f610ae17",
   "metadata": {},
   "source": [
    "### Merge annotation from train and prediction-segment"
   ]
  },
  {
   "cell_type": "code",
   "execution_count": 325,
   "id": "b67eb79d-270c-42f5-99ab-4b97d3de2b34",
   "metadata": {},
   "outputs": [
    {
     "name": "stdout",
     "output_type": "stream",
     "text": [
      "318 318\n"
     ]
    }
   ],
   "source": [
    "train_files = list(filter( lambda x: True if x.split('.')[-1] == 'txt' else False, get_paths('../../dataset/segmentation/merge/train/')))\n",
    "predict_file = list(filter( lambda x: True if x.split('.')[-1] == 'txt' else False, get_paths('../yolov5/runs/predict-seg/exp4/labels')))\n",
    "print(len(train_files), len(predict_file))"
   ]
  },
  {
   "cell_type": "code",
   "execution_count": 286,
   "id": "579095b7-b229-4a3a-bae6-2b894867ddd8",
   "metadata": {},
   "outputs": [
    {
     "name": "stdout",
     "output_type": "stream",
     "text": [
      "32 32\n"
     ]
    }
   ],
   "source": [
    "train_files = list(filter( lambda x: True if x.split('.')[-1] == 'txt' else False, get_paths('../../dataset/segmentation/merge/val/')))\n",
    "predict_file = list(filter( lambda x: True if x.split('.')[-1] == 'txt' else False, get_paths('../yolov5/runs/predict-seg/exp5/')))\n",
    "print(len(train_files), len(predict_file))"
   ]
  },
  {
   "cell_type": "code",
   "execution_count": 326,
   "id": "44307008-fa51-4f81-8976-da8c81e207dc",
   "metadata": {},
   "outputs": [],
   "source": [
    "labels = []\n",
    "for train, pred in zip(train_files, predict_file):\n",
    "    # print(train, pred)\n",
    "    with open(train, 'a') as f_train:\n",
    "        with open(pred, 'r') as f_pred:\n",
    "            labels = f_pred.readlines()\n",
    "            for label in labels:\n",
    "                arr_label = np.fromstring(label, sep = ' ')\n",
    "                arr_label[1:] = arr_label[1:]/1024\n",
    "        \n",
    "                f_train.write(to_string(arr_label))\n",
    "                            "
   ]
  },
  {
   "cell_type": "code",
   "execution_count": 280,
   "id": "9fd15289-d87b-4e6d-8688-904cfa0ece21",
   "metadata": {},
   "outputs": [
    {
     "name": "stdout",
     "output_type": "stream",
     "text": [
      "43\n"
     ]
    },
    {
     "data": {
      "text/plain": [
       "(0.0, 1.0)"
      ]
     },
     "execution_count": 280,
     "metadata": {},
     "output_type": "execute_result"
    },
    {
     "data": {
      "image/png": "[encoded data removed]",
      "text/plain": [
       "<Figure size 720x720 with 1 Axes>"
      ]
     },
     "metadata": {
      "needs_background": "light"
     },
     "output_type": "display_data"
    }
   ],
   "source": [
    "with open('../../dataset/segmentation/merge/1_12_09_40_05-03-2020_1.txt', 'r') as f:\n",
    "    labels = f.readlines()\n",
    "from matplotlib.patches import Polygon\n",
    "import matplotlib.pyplot as plt\n",
    "\n",
    "# polygon1 = Polygon([(0,1), (1,1), (3,0),])\n",
    "\n",
    "fig, ax = plt.subplots(1,1, figsize = (10,10))\n",
    "for i,label in enumerate(labels):\n",
    "    label = np.fromstring(label, sep=' ')[1:]\n",
    "    polygon1 = Polygon([(x,y) for x,y in zip(label[0::2],label[1::2])])\n",
    "    polygon1\n",
    "    ax.add_patch(polygon1)\n",
    "print(i)   \n",
    "plt.ylim(0,1)\n",
    "plt.xlim(0,1)"
   ]
  },
  {
   "cell_type": "code",
   "execution_count": 155,
   "id": "344ecd05-32a0-4154-a4a7-3c82c44415f0",
   "metadata": {},
   "outputs": [
    {
     "name": "stdout",
     "output_type": "stream",
     "text": [
      "100\n"
     ]
    },
    {
     "data": {
      "text/plain": [
       "(0.0, 1.0)"
      ]
     },
     "execution_count": 155,
     "metadata": {},
     "output_type": "execute_result"
    },
    {
     "data": {
      "image/png": "[encoded data removed]",
      "text/plain": [
       "<Figure size 720x720 with 1 Axes>"
      ]
     },
     "metadata": {
      "needs_background": "light"
     },
     "output_type": "display_data"
    }
   ],
   "source": [
    "with open('../yolov5/runs/predict-seg/exp4/labels/637412006957367334.txt', 'r') as f:\n",
    "    labels = f.readlines()\n",
    "    \n",
    "from matplotlib.patches import Polygon\n",
    "import matplotlib.pyplot as plt\n",
    "\n",
    "# polygon1 = Polygon([(0,1), (1,1), (3,0),])\n",
    "\n",
    "fig, ax = plt.subplots(1,1, figsize = (10,10))\n",
    "for i,label in enumerate(labels):\n",
    "    label = np.fromstring(label, sep=' ')[1:]/1024\n",
    "    polygon1 = Polygon([(x,y) for x,y in zip(label[0::2],label[1::2])])\n",
    "    area = sPolygon([(x,y) for x,y in zip(label[0::2],label[1::2])]).area\n",
    "    if area > 0.005:\n",
    "        ax.add_patch(polygon1)\n",
    "    # if area > 0.00:\n",
    "    #     ax.add_patch(polygon1)\n",
    "print(i)   \n",
    "plt.ylim(0,1)\n",
    "plt.xlim(0,1)"
   ]
  },
  {
   "cell_type": "markdown",
   "id": "3914dc9b-5478-4609-9c4b-95b11611e165",
   "metadata": {},
   "source": [
    "### Segmentation filter, squre analyse"
   ]
  },
  {
   "cell_type": "code",
   "execution_count": 10,
   "id": "c17a2b37-82ea-4b20-8d51-0661c5257a3e",
   "metadata": {},
   "outputs": [
    {
     "data": {
      "text/plain": [
       "2.0"
      ]
     },
     "execution_count": 10,
     "metadata": {},
     "output_type": "execute_result"
    }
   ],
   "source": [
    "from shapely.geometry import Polygon as sPolygon\n",
    "from dataset.path_utils import get_paths_from_dirs\n",
    "from dataset.processor import SegmentSquareFilter\n",
    "# !pip install shapely\n",
    "sPolygon([(0,0),(2,0),(1,1), (0,2)]).area"
   ]
  },
  {
   "cell_type": "code",
   "execution_count": 11,
   "id": "771a6b33-e77d-4e08-a732-0b8732799c95",
   "metadata": {},
   "outputs": [
    {
     "name": "stdout",
     "output_type": "stream",
     "text": [
      "9487 0.01745830167228839 0.004327205\n"
     ]
    },
    {
     "data": {
      "text/plain": [
       "(0.01, 0.4)"
      ]
     },
     "execution_count": 11,
     "metadata": {},
     "output_type": "execute_result"
    },
    {
     "data": {
      "image/png": "[encoded data removed]",
      "text/plain": [
       "<Figure size 1400x400 with 1 Axes>"
      ]
     },
     "metadata": {
      "needs_background": "light"
     },
     "output_type": "display_data"
    }
   ],
   "source": [
    "def read_segmentation_labels(p: PathLike):\n",
    "    with open(p, 'r') as f:\n",
    "        lines = f.readlines()\n",
    "        return [np.fromstring(line, sep=' ') for line in lines]\n",
    "\n",
    "files = get_paths_from_dirs(['../../dataset/segmentation/train/'], ['txt'])\n",
    "areas = []\n",
    "\n",
    "for f in files:\n",
    "    labels = read_segmentation_labels(f)\n",
    "    for label in labels:\n",
    "        mask = label[1:]\n",
    "        p = sPolygon([(x,y) for x,y in zip(mask[0::2], mask[1::2])] )\n",
    "        areas+=[p.area]\n",
    "areas = np.array(areas)\n",
    "\n",
    "print(len(areas), areas.mean(), np.median(areas))\n",
    "fig = plt.figure(figsize=(14,4),dpi = 100)\n",
    "plt.hist(areas,60);\n",
    "plt.ylim(0,600)\n",
    "plt.xlim(0.01,0.4)"
   ]
  },
  {
   "cell_type": "code",
   "execution_count": 12,
   "id": "6861e0eb-35c9-4a44-ae4f-39873fb8f9b1",
   "metadata": {},
   "outputs": [],
   "source": [
    "seg = SegmentSquareFilter(files[12], './test/', 0.005)\n",
    "seg.process()"
   ]
  },
  {
   "cell_type": "code",
   "execution_count": 10,
   "id": "def2dd89-5e49-4261-b612-5f4572e875c5",
   "metadata": {},
   "outputs": [
    {
     "data": {
      "text/plain": [
       "'15_14_00_15_05-03-2020_1.txt'"
      ]
     },
     "execution_count": 10,
     "metadata": {},
     "output_type": "execute_result"
    }
   ],
   "source": []
  }
 ],
 "metadata": {
  "kernelspec": {
   "display_name": "Python 3 (ipykernel)",
   "language": "python",
   "name": "python3"
  },
  "language_info": {
   "codemirror_mode": {
    "name": "ipython",
    "version": 3
   },
   "file_extension": ".py",
   "mimetype": "text/x-python",
   "name": "python",
   "nbconvert_exporter": "python",
   "pygments_lexer": "ipython3",
   "version": "3.9.12"
  }
 },
 "nbformat": 4,
 "nbformat_minor": 5
}
